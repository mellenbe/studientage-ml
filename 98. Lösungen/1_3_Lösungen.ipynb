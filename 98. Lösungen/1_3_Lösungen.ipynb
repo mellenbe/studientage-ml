{
 "cells": [
  {
   "cell_type": "markdown",
   "source": [
    "# Lösungen zu den Aufgaben 1.3\n",
    "\n",
    "- Laden Sie die Daten ../../data/atlantis.csv in einen DataFrame mit namen df\n",
    "- Wieviele Zeilen und Spalten hat der DataFrame?\n",
    "- Geben Sie die Spaltentitel aus\n",
    "- Welche Datentypen haben die Daten der jeweiligen Spalten\n",
    "- Wie groß ist die durchschnittliche \"population\"?\n",
    "- Geben Sie nur Zeilen aus, mit einer Population > 25.000"
   ],
   "metadata": {
    "collapsed": false
   },
   "id": "37d0657b6bd1053c"
  },
  {
   "cell_type": "code",
   "execution_count": 6,
   "outputs": [],
   "source": [
    "# Die Pandas Bibliothek muss installiert sein und wird hier über den import Befehl geladen.\n",
    "import pandas as pd\n",
    "\n",
    "# Hinweis: Der Pfadname ergibt sich aus der Projektstruktur\n",
    "df = pd.read_csv('../data/atlantis.csv')"
   ],
   "metadata": {
    "collapsed": false,
    "ExecuteTime": {
     "end_time": "2023-11-29T09:38:29.847199Z",
     "start_time": "2023-11-29T09:38:29.841991Z"
    }
   },
   "id": "782cd4dd4e433760"
  },
  {
   "cell_type": "code",
   "execution_count": 7,
   "outputs": [
    {
     "name": "stdout",
     "output_type": "stream",
     "text": [
      "population\n",
      "year\n"
     ]
    }
   ],
   "source": [
    "for col in df.columns.sort_values():\n",
    "    print(col)"
   ],
   "metadata": {
    "collapsed": false,
    "ExecuteTime": {
     "end_time": "2023-11-29T09:38:30.292924Z",
     "start_time": "2023-11-29T09:38:30.288748Z"
    }
   },
   "id": "e5717d7795ca7c4f"
  },
  {
   "cell_type": "code",
   "execution_count": 8,
   "outputs": [
    {
     "name": "stdout",
     "output_type": "stream",
     "text": [
      "<class 'pandas.core.frame.DataFrame'>\n",
      "RangeIndex: 22 entries, 0 to 21\n",
      "Data columns (total 2 columns):\n",
      " #   Column      Non-Null Count  Dtype\n",
      "---  ------      --------------  -----\n",
      " 0   year        22 non-null     int64\n",
      " 1   population  22 non-null     int64\n",
      "dtypes: int64(2)\n",
      "memory usage: 480.0 bytes\n"
     ]
    }
   ],
   "source": [
    "df.info()"
   ],
   "metadata": {
    "collapsed": false,
    "ExecuteTime": {
     "end_time": "2023-11-29T09:38:34.326637Z",
     "start_time": "2023-11-29T09:38:34.320464Z"
    }
   },
   "id": "c640fe56f26ba610"
  },
  {
   "cell_type": "code",
   "execution_count": 9,
   "outputs": [
    {
     "data": {
      "text/plain": "              year    population\ncount    22.000000     22.000000\nmean   2010.500000  22418.181818\nstd       6.493587   7100.411548\nmin    2000.000000  12400.000000\n25%    2005.250000  16100.000000\n50%    2010.500000  21800.000000\n75%    2015.750000  27750.000000\nmax    2021.000000  33800.000000",
      "text/html": "<div>\n<style scoped>\n    .dataframe tbody tr th:only-of-type {\n        vertical-align: middle;\n    }\n\n    .dataframe tbody tr th {\n        vertical-align: top;\n    }\n\n    .dataframe thead th {\n        text-align: right;\n    }\n</style>\n<table border=\"1\" class=\"dataframe\">\n  <thead>\n    <tr style=\"text-align: right;\">\n      <th></th>\n      <th>year</th>\n      <th>population</th>\n    </tr>\n  </thead>\n  <tbody>\n    <tr>\n      <th>count</th>\n      <td>22.000000</td>\n      <td>22.000000</td>\n    </tr>\n    <tr>\n      <th>mean</th>\n      <td>2010.500000</td>\n      <td>22418.181818</td>\n    </tr>\n    <tr>\n      <th>std</th>\n      <td>6.493587</td>\n      <td>7100.411548</td>\n    </tr>\n    <tr>\n      <th>min</th>\n      <td>2000.000000</td>\n      <td>12400.000000</td>\n    </tr>\n    <tr>\n      <th>25%</th>\n      <td>2005.250000</td>\n      <td>16100.000000</td>\n    </tr>\n    <tr>\n      <th>50%</th>\n      <td>2010.500000</td>\n      <td>21800.000000</td>\n    </tr>\n    <tr>\n      <th>75%</th>\n      <td>2015.750000</td>\n      <td>27750.000000</td>\n    </tr>\n    <tr>\n      <th>max</th>\n      <td>2021.000000</td>\n      <td>33800.000000</td>\n    </tr>\n  </tbody>\n</table>\n</div>"
     },
     "execution_count": 9,
     "metadata": {},
     "output_type": "execute_result"
    }
   ],
   "source": [
    "df.describe()"
   ],
   "metadata": {
    "collapsed": false,
    "ExecuteTime": {
     "end_time": "2023-11-29T09:38:50.495583Z",
     "start_time": "2023-11-29T09:38:50.483134Z"
    }
   },
   "id": "557a50a27f7ac3f2"
  },
  {
   "cell_type": "code",
   "execution_count": 12,
   "outputs": [
    {
     "data": {
      "text/plain": "    year  population\n14  2014       25800\n15  2015       26100\n16  2016       28300\n17  2017       29600\n18  2018       32100\n19  2019       32500\n20  2020       33200\n21  2021       33800",
      "text/html": "<div>\n<style scoped>\n    .dataframe tbody tr th:only-of-type {\n        vertical-align: middle;\n    }\n\n    .dataframe tbody tr th {\n        vertical-align: top;\n    }\n\n    .dataframe thead th {\n        text-align: right;\n    }\n</style>\n<table border=\"1\" class=\"dataframe\">\n  <thead>\n    <tr style=\"text-align: right;\">\n      <th></th>\n      <th>year</th>\n      <th>population</th>\n    </tr>\n  </thead>\n  <tbody>\n    <tr>\n      <th>14</th>\n      <td>2014</td>\n      <td>25800</td>\n    </tr>\n    <tr>\n      <th>15</th>\n      <td>2015</td>\n      <td>26100</td>\n    </tr>\n    <tr>\n      <th>16</th>\n      <td>2016</td>\n      <td>28300</td>\n    </tr>\n    <tr>\n      <th>17</th>\n      <td>2017</td>\n      <td>29600</td>\n    </tr>\n    <tr>\n      <th>18</th>\n      <td>2018</td>\n      <td>32100</td>\n    </tr>\n    <tr>\n      <th>19</th>\n      <td>2019</td>\n      <td>32500</td>\n    </tr>\n    <tr>\n      <th>20</th>\n      <td>2020</td>\n      <td>33200</td>\n    </tr>\n    <tr>\n      <th>21</th>\n      <td>2021</td>\n      <td>33800</td>\n    </tr>\n  </tbody>\n</table>\n</div>"
     },
     "execution_count": 12,
     "metadata": {},
     "output_type": "execute_result"
    }
   ],
   "source": [
    "df[df.population > 25000]"
   ],
   "metadata": {
    "collapsed": false,
    "ExecuteTime": {
     "end_time": "2023-11-29T09:42:04.578094Z",
     "start_time": "2023-11-29T09:42:04.572835Z"
    }
   },
   "id": "7a7c9bddc08b74cc"
  },
  {
   "cell_type": "code",
   "execution_count": null,
   "outputs": [],
   "source": [],
   "metadata": {
    "collapsed": false
   },
   "id": "e59af81ba53233ae"
  }
 ],
 "metadata": {
  "kernelspec": {
   "display_name": "Python 3",
   "language": "python",
   "name": "python3"
  },
  "language_info": {
   "codemirror_mode": {
    "name": "ipython",
    "version": 2
   },
   "file_extension": ".py",
   "mimetype": "text/x-python",
   "name": "python",
   "nbconvert_exporter": "python",
   "pygments_lexer": "ipython2",
   "version": "2.7.6"
  }
 },
 "nbformat": 4,
 "nbformat_minor": 5
}
