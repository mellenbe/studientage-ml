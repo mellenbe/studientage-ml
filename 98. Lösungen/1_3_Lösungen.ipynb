{
 "cells": [
  {
   "cell_type": "markdown",
   "id": "37d0657b6bd1053c",
   "metadata": {
    "collapsed": false,
    "jupyter": {
     "outputs_hidden": false
    }
   },
   "source": [
    "# Lösungen zu den Aufgaben 1.3\n",
    "\n",
    "- Laden Sie die Daten ../../data/atlantis.csv in einen DataFrame mit namen df\n",
    "- Wieviele Zeilen und Spalten hat der DataFrame?\n",
    "- Geben Sie die Spaltentitel aus\n",
    "- Welche Datentypen haben die Daten der jeweiligen Spalten\n",
    "- Wie groß ist die durchschnittliche \"population\"?\n",
    "- Geben Sie nur Zeilen aus, mit einer Population > 25.000"
   ]
  },
  {
   "cell_type": "code",
   "execution_count": null,
   "id": "782cd4dd4e433760",
   "metadata": {
    "ExecuteTime": {
     "end_time": "2023-11-29T09:38:29.847199Z",
     "start_time": "2023-11-29T09:38:29.841991Z"
    },
    "collapsed": false,
    "jupyter": {
     "outputs_hidden": false
    }
   },
   "outputs": [],
   "source": [
    "# Die Pandas Bibliothek muss installiert sein und wird hier über den import Befehl geladen.\n",
    "import pandas as pd\n",
    "\n",
    "# Hinweis: Der Pfadname ergibt sich aus der Projektstruktur\n",
    "df = pd.read_csv('../data/atlantis.csv')"
   ]
  },
  {
   "cell_type": "code",
   "execution_count": null,
   "id": "e5717d7795ca7c4f",
   "metadata": {
    "ExecuteTime": {
     "end_time": "2023-11-29T09:38:30.292924Z",
     "start_time": "2023-11-29T09:38:30.288748Z"
    },
    "collapsed": false,
    "jupyter": {
     "outputs_hidden": false
    }
   },
   "outputs": [],
   "source": [
    "for col in df.columns.sort_values():\n",
    "    print(col)"
   ]
  },
  {
   "cell_type": "code",
   "execution_count": null,
   "id": "c640fe56f26ba610",
   "metadata": {
    "ExecuteTime": {
     "end_time": "2023-11-29T09:38:34.326637Z",
     "start_time": "2023-11-29T09:38:34.320464Z"
    },
    "collapsed": false,
    "jupyter": {
     "outputs_hidden": false
    }
   },
   "outputs": [],
   "source": [
    "df.info()"
   ]
  },
  {
   "cell_type": "code",
   "execution_count": null,
   "id": "557a50a27f7ac3f2",
   "metadata": {
    "ExecuteTime": {
     "end_time": "2023-11-29T09:38:50.495583Z",
     "start_time": "2023-11-29T09:38:50.483134Z"
    },
    "collapsed": false,
    "jupyter": {
     "outputs_hidden": false
    }
   },
   "outputs": [],
   "source": [
    "df.describe()"
   ]
  },
  {
   "cell_type": "code",
   "execution_count": null,
   "id": "7a7c9bddc08b74cc",
   "metadata": {
    "ExecuteTime": {
     "end_time": "2023-11-29T09:42:04.578094Z",
     "start_time": "2023-11-29T09:42:04.572835Z"
    },
    "collapsed": false,
    "jupyter": {
     "outputs_hidden": false
    }
   },
   "outputs": [],
   "source": [
    "df[df.population > 25000]"
   ]
  }
 ],
 "metadata": {
  "kernelspec": {
   "display_name": "Python 3 (ipykernel)",
   "language": "python",
   "name": "python3"
  },
  "language_info": {
   "codemirror_mode": {
    "name": "ipython",
    "version": 3
   },
   "file_extension": ".py",
   "mimetype": "text/x-python",
   "name": "python",
   "nbconvert_exporter": "python",
   "pygments_lexer": "ipython3",
   "version": "3.10.14"
  }
 },
 "nbformat": 4,
 "nbformat_minor": 5
}
