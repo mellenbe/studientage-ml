{
 "cells": [
  {
   "cell_type": "code",
   "execution_count": null,
   "id": "1c8f01f4b9068e9a",
   "metadata": {
    "ExecuteTime": {
     "end_time": "2024-04-11T11:52:22.240004Z",
     "start_time": "2024-04-11T11:52:22.224373Z"
    },
    "collapsed": false,
    "jupyter": {
     "outputs_hidden": false
    }
   },
   "outputs": [],
   "source": [
    "#import some necessary librairies\n",
    "\n",
    "import numpy as np # linear algebra\n",
    "import pandas as pd # data processing, CSV file I/O (e.g. pd.read_csv)\n",
    "%matplotlib inline\n",
    "import matplotlib.pyplot as plt  # Matlab-style plotting\n",
    "import seaborn as sns\n",
    "color = sns.color_palette()\n",
    "sns.set_style('darkgrid')\n",
    "import warnings\n",
    "def ignore_warn(*args, **kwargs):\n",
    "    pass\n",
    "warnings.warn = ignore_warn #ignore annoying warning (from sklearn and seaborn)\n",
    "\n",
    "\n",
    "from scipy import stats\n",
    "from scipy.stats import norm, skew #for some statistics\n",
    "\n",
    "\n",
    "pd.set_option('display.float_format', lambda x: '{:.3f}'.format(x)) #Limiting floats output to 3 decimal points\n",
    "\n",
    "\n",
    "#from subprocess import check_output\n",
    "#print(check_output([\"ls\", \"../data/house-prices-advanced-regression-techniques\"]).decode(\"utf8\")) #check the files available in the directory\n",
    "\n",
    "import pickle"
   ]
  },
  {
   "cell_type": "markdown",
   "id": "9dd8102b55864193",
   "metadata": {
    "collapsed": false,
    "jupyter": {
     "outputs_hidden": false
    }
   },
   "source": [
    "# Daten initial laden\n"
   ]
  },
  {
   "cell_type": "code",
   "execution_count": null,
   "id": "7b5aaad93ab1a07e",
   "metadata": {
    "ExecuteTime": {
     "end_time": "2024-04-11T11:52:23.854927Z",
     "start_time": "2024-04-11T11:52:23.808168Z"
    },
    "collapsed": false,
    "jupyter": {
     "outputs_hidden": false
    }
   },
   "outputs": [],
   "source": [
    "train = pd.read_csv('../data/house-prices-advanced-regression-techniques/train.csv')\n",
    "test = pd.read_csv('../data/house-prices-advanced-regression-techniques/test.csv')\n",
    "\n",
    "print(\"Dimension des Trainingssets: \" + str (train.shape))\n",
    "print(\"Dimension des Testsets: \" + str (test.shape))"
   ]
  },
  {
   "cell_type": "markdown",
   "id": "98aeb4fa374151e6",
   "metadata": {
    "collapsed": false,
    "jupyter": {
     "outputs_hidden": false
    }
   },
   "source": [
    "# Scatterplot 1stFlrSF <> SalePrice"
   ]
  },
  {
   "cell_type": "code",
   "execution_count": null,
   "id": "initial_id",
   "metadata": {
    "ExecuteTime": {
     "end_time": "2024-04-11T11:52:26.034502Z",
     "start_time": "2024-04-11T11:52:25.877896Z"
    },
    "collapsed": false,
    "jupyter": {
     "outputs_hidden": false
    }
   },
   "outputs": [],
   "source": [
    "fig, ax = plt.subplots()\n",
    "ax.scatter(x = train['1stFlrSF'], y = train['SalePrice'], label=\"1stFlrSF\", c=\"lightseagreen\", s=3)\n",
    "ax.scatter(x = train['2ndFlrSF'], y = train['SalePrice'], label=\"2ndFlrSF\", c=\"darkorange\", s=3)\n",
    "\n",
    "plt.ylabel('SalePrice', fontsize=13)\n",
    "plt.xlabel('1stFlrSF | 2ndFlrSF', fontsize=13)\n",
    "plt.legend(loc='upper left')\n",
    "plt.show()"
   ]
  },
  {
   "cell_type": "markdown",
   "id": "f30b76e46a48145",
   "metadata": {
    "collapsed": false,
    "jupyter": {
     "outputs_hidden": false
    }
   },
   "source": [
    "# Überlegungen\n",
    "\n",
    "- Einige der Objekte haben kein zweites Obergeschoss. \n",
    "- Es besteht ein offensichtlicher Zusammenhang zwischen der Grundfläche und dem Verkaufspreis\n",
    "- Es gibt einige ungünstige Ausreißer (sehr große Grundfläche bei sehr niedrigem Preis)\n",
    "- Die Korrelation-Matrix hat gezeigt, dass eine hohe Korrelation zwischen 1stFlrSF bzw. 2ndFlrSF und GrLivArea besteht. Es ist davon auszugehen, dass durch das Entfernen der Ausreißer von GrLivArea auch die Ausreißer von 1stFrlrSF bzw. 2ndFlrSF verschwinden / verkleinert werden."
   ]
  },
  {
   "cell_type": "markdown",
   "id": "61dbd0d1355cd513",
   "metadata": {
    "collapsed": false,
    "jupyter": {
     "outputs_hidden": false
    }
   },
   "source": [
    "# Nachweis"
   ]
  },
  {
   "cell_type": "code",
   "execution_count": null,
   "id": "ab58028460925e5e",
   "metadata": {
    "collapsed": false,
    "jupyter": {
     "outputs_hidden": false
    }
   },
   "outputs": [],
   "source": [
    "train = train.drop(train[(train['GrLivArea']>4000) & (train['SalePrice']<300000)].index)"
   ]
  },
  {
   "cell_type": "code",
   "execution_count": null,
   "id": "15aaafac3471fa5e",
   "metadata": {
    "collapsed": false,
    "jupyter": {
     "outputs_hidden": false
    }
   },
   "outputs": [],
   "source": [
    "fig, ax = plt.subplots()\n",
    "ax.scatter(x = train['1stFlrSF'], y = train['SalePrice'], label=\"1stFlrSF\", c=\"lightseagreen\", s=3)\n",
    "ax.scatter(x = train['2ndFlrSF'], y = train['SalePrice'], label=\"2ndFlrSF\", c=\"darkorange\", s=3)\n",
    "\n",
    "plt.ylabel('SalePrice', fontsize=13)\n",
    "plt.xlabel('1stFlrSF | 2ndFlrSF', fontsize=13)\n",
    "plt.legend(loc='upper left')\n",
    "plt.show()"
   ]
  },
  {
   "cell_type": "markdown",
   "id": "62610ea5d353f468",
   "metadata": {
    "collapsed": false,
    "jupyter": {
     "outputs_hidden": false
    }
   },
   "source": [
    "# Bonus - Namen der Farben in matplotlib"
   ]
  },
  {
   "cell_type": "code",
   "execution_count": null,
   "id": "6d24c87210749f32",
   "metadata": {
    "collapsed": false,
    "jupyter": {
     "outputs_hidden": false
    }
   },
   "outputs": [],
   "source": [
    "import math\n",
    "\n",
    "import matplotlib.pyplot as plt\n",
    "\n",
    "import matplotlib.colors as mcolors\n",
    "from matplotlib.patches import Rectangle\n",
    "\n",
    "\n",
    "def plot_colortable(colors, *, ncols=4, sort_colors=True):\n",
    "\n",
    "    cell_width = 212\n",
    "    cell_height = 22\n",
    "    swatch_width = 48\n",
    "    margin = 12\n",
    "\n",
    "    # Sort colors by hue, saturation, value and name.\n",
    "    if sort_colors is True:\n",
    "        names = sorted(\n",
    "            colors, key=lambda c: tuple(mcolors.rgb_to_hsv(mcolors.to_rgb(c))))\n",
    "    else:\n",
    "        names = list(colors)\n",
    "\n",
    "    n = len(names)\n",
    "    nrows = math.ceil(n / ncols)\n",
    "\n",
    "    width = cell_width * ncols + 2 * margin\n",
    "    height = cell_height * nrows + 2 * margin\n",
    "    dpi = 72\n",
    "\n",
    "    fig, ax = plt.subplots(figsize=(width / dpi, height / dpi), dpi=dpi)\n",
    "    fig.subplots_adjust(margin/width, margin/height,\n",
    "                        (width-margin)/width, (height-margin)/height)\n",
    "    ax.set_xlim(0, cell_width * ncols)\n",
    "    ax.set_ylim(cell_height * (nrows-0.5), -cell_height/2.)\n",
    "    ax.yaxis.set_visible(False)\n",
    "    ax.xaxis.set_visible(False)\n",
    "    ax.set_axis_off()\n",
    "\n",
    "    for i, name in enumerate(names):\n",
    "        row = i % nrows\n",
    "        col = i // nrows\n",
    "        y = row * cell_height\n",
    "\n",
    "        swatch_start_x = cell_width * col\n",
    "        text_pos_x = cell_width * col + swatch_width + 7\n",
    "\n",
    "        ax.text(text_pos_x, y, name, fontsize=14,\n",
    "                horizontalalignment='left',\n",
    "                verticalalignment='center')\n",
    "\n",
    "        ax.add_patch(\n",
    "            Rectangle(xy=(swatch_start_x, y-9), width=swatch_width,\n",
    "                      height=18, facecolor=colors[name], edgecolor='0.7')\n",
    "        )\n",
    "\n",
    "    return fig\n",
    "\n",
    "plot_colortable(mcolors.CSS4_COLORS)\n",
    "plt.show()\n",
    "\n",
    "# Vgl. https://matplotlib.org/stable/gallery/color/named_colors.html"
   ]
  },
  {
   "cell_type": "code",
   "execution_count": null,
   "id": "ceb5bc07c12176d6",
   "metadata": {
    "collapsed": false,
    "jupyter": {
     "outputs_hidden": false
    }
   },
   "outputs": [],
   "source": []
  }
 ],
 "metadata": {
  "kernelspec": {
   "display_name": "Python 3 (ipykernel)",
   "language": "python",
   "name": "python3"
  },
  "language_info": {
   "codemirror_mode": {
    "name": "ipython",
    "version": 3
   },
   "file_extension": ".py",
   "mimetype": "text/x-python",
   "name": "python",
   "nbconvert_exporter": "python",
   "pygments_lexer": "ipython3",
   "version": "3.10.14"
  }
 },
 "nbformat": 4,
 "nbformat_minor": 5
}
