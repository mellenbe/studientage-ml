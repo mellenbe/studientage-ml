{
 "cells": [
  {
   "cell_type": "markdown",
   "id": "4af0109a486736ee",
   "metadata": {},
   "source": [
    "# Voraussetzungen\n",
    "\n",
    "- Dieser Kurs setzt voraus, dass PyCharm installiert ist.\n",
    "- Dieser Kurs setzt voraus, dass miniconda installiert ist.\n",
    "- Dieser Kurs nutzt das in 'environment.yml' definierte Anaconda Environment 'studientage-ml'"
   ]
  },
  {
   "cell_type": "markdown",
   "id": "844ddc02bdee8499",
   "metadata": {},
   "source": [
    "# miniconda installieren\n",
    "\n",
    "Damit alle für den Kurs benötigten Programm-Pakete zur Verfügung stehen, müssen diese installiert werden. Anaconda (hier: miniconda) unterstützt dabei.\n",
    "Falls noch nicht geschehen:\n",
    "- Installieren Sie miniconda von https://docs.anaconda.com/free/miniconda/miniconda-other-installer-links/ \n",
    "- Wählen Sie miniconda als Installer aus\n",
    "- Wählen Sie Python 12 als Python Version aus\n",
    "- Installieren Sie miniconda für Ihr lokales Profil im Ordner C:\\Users\\<<ihr Profil>>\\miniconda3 (Windows) bzw. cd ~/PycharmProjects/environment (Mac, Linux)."
   ]
  },
  {
   "cell_type": "markdown",
   "id": "86a0741bc31f1675",
   "metadata": {},
   "source": [
    "# Environment installieren...\n",
    "\n",
    "Falls Sie das Environment **noch nicht installiert haben**, müssen Sie es installieren:\n",
    "\n",
    "conda env create -f environment.yml\n",
    "\n",
    "# ... und aktualisieren\n",
    "\n",
    "Andernfalls müssen Sie das Environment aktualisieren:\n",
    "\n",
    "conda env update --file environment.yml --prune"
   ]
  },
  {
   "cell_type": "markdown",
   "id": "5f748fcc7563a162",
   "metadata": {},
   "source": [
    "# Environment zum PyCharm Projekt hinzufügen\n",
    "\n",
    "Sie müssen das Environment noch zum PyCharm Projekt hinzufügen.\n",
    "\n",
    "Wählen Sie Settings (STRG-ALT-S bzw. cmd-,) -> Project -> Python Interpreter und ordnen Sie das Environment zu:\n",
    "\n",
    "<br>\n",
    "<img src=\"../img/project.png\" width = \"50%\"><br><img src=\"../img/conda-env-auswaehlen.png\" width=\"50%\">\n",
    "<br>"
   ]
  },
  {
   "cell_type": "markdown",
   "id": "47a5e22e-29dc-4647-b38d-342ad4f21d7e",
   "metadata": {},
   "source": [
    "# libiomp5 Bug\n",
    "\n",
    "Es scheint einen Bug zu geben, der die Bibliothek libiomp5md.dll \"mehrfach\" initialisiert.\n",
    "\n",
    "Eine Lösung ist mir bisher nicht bekannt.\n",
    "\n",
    "Umgehungslösung: \n",
    "C:\\Users\\<benutzername>\\miniconda3\\envs\\studientage-ml\\Library\\bin\\libiomp5md.dll\n",
    "==> umbenennen in libiomp5md_dll\n"
   ]
  },
  {
   "cell_type": "code",
   "execution_count": null,
   "id": "7803072f-4e67-410b-869d-09aa3a0e524e",
   "metadata": {},
   "outputs": [],
   "source": []
  }
 ],
 "metadata": {
  "kernelspec": {
   "display_name": "Python 3 (ipykernel)",
   "language": "python",
   "name": "python3"
  },
  "language_info": {
   "codemirror_mode": {
    "name": "ipython",
    "version": 3
   },
   "file_extension": ".py",
   "mimetype": "text/x-python",
   "name": "python",
   "nbconvert_exporter": "python",
   "pygments_lexer": "ipython3",
   "version": "3.10.8"
  }
 },
 "nbformat": 4,
 "nbformat_minor": 5
}
