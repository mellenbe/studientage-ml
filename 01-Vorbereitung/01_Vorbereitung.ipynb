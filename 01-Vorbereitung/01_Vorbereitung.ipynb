{
 "cells": [
  {
   "metadata": {},
   "cell_type": "markdown",
   "source": [
    "# Voraussetzungen\n",
    "\n",
    "- Dieser Kurs setzt voraus, dass PyCharm installiert ist.\n",
    "- Dieser Kurs setzt voraus, dass miniconda installiert ist.\n",
    "- Dieser Kurs nutzt das in 'environment.yml' definierte Anaconda Environment 'studientage-ml'"
   ],
   "id": "4af0109a486736ee"
  },
  {
   "metadata": {},
   "cell_type": "markdown",
   "source": [
    "# miniconda installieren\n",
    "\n",
    "Damit alle für den Kurs benötigten Programm-Pakete zur Verfügung stehen, müssen diese installiert werden. Anaconda (hier: miniconda) unterstützt dabei.\n",
    "Falls noch nicht geschehen:\n",
    "- Installieren Sie miniconda von https://docs.anaconda.com/free/miniconda/miniconda-other-installer-links/ \n",
    "- Wählen Sie miniconda als Installer aus\n",
    "- Wählen Sie Python 12 als Python Version aus\n",
    "- Installieren Sie miniconda für Ihr lokales Profil im Ordner C:\\Users\\<<ihr Profil>>\\miniconda3 (Windows) bzw. cd ~/PycharmProjects/environment (Mac, Linux)."
   ],
   "id": "844ddc02bdee8499"
  },
  {
   "metadata": {},
   "cell_type": "markdown",
   "source": [
    "# Environment installieren...\n",
    "\n",
    "Falls Sie das Environment **noch nicht installiert haben**, müssen Sie es installieren:\n",
    "\n",
    "conda env create -f environment.yml\n",
    "\n",
    "# ... und aktualisieren\n",
    "\n",
    "Andernfalls müssen Sie das Environment aktualisieren:\n",
    "\n",
    "conda env update --file environment.yml --prune"
   ],
   "id": "86a0741bc31f1675"
  },
  {
   "metadata": {},
   "cell_type": "markdown",
   "source": [
    "# Environment zum PyCharm Projekt hinzufügen\n",
    "\n",
    "Sie müssen das Environment noch zum PyCharm Projekt hinzufügen.\n",
    "\n",
    "Wählen Sie Settings (STRG-ALT-S bzw. cmd-,) -> Project -> Python Interpreter und ordnen Sie das Environment zu:\n",
    "\n",
    "<br>\n",
    "<img src=\"../img/project.png\" width = \"70%\"> <img src=\"../img/conda-env-auswaehlen.png\" width=\"70%\">\n",
    "<br>"
   ],
   "id": "5f748fcc7563a162"
  },
  {
   "metadata": {},
   "cell_type": "code",
   "outputs": [],
   "execution_count": null,
   "source": "",
   "id": "4cf718dc23895e6f"
  }
 ],
 "metadata": {
  "kernelspec": {
   "display_name": "Python 3",
   "language": "python",
   "name": "python3"
  },
  "language_info": {
   "codemirror_mode": {
    "name": "ipython",
    "version": 2
   },
   "file_extension": ".py",
   "mimetype": "text/x-python",
   "name": "python",
   "nbconvert_exporter": "python",
   "pygments_lexer": "ipython2",
   "version": "2.7.6"
  }
 },
 "nbformat": 4,
 "nbformat_minor": 5
}
