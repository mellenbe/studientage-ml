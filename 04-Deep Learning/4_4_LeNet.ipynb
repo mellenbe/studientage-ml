{
 "cells": [
  {
   "cell_type": "code",
   "execution_count": null,
   "id": "1fda1b9e-1d0f-43a6-ac53-69ef5576b362",
   "metadata": {
    "ExecuteTime": {
     "end_time": "2024-04-11T17:09:02.388328Z",
     "start_time": "2024-04-11T17:08:58.362333Z"
    }
   },
   "outputs": [],
   "source": [
    "from tensorflow import keras\n",
    "# from keras.datasets import mnist\n",
    "from keras.models import Sequential\n",
    "from keras.layers import Dense, Dropout\n",
    "from keras.layers import Flatten, Conv2D, MaxPooling2D, AvgPool2D # new!\n",
    "import random\n",
    "import numpy as np\n",
    "import matplotlib.pyplot as plt"
   ]
  },
  {
   "cell_type": "code",
   "execution_count": null,
   "id": "38a536f0-4d56-44ff-a1f4-884cf72e09ba",
   "metadata": {
    "ExecuteTime": {
     "end_time": "2024-04-11T17:09:02.659236Z",
     "start_time": "2024-04-11T17:09:02.388328Z"
    }
   },
   "outputs": [],
   "source": [
    "import tensorflow as tf\n",
    "(x_train, y_train), (x_test, y_test) = tf.keras.datasets.fashion_mnist.load_data()"
   ]
  },
  {
   "cell_type": "code",
   "execution_count": null,
   "id": "8f009edb-9203-4c9a-8c33-80fe2ce9a039",
   "metadata": {
    "ExecuteTime": {
     "end_time": "2024-04-11T17:09:02.674863Z",
     "start_time": "2024-04-11T17:09:02.659236Z"
    }
   },
   "outputs": [],
   "source": [
    "# Define the text labels\n",
    "fashion_mnist_labels = [\"T-shirt/top\",  # index 0\n",
    "                        \"Trouser\",      # index 1\n",
    "                        \"Pullover\",     # index 2 \n",
    "                        \"Dress\",        # index 3 \n",
    "                        \"Coat\",         # index 4\n",
    "                        \"Sandal\",       # index 5\n",
    "                        \"Shirt\",        # index 6 \n",
    "                        \"Sneaker\",      # index 7 \n",
    "                        \"Bag\",          # index 8 \n",
    "                        \"Ankle boot\"]   # index 9\n",
    "\n",
    "# Image index, you can pick any number between 0 and 59,999\n",
    "img_index = random.randint(0,60000)\n",
    "\n",
    "# y_train contains the lables, ranging from 0 to 9\n",
    "label_index = y_train[img_index]\n",
    "\n",
    "# Print the label, for random example\n",
    "print (\"y [\" + str(img_index) + \"]= \" + str(label_index) + \" \" +(fashion_mnist_labels[label_index]))\n"
   ]
  },
  {
   "cell_type": "code",
   "execution_count": null,
   "id": "14d2a95a-f631-44aa-bf5c-25bf367c410a",
   "metadata": {
    "ExecuteTime": {
     "end_time": "2024-04-11T17:09:02.925521Z",
     "start_time": "2024-04-11T17:09:02.674863Z"
    }
   },
   "outputs": [],
   "source": [
    "# Show one of the images from the training dataset\n",
    "plt.imshow(x_train[img_index], cmap='gray_r')"
   ]
  },
  {
   "cell_type": "code",
   "execution_count": null,
   "id": "68099a8b66b12b11",
   "metadata": {
    "ExecuteTime": {
     "end_time": "2024-04-11T17:09:02.941146Z",
     "start_time": "2024-04-11T17:09:02.925521Z"
    },
    "collapsed": false,
    "jupyter": {
     "outputs_hidden": false
    }
   },
   "outputs": [],
   "source": [
    "# A single pixel is of type Integer / values 0..255\n",
    "print (\"Ein Pixel aus der Mitte des Bildes. Datentyp:\\t\" , type (x_train[img_index][12][12]), \"\\nWert (0..255):\\t\\t\\t\\t\\t\", x_train[img_index][12][12])"
   ]
  },
  {
   "cell_type": "code",
   "execution_count": null,
   "id": "45655f745790a38",
   "metadata": {
    "ExecuteTime": {
     "end_time": "2024-04-11T17:09:02.956770Z",
     "start_time": "2024-04-11T17:09:02.941146Z"
    },
    "collapsed": false,
    "jupyter": {
     "outputs_hidden": false
    }
   },
   "outputs": [],
   "source": [
    "# A complete image is stored as numpy Array\n",
    "type (x_train[img_index])"
   ]
  },
  {
   "cell_type": "code",
   "execution_count": null,
   "id": "1f9fca48c5d8a13a",
   "metadata": {
    "ExecuteTime": {
     "end_time": "2024-04-11T17:09:02.987903Z",
     "start_time": "2024-04-11T17:09:02.956770Z"
    },
    "collapsed": false,
    "jupyter": {
     "outputs_hidden": false
    }
   },
   "outputs": [],
   "source": [
    "# We received 28x28 pixel images\n",
    "x_train[img_index].shape"
   ]
  },
  {
   "cell_type": "code",
   "execution_count": null,
   "id": "59b82e06142a4a25",
   "metadata": {
    "ExecuteTime": {
     "end_time": "2024-04-11T17:09:03.003526Z",
     "start_time": "2024-04-11T17:09:02.987903Z"
    },
    "collapsed": false,
    "jupyter": {
     "outputs_hidden": false
    }
   },
   "outputs": [],
   "source": [
    "# In PyCharm we can display this 28x28 Image showing its Integer Numbers\n",
    "x_train[img_index]"
   ]
  },
  {
   "cell_type": "code",
   "execution_count": null,
   "id": "868fd2a4-a45a-4c5b-b789-b260ff9728c9",
   "metadata": {
    "ExecuteTime": {
     "end_time": "2024-04-11T17:09:03.066028Z",
     "start_time": "2024-04-11T17:09:03.003526Z"
    }
   },
   "outputs": [],
   "source": [
    "# We want to reshape all 60.000 images (and 10.000 test images) in order to give them one color-layer (not 3 color layers)\n",
    "x_train = x_train.reshape(60000, 28, 28, 1).astype('float32')\n",
    "x_test = x_test.reshape(10000, 28, 28, 1).astype('float32')"
   ]
  },
  {
   "cell_type": "code",
   "execution_count": null,
   "id": "d3d1cd08-9232-4bd8-802b-15c5291e8f86",
   "metadata": {
    "ExecuteTime": {
     "end_time": "2024-04-11T17:09:03.103994Z",
     "start_time": "2024-04-11T17:09:03.066028Z"
    }
   },
   "outputs": [],
   "source": [
    "# We normalize Gray Scale to float 0..1\n",
    "x_train /= 255\n",
    "x_test /= 255"
   ]
  },
  {
   "cell_type": "code",
   "execution_count": null,
   "id": "34549ba581e612a4",
   "metadata": {
    "ExecuteTime": {
     "end_time": "2024-04-11T17:09:03.119628Z",
     "start_time": "2024-04-11T17:09:03.103994Z"
    },
    "collapsed": false,
    "jupyter": {
     "outputs_hidden": false
    }
   },
   "outputs": [],
   "source": [
    "# We now have an extra dimension for the gray layer.\n",
    "# The numbers stored ar floats\n",
    "#type(x_train[img_index][12][12][0])\n",
    "print (\"Ein Pixel aus der Mitte des Bildes. Datentyp:\\t\" , type (x_train[img_index][12][12][0]), \"\\nWert (0..255):\\t\\t\\t\\t\\t\", x_train[img_index][12][12][0])"
   ]
  },
  {
   "cell_type": "code",
   "execution_count": null,
   "id": "4218bc415693d727",
   "metadata": {
    "ExecuteTime": {
     "end_time": "2024-04-11T17:09:03.135253Z",
     "start_time": "2024-04-11T17:09:03.119628Z"
    },
    "collapsed": false,
    "jupyter": {
     "outputs_hidden": false
    }
   },
   "outputs": [],
   "source": [
    "# An image is still an numpy array\n",
    "type(x_train[img_index])"
   ]
  },
  {
   "cell_type": "code",
   "execution_count": null,
   "id": "c3206b747e0187dc",
   "metadata": {
    "ExecuteTime": {
     "end_time": "2024-04-11T17:09:03.150880Z",
     "start_time": "2024-04-11T17:09:03.135253Z"
    },
    "collapsed": false,
    "jupyter": {
     "outputs_hidden": false
    }
   },
   "outputs": [],
   "source": [
    "# Shape of a single image no longer is 28x28 but 28x28x1 (the gray layer)\n",
    "x_train[img_index].shape"
   ]
  },
  {
   "cell_type": "code",
   "execution_count": null,
   "id": "a00218386d97696f",
   "metadata": {
    "ExecuteTime": {
     "end_time": "2024-04-11T17:09:05.381972Z",
     "start_time": "2024-04-11T17:09:05.366333Z"
    },
    "collapsed": false,
    "jupyter": {
     "outputs_hidden": false
    }
   },
   "outputs": [],
   "source": [
    "# we still can display this gray layer in PyCharm\n",
    "x_train[img_index].reshape(28,28)"
   ]
  },
  {
   "cell_type": "code",
   "execution_count": null,
   "id": "06ef1d6a-26ee-45d0-9b26-629d870aa48f",
   "metadata": {
    "ExecuteTime": {
     "end_time": "2024-04-11T17:09:07.069207Z",
     "start_time": "2024-04-11T17:09:07.053582Z"
    }
   },
   "outputs": [],
   "source": [
    "# We need to one-hot-encode our Y values\n",
    "n_classes = 10\n",
    "y_train = keras.utils.to_categorical(y_train, n_classes)\n",
    "y_test = keras.utils.to_categorical(y_test, n_classes)"
   ]
  },
  {
   "cell_type": "code",
   "execution_count": null,
   "id": "a1f61e65-914b-434d-bb67-99b19ea26a4f",
   "metadata": {
    "ExecuteTime": {
     "end_time": "2024-04-11T17:09:07.926417Z",
     "start_time": "2024-04-11T17:09:07.801007Z"
    }
   },
   "outputs": [],
   "source": [
    "# a simple LeNet implementation as found on d2l.ai\n",
    "model = Sequential([\n",
    "            Conv2D(filters=6, kernel_size=5, activation='sigmoid', padding='same', input_shape=(28,28,1)),\n",
    "            AvgPool2D(pool_size=2, strides=2),\n",
    "            Conv2D(filters=16, kernel_size=5, activation='sigmoid'),\n",
    "            AvgPool2D(pool_size=2, strides=2),\n",
    "            Flatten(),\n",
    "            Dense(120, activation='sigmoid'),\n",
    "            Dense(84, activation='sigmoid'),\n",
    "            Dense(n_classes, activation='softmax')])"
   ]
  },
  {
   "cell_type": "code",
   "execution_count": null,
   "id": "d9938189-a9dd-4497-b9cf-2bbf3e0f60ff",
   "metadata": {
    "ExecuteTime": {
     "end_time": "2024-04-11T17:09:08.925141Z",
     "start_time": "2024-04-11T17:09:08.893892Z"
    }
   },
   "outputs": [],
   "source": [
    "# we can display the model summary\n",
    "model.summary()"
   ]
  },
  {
   "cell_type": "code",
   "execution_count": null,
   "id": "eecaac5f-d80e-45a5-8d8f-3d9aec7dba37",
   "metadata": {
    "ExecuteTime": {
     "end_time": "2024-04-11T17:09:11.433360Z",
     "start_time": "2024-04-11T17:09:11.206330Z"
    }
   },
   "outputs": [],
   "source": [
    "# Tensorflow allows to creat a visual representation of our model.\n",
    "from keras.utils import plot_model\n",
    "\n",
    "plot_model(model, to_file='../img/model_plot.png', show_shapes=True, show_layer_names=True)"
   ]
  },
  {
   "cell_type": "code",
   "execution_count": null,
   "id": "3fb3c73913b6694b",
   "metadata": {
    "ExecuteTime": {
     "end_time": "2024-04-11T17:09:12.756949Z",
     "start_time": "2024-04-11T17:09:12.741324Z"
    }
   },
   "outputs": [],
   "source": [
    "### Optional - Hierfür müssen zusätzliche Software und Bibliotheken installiert werden.\n",
    "\n",
    "# import visualkeras\n",
    "# from PIL import ImageFont\n",
    "\n",
    "# font = ImageFont.truetype(\"arial.ttf\", 32)  # using comic sans is strictly prohibited!\n",
    "\n",
    "# visualkeras.layered_view(model, legend=True, font=font, scale_xy=10, scale_z=4, max_z=500)  # font is optional!\n"
   ]
  },
  {
   "cell_type": "code",
   "execution_count": null,
   "id": "42ca6936-27ff-434d-9616-f78d81c7da9d",
   "metadata": {
    "ExecuteTime": {
     "end_time": "2024-04-11T17:09:18.822282Z",
     "start_time": "2024-04-11T17:09:18.806641Z"
    }
   },
   "outputs": [],
   "source": [
    "# we define two so called \"callback\" object.\n",
    "# these objects can be injected to the training process.\n",
    "# here: \n",
    "#   - the checkpointer callback collects the bestperforming model and stores the respective model parameters\n",
    "#   - the history callback collects all metrics from all epochs\n",
    "from keras.callbacks import ModelCheckpoint\n",
    "from keras.callbacks import History\n",
    "\n",
    "checkpointer = ModelCheckpoint(filepath='model.weights.best.hdf5', verbose = 1, save_best_only=True)                     \n",
    "history = History()"
   ]
  },
  {
   "cell_type": "code",
   "execution_count": null,
   "id": "c02e5aed-f11c-4705-9e81-e460594faf1d",
   "metadata": {
    "ExecuteTime": {
     "end_time": "2024-04-11T17:09:23.091323Z",
     "start_time": "2024-04-11T17:09:23.060167Z"
    }
   },
   "outputs": [],
   "source": [
    "model.compile(loss='categorical_crossentropy', optimizer='adam', metrics=['acc'])"
   ]
  },
  {
   "cell_type": "code",
   "execution_count": null,
   "id": "01ecfcb5-225a-4a81-acb8-769b3686f84d",
   "metadata": {
    "ExecuteTime": {
     "end_time": "2024-04-11T17:10:39.794521Z",
     "start_time": "2024-04-11T17:09:23.854323Z"
    }
   },
   "outputs": [],
   "source": [
    "result = model.fit(x_train, y_train, batch_size=128, epochs=10, verbose=1\n",
    "                   #, validation_data=(x_valid, y_valid)\n",
    "                   , validation_split=0.2\n",
    "                   , callbacks = [history, checkpointer])"
   ]
  },
  {
   "cell_type": "code",
   "execution_count": null,
   "id": "0f7710fe-fc2b-41fb-a536-45b6d8744b3d",
   "metadata": {
    "ExecuteTime": {
     "end_time": "2024-04-11T17:10:45.006943Z",
     "start_time": "2024-04-11T17:10:44.991410Z"
    }
   },
   "outputs": [],
   "source": [
    "history.history['loss']"
   ]
  },
  {
   "cell_type": "code",
   "execution_count": null,
   "id": "6edce943-b77a-4462-8ab5-10070f261c10",
   "metadata": {
    "ExecuteTime": {
     "end_time": "2024-04-11T17:10:46.753855Z",
     "start_time": "2024-04-11T17:10:46.467792Z"
    }
   },
   "outputs": [],
   "source": [
    "fig, ax1 = plt.subplots()\n",
    "ax1.plot(history.history['loss'], color='red', linestyle='--')\n",
    "ax1.plot(history.history['val_loss'], color='green', linestyle='--')\n",
    "plt.title('model performance')\n",
    "plt.ylabel('loss')\n",
    "plt.xlabel('epoch')\n",
    "plt.legend(['train loss', 'val loss', 'train acc', 'varl acc'], loc='upper left')\n",
    "\n",
    "ax2 = ax1.twinx()\n",
    "\n",
    "ax2.plot(history.history['acc'])\n",
    "ax2.plot(history.history['val_acc'])\n",
    "ax2.set_ylabel('accuracy')\n",
    "ax2.legend(['train acc', 'val acc'], loc='lower left')"
   ]
  },
  {
   "cell_type": "code",
   "execution_count": null,
   "id": "69d32fc7-e852-46a0-8d78-4e6d1625ee24",
   "metadata": {
    "ExecuteTime": {
     "end_time": "2024-04-11T17:10:48.193960Z",
     "start_time": "2024-04-11T17:10:48.162711Z"
    }
   },
   "outputs": [],
   "source": [
    "# Load the weights with the best validation accuracy\n",
    "model.load_weights('model.weights.best.hdf5')"
   ]
  },
  {
   "cell_type": "code",
   "execution_count": null,
   "id": "7840929e-39c0-4126-866f-1a58e829b188",
   "metadata": {
    "ExecuteTime": {
     "end_time": "2024-04-11T17:10:49.949514Z",
     "start_time": "2024-04-11T17:10:49.212893Z"
    }
   },
   "outputs": [],
   "source": [
    "# Evaluate the model on test set\n",
    "score = model.evaluate(x_test, y_test, verbose=0)\n",
    "\n",
    "# Print test accuracy\n",
    "print('\\n', 'Test accuracy:', score[1])"
   ]
  },
  {
   "cell_type": "code",
   "execution_count": null,
   "id": "670e80fe-d3fb-4169-8188-e43eb87e03ce",
   "metadata": {
    "ExecuteTime": {
     "end_time": "2024-04-11T17:10:54.418622Z",
     "start_time": "2024-04-11T17:10:53.506974Z"
    }
   },
   "outputs": [],
   "source": [
    "y_hat = model.predict(x_test)\n"
   ]
  },
  {
   "cell_type": "code",
   "execution_count": null,
   "id": "2069a6e0-bf0a-44dd-a7f9-90ca122fefc3",
   "metadata": {
    "ExecuteTime": {
     "end_time": "2024-04-11T17:10:56.098875Z",
     "start_time": "2024-04-11T17:10:55.393035Z"
    }
   },
   "outputs": [],
   "source": [
    "# Plot a random sample of 15 test images, their predicted labels and ground truth\n",
    "figure = plt.figure(figsize=(20, 8))\n",
    "for i, index in enumerate(np.random.choice(x_test.shape[0], size=15, replace=False)):\n",
    "    ax = figure.add_subplot(3, 5, i + 1, xticks=[], yticks=[])\n",
    "    # Display each image\n",
    "    ax.imshow(np.squeeze(x_test[index]), cmap='gray_r')\n",
    "    predict_index = np.argmax(y_hat[index])\n",
    "    true_index = np.argmax(y_test[index])\n",
    "    # Set the title for each image\n",
    "    ax.set_title(\"{} ({})\".format(fashion_mnist_labels[predict_index], \n",
    "                                  fashion_mnist_labels[true_index]),\n",
    "                                  color=(\"green\" if predict_index == true_index else \"red\"))"
   ]
  },
  {
   "cell_type": "code",
   "execution_count": null,
   "id": "a70bc1631b817291",
   "metadata": {},
   "outputs": [],
   "source": []
  }
 ],
 "metadata": {
  "kernelspec": {
   "display_name": "Python 3 (ipykernel)",
   "language": "python",
   "name": "python3"
  },
  "language_info": {
   "codemirror_mode": {
    "name": "ipython",
    "version": 3
   },
   "file_extension": ".py",
   "mimetype": "text/x-python",
   "name": "python",
   "nbconvert_exporter": "python",
   "pygments_lexer": "ipython3",
   "version": "3.10.8"
  }
 },
 "nbformat": 4,
 "nbformat_minor": 5
}
