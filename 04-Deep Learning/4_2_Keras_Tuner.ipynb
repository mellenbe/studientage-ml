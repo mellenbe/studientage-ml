{
 "cells": [
  {
   "cell_type": "code",
   "execution_count": null,
   "id": "13fc175e968dd432",
   "metadata": {
    "ExecuteTime": {
     "end_time": "2024-04-04T19:45:30.563606Z",
     "start_time": "2024-04-04T19:45:30.548153Z"
    },
    "collapsed": false,
    "jupyter": {
     "outputs_hidden": false
    }
   },
   "outputs": [],
   "source": [
    "#import some necessary librairies\n",
    "\n",
    "import numpy as np # linear algebra\n",
    "import pandas as pd # data processing, CSV file I/O (e.g. pd.read_csv)\n",
    "%matplotlib inline\n",
    "import matplotlib.pyplot as plt  # Matlab-style plotting\n",
    "import seaborn as sns\n",
    "color = sns.color_palette()\n",
    "sns.set_style('darkgrid')\n",
    "import warnings\n",
    "def ignore_warn(*args, **kwargs):\n",
    "    pass\n",
    "warnings.warn = ignore_warn #ignore annoying warning (from sklearn and seaborn)\n",
    "warnings.warn_explicit = ignore_warn\n",
    "\n",
    "import pickle\n",
    "from scipy import stats\n",
    "from scipy.stats import norm, skew #for some statistics\n",
    "\n",
    "pd.set_option('display.float_format', lambda x: '{:.3f}'.format(x)) #Limiting floats output to 3 decimal points\n",
    "\n",
    "from keras.callbacks import ModelCheckpoint, History, EarlyStopping\n",
    "from keras.models import Sequential\n",
    "from keras.layers import Dense, Activation, Flatten\n",
    "from keras.optimizers import Adam\n",
    "from sklearn.model_selection import train_test_split\n",
    "from sklearn.ensemble import RandomForestRegressor\n",
    "from sklearn.metrics import mean_absolute_error\n",
    "from keras.metrics import RootMeanSquaredError, MeanSquaredError\n",
    "from matplotlib import pyplot as plt\n",
    "import keras_tuner as kt"
   ]
  },
  {
   "cell_type": "markdown",
   "id": "1617701f-cd24-41fc-94d3-cb335db19394",
   "metadata": {
    "collapsed": false,
    "jupyter": {
     "outputs_hidden": false
    }
   },
   "source": [
    "# Daten aus vorigem Schritt laden"
   ]
  },
  {
   "cell_type": "code",
   "execution_count": null,
   "id": "70474c85-f1e2-426c-ac1d-a0f2aee1df95",
   "metadata": {
    "ExecuteTime": {
     "end_time": "2024-04-04T19:45:33.140749Z",
     "start_time": "2024-04-04T19:45:33.132184Z"
    }
   },
   "outputs": [],
   "source": [
    "with open('../data/house-prices-advanced-regression-techniques/x_preprocessed_train.pkl', 'rb') as handle:\n",
    "    X_preprocessed_train = pickle.load(handle)\n",
    "\n",
    "with open('../data/house-prices-advanced-regression-techniques/y_train.pkl', 'rb') as handle:\n",
    "    y_preprocessed_train = pickle.load(handle)\n",
    "    \n",
    "with open('../data/house-prices-advanced-regression-techniques/x_test.pkl', 'rb') as handle:\n",
    "    X_preprocessed_test = pickle.load(handle)\n"
   ]
  },
  {
   "cell_type": "markdown",
   "id": "4c7fc1e5-0943-479a-a1a8-ff918f1df5aa",
   "metadata": {},
   "source": [
    "# Train Test Split"
   ]
  },
  {
   "cell_type": "code",
   "execution_count": null,
   "id": "d81bd49a-085b-47ca-b842-8fb84925dcd6",
   "metadata": {
    "ExecuteTime": {
     "end_time": "2024-04-04T19:45:37.720946Z",
     "start_time": "2024-04-04T19:45:37.533645Z"
    }
   },
   "outputs": [],
   "source": [
    "from sklearn.linear_model import LinearRegression\n",
    "from sklearn.ensemble import RandomForestRegressor\n",
    "from xgboost import XGBRegressor\n",
    "from sklearn.model_selection import GridSearchCV, KFold, cross_val_score\n",
    "\n",
    "# Split the data into training and testing sets\n",
    "from sklearn.model_selection import train_test_split\n",
    "seed = 4354 # Random_state ist ein seed, damit gegebenenfalls immer mit der selben pseudo Random Folge gearbeitet wird.\n",
    "X_train, X_test, y_train, y_test = train_test_split(X_preprocessed_train, y_preprocessed_train, test_size=0.2, random_state=seed) \n"
   ]
  },
  {
   "cell_type": "code",
   "execution_count": null,
   "id": "e6415661-c68b-4183-88e5-53b1dec89673",
   "metadata": {},
   "outputs": [],
   "source": [
    "from keras_tuner import HyperParameters as hp"
   ]
  },
  {
   "cell_type": "code",
   "execution_count": null,
   "id": "ed22bb22-303b-4585-b50b-478a3148de5a",
   "metadata": {},
   "outputs": [],
   "source": [
    "# see https://www.tensorflow.org/tutorials/keras/keras_tuner\n",
    "def model_builder(hp):\n",
    "    model = Sequential()\n",
    "    # The Input Layer :\n",
    "    model.add(Dense(hp.Choice('units1', [32, 64, 128, 256]), kernel_initializer='normal',input_dim = X_train.shape[1], activation='relu'))\n",
    "    \n",
    "    # The Hidden Layers :\n",
    "    model.add(Dense(hp.Choice('units2', [32, 64, 128, 256, 1024]), kernel_initializer='normal',activation='relu'))\n",
    "    model.add(Dense(hp.Choice('units3', [32, 64, 128, 256, 1024]), kernel_initializer='normal',activation='relu'))\n",
    "    model.add(Dense(hp.Choice('units4', [32, 64, 128, 256, 1024]), kernel_initializer='normal',activation='relu'))    \n",
    "    # The Output Layer :\n",
    "    model.add(Dense(1, kernel_initializer='normal',activation='linear'))\n",
    "\n",
    "    # Tune the learning rate for the optimizer\n",
    "    # Choose an optimal value from 0.01, 0.001, or 0.0001\n",
    "    hp_learning_rate = hp.Choice('learning_rate', values=[1e-2, 1e-3, 1e-4])\n",
    "\n",
    "    # Compile the network :\n",
    "    model.compile(loss='mean_squared_error', optimizer=Adam(learning_rate=hp_learning_rate), metrics=[MeanSquaredError()])\n",
    "    return model"
   ]
  },
  {
   "cell_type": "code",
   "execution_count": null,
   "id": "470f0f9b-1214-44a7-880d-07d2a4f08e38",
   "metadata": {},
   "outputs": [],
   "source": [
    "tuner = kt.Hyperband(model_builder,\n",
    "                     objective='mean_squared_error',\n",
    "                     max_epochs=20,\n",
    "                     factor=3,\n",
    "                     directory='tuner_dir',\n",
    "                     project_name='tune deep house prices')"
   ]
  },
  {
   "cell_type": "code",
   "execution_count": null,
   "id": "343a9315-50ea-4476-af16-9ae0e194d4b8",
   "metadata": {},
   "outputs": [],
   "source": [
    "stop_early = EarlyStopping(monitor='val_loss', patience=5)"
   ]
  },
  {
   "cell_type": "code",
   "execution_count": null,
   "id": "268130a9-0fcd-4d78-b7c8-1533518c32e9",
   "metadata": {},
   "outputs": [],
   "source": [
    "tuner.search(X_train, y_train, epochs=50, validation_split=0.2, callbacks=[stop_early])"
   ]
  },
  {
   "cell_type": "code",
   "execution_count": null,
   "id": "e874fc4a-36a1-4fd8-b496-bf6e22e29f0c",
   "metadata": {},
   "outputs": [],
   "source": [
    "# Get the optimal hyperparameters\n",
    "best_hps=tuner.get_best_hyperparameters(num_trials=1)[0]\n",
    "\n",
    "print(f\"\"\"\n",
    "The hyperparameter search is complete.\n",
    "The optimal number of units in the first densely-connected layer is {best_hps.get('units1')}.\n",
    "The optimal number of units in the second densely-connected layer is {best_hps.get('units2')}.\n",
    "The optimal number of units in the third densely-connected layer is {best_hps.get('units3')}.\n",
    "The optimal number of units in the fourth densely-connected layer is {best_hps.get('units4')}.\n",
    "The optimal learning_rate for Adam is {best_hps.get('learning_rate')}.\n",
    "\n",
    "\"\"\")"
   ]
  },
  {
   "cell_type": "code",
   "execution_count": null,
   "id": "3a6c8598-5da3-4093-8de3-6ac9a5baf914",
   "metadata": {},
   "outputs": [],
   "source": [
    "# Build the model with the optimal hyperparameters and train it on the data for 50 epochs\n",
    "model = tuner.hypermodel.build(best_hps)"
   ]
  },
  {
   "cell_type": "code",
   "execution_count": null,
   "id": "27f16804-f734-43c6-8885-345f75316974",
   "metadata": {},
   "outputs": [],
   "source": [
    "#checkpoint_name = 'Weights-{epoch:03d}--{val_loss:.5f}.hdf5' \n",
    "checkpoint_name = 'model.weights.best.hdf5'\n",
    "checkpoint = ModelCheckpoint(checkpoint_name, monitor='val_loss', verbose = 1, save_best_only = True, mode ='auto')\n",
    "history = History()\n",
    "callbacks_list = [checkpoint, history]"
   ]
  },
  {
   "cell_type": "code",
   "execution_count": null,
   "id": "b9d04054-d59e-464f-b8b4-56d039a35c40",
   "metadata": {},
   "outputs": [],
   "source": [
    "result = model.fit(X_train, y_train, epochs=500, batch_size=32, validation_split = 0.2, callbacks=callbacks_list)\n"
   ]
  },
  {
   "cell_type": "code",
   "execution_count": null,
   "id": "12e7894f-247a-4ef1-b112-49c6f98622a9",
   "metadata": {},
   "outputs": [],
   "source": [
    "history.history['mean_squared_error']"
   ]
  },
  {
   "cell_type": "code",
   "execution_count": null,
   "id": "3bd8e3db-6fca-4406-a406-8ba843f82d8f",
   "metadata": {},
   "outputs": [],
   "source": [
    "root_mean_squared_error = np.sqrt(result.history['mean_squared_error'])\n",
    "val_root_mean_squared_error = np.sqrt(result.history['val_mean_squared_error'])\n",
    "\n",
    "best_epoch = list (val_root_mean_squared_error).index(min(val_root_mean_squared_error)) + 1\n",
    "print('Best epoch: %d' % (best_epoch,))\n",
    "print (f'Best RMSE: {min(val_root_mean_squared_error)}')"
   ]
  },
  {
   "cell_type": "code",
   "execution_count": null,
   "id": "3d0c731a-b4d1-4d76-98ae-65add3a12100",
   "metadata": {},
   "outputs": [],
   "source": [
    "fig, ax1 = plt.subplots()\n",
    "ax1.plot(history.history['loss'], color='red', linestyle='--')\n",
    "ax1.plot(history.history['val_loss'], color='green', linestyle='--')\n",
    "plt.title('model performance')\n",
    "plt.ylabel('loss')\n",
    "plt.xlabel('epoch')\n",
    "plt.legend(['train loss', 'val loss', 'train RMSE', 'varl RMSE'], loc='upper left')\n",
    "\n",
    "ax2 = ax1.twinx()\n",
    "\n",
    "ax2.plot(root_mean_squared_error)\n",
    "ax2.plot(val_root_mean_squared_error)\n",
    "ax2.set_ylabel('RMSE')\n",
    "ax2.legend(['train RMSE', 'val RMSE'], loc='upper right')"
   ]
  },
  {
   "cell_type": "code",
   "execution_count": null,
   "id": "9ac7a0f4-f348-4e11-a5ba-e3a593fef68f",
   "metadata": {},
   "outputs": [],
   "source": [
    "# Load the weights with the best validation accuracy\n",
    "model.load_weights('model.weights.best.hdf5')"
   ]
  },
  {
   "cell_type": "code",
   "execution_count": null,
   "id": "97c9546b-6b37-4187-94b7-d48f1e7547b7",
   "metadata": {},
   "outputs": [],
   "source": [
    "# Evaluate the model on test set\n",
    "score = model.evaluate(X_test, y_test, verbose=0)\n",
    "\n",
    "# Print test RMSE\n",
    "print('\\n', 'Test RMSE:', np.sqrt(score[1]))"
   ]
  },
  {
   "cell_type": "code",
   "execution_count": null,
   "id": "35f52240-f93b-4a1a-bbe5-d5440d2f274b",
   "metadata": {},
   "outputs": [],
   "source": [
    "model.metrics_names "
   ]
  },
  {
   "cell_type": "code",
   "execution_count": null,
   "id": "e49fe58c-a375-4465-8d95-d6ecc8f3b258",
   "metadata": {},
   "outputs": [],
   "source": [
    "y_hat = model.predict(X_test)\n",
    "y_hat = y_hat.reshape(y_hat.shape[0])"
   ]
  },
  {
   "cell_type": "code",
   "execution_count": null,
   "id": "1f2abe3f-86e4-4448-abef-52327160fba3",
   "metadata": {},
   "outputs": [],
   "source": [
    "rand_vals=np.random.choice(X_test.shape[0], size=15, replace=False)\n",
    "rand_vals"
   ]
  },
  {
   "cell_type": "code",
   "execution_count": null,
   "id": "09dde420-61ee-415b-b92b-8f0dfd881b11",
   "metadata": {},
   "outputs": [],
   "source": [
    "for i, index in enumerate(rand_vals):\n",
    "    predict_index = y_hat[index]\n",
    "    true_index = y_test.to_numpy()[index]\n",
    "    print (f'{index}: predict={predict_index} / true={true_index}')"
   ]
  },
  {
   "cell_type": "code",
   "execution_count": null,
   "id": "a8dbcb93-1524-49cf-8490-a0611cd5cfe7",
   "metadata": {},
   "outputs": [],
   "source": [
    "fig, ax1 = plt.subplots()\n",
    "plt.title('Prediction Delta')\n",
    "plt.ylabel('Delta')\n",
    "plt.xlabel('Index')\n",
    "ax1.plot(np.subtract(y_test.to_numpy(),y_hat), color='red', linestyle='-')"
   ]
  },
  {
   "cell_type": "markdown",
   "id": "aab4b03f-bb03-4b41-98be-8ab521da1b4d",
   "metadata": {},
   "source": [
    "# Weitere Optimierungsmöglichkeiten\n",
    "## GPU Support\n",
    "\n",
    "https://lifewithdata.com/2022/01/16/how-to-install-tensorflow-and-keras-with-gpu-support-on-windows/\n",
    "\n",
    "## Anregungen zur Hyperparameter-Suche\n",
    "\n",
    "https://machinelearningmastery.com/grid-search-hyperparameters-deep-learning-models-python-keras/\n",
    "\n",
    "## Keras Tuner Dokumentation\n",
    "\n",
    "https://keras.io/api/keras_tuner/"
   ]
  },
  {
   "cell_type": "code",
   "execution_count": null,
   "id": "c86dd787-043a-4686-a688-7e39000d1b6b",
   "metadata": {},
   "outputs": [],
   "source": []
  }
 ],
 "metadata": {
  "kernelspec": {
   "display_name": "Python 3 (ipykernel)",
   "language": "python",
   "name": "python3"
  },
  "language_info": {
   "codemirror_mode": {
    "name": "ipython",
    "version": 3
   },
   "file_extension": ".py",
   "mimetype": "text/x-python",
   "name": "python",
   "nbconvert_exporter": "python",
   "pygments_lexer": "ipython3",
   "version": "3.10.8"
  }
 },
 "nbformat": 4,
 "nbformat_minor": 5
}
