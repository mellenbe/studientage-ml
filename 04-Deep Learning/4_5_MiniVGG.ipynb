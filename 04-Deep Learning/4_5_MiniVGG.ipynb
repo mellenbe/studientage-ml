{
 "cells": [
  {
   "cell_type": "code",
   "execution_count": null,
   "id": "1fda1b9e-1d0f-43a6-ac53-69ef5576b362",
   "metadata": {
    "ExecuteTime": {
     "end_time": "2024-04-12T08:00:18.413983Z",
     "start_time": "2024-04-12T08:00:14.619498Z"
    }
   },
   "outputs": [],
   "source": [
    "from tensorflow import keras\n",
    "# from keras.datasets import mnist\n",
    "from keras.models import Sequential\n",
    "from keras.layers import Dense, Dropout\n",
    "from keras.layers import Flatten, Conv2D, MaxPooling2D, AvgPool2D # new!\n",
    "from keras.layers import BatchNormalization\n",
    "from keras.layers import Activation\n",
    "from keras.optimizers import Adam\n",
    "from keras import backend as K\n",
    "import keras_tuner as kt\n",
    "from keras.callbacks import ModelCheckpoint, History, EarlyStopping\n",
    "\n",
    "import random\n",
    "import numpy as np\n",
    "import matplotlib.pyplot as plt"
   ]
  },
  {
   "cell_type": "code",
   "execution_count": null,
   "id": "ad946bdfabd7c31e",
   "metadata": {
    "ExecuteTime": {
     "end_time": "2024-04-12T08:00:18.434160Z",
     "start_time": "2024-04-12T08:00:18.415261Z"
    }
   },
   "outputs": [],
   "source": [
    "%%javascript\n",
    "IPython.OutputArea.auto_scroll_threshold = 9999;"
   ]
  },
  {
   "cell_type": "code",
   "execution_count": null,
   "id": "38a536f0-4d56-44ff-a1f4-884cf72e09ba",
   "metadata": {
    "ExecuteTime": {
     "end_time": "2024-04-12T08:00:18.854693Z",
     "start_time": "2024-04-12T08:00:18.436161Z"
    }
   },
   "outputs": [],
   "source": [
    "import tensorflow as tf\n",
    "(x_train, y_train), (x_test, y_test) = tf.keras.datasets.cifar10.load_data()"
   ]
  },
  {
   "cell_type": "code",
   "execution_count": null,
   "id": "8f009edb-9203-4c9a-8c33-80fe2ce9a039",
   "metadata": {
    "ExecuteTime": {
     "end_time": "2024-04-12T08:00:18.869695Z",
     "start_time": "2024-04-12T08:00:18.856694Z"
    }
   },
   "outputs": [],
   "source": [
    "# Define the text labels\n",
    "cifar10_labels = [\"airplane\",       # Index 0\n",
    "                    \"automobile\",   # Index 1\n",
    "                    \"bird\",         # Index 2\n",
    "                    \"cat\",          # Index 3\n",
    "                    \"deer\",         # Index 4\n",
    "                    \"dog\",          # Index 5\n",
    "                    \"frog\",         # Index 6\n",
    "                    \"horse\",        # Index 7\n",
    "                    \"ship\",         # Index 8\n",
    "                    \"truck\"]        # Index 9\n",
    "\n",
    "\n",
    "# Image index, you can pick any number between 0 and 59,999\n",
    "img_index = random.randint(0,50000)\n",
    "\n",
    "# y_train contains the lables, ranging from 0 to 9\n",
    "label_index = y_train[img_index][0]\n",
    "\n",
    "# Print the label, for random example\n",
    "print (\"y [\" + str(img_index) + \"]= \" + str(label_index) + \" \" +cifar10_labels[label_index])\n"
   ]
  },
  {
   "cell_type": "code",
   "execution_count": null,
   "id": "14d2a95a-f631-44aa-bf5c-25bf367c410a",
   "metadata": {
    "ExecuteTime": {
     "end_time": "2024-04-12T08:00:19.108699Z",
     "start_time": "2024-04-12T08:00:18.873691Z"
    }
   },
   "outputs": [],
   "source": [
    "# Show one of the images from the training dataset\n",
    "plt.imshow(x_train[img_index])"
   ]
  },
  {
   "cell_type": "code",
   "execution_count": null,
   "id": "68099a8b66b12b11",
   "metadata": {
    "ExecuteTime": {
     "end_time": "2024-04-12T08:00:19.124692Z",
     "start_time": "2024-04-12T08:00:19.109698Z"
    },
    "collapsed": false,
    "jupyter": {
     "outputs_hidden": false
    }
   },
   "outputs": [],
   "source": [
    "# A single pixel is of type Integer / values 0..255\n",
    "print (\"Ein Pixel aus der Mitte des Bildes. Datentyp:\\t\" , type (x_train[img_index][12][12]), \"\\nWert (0..255):\\t\\t\\t\\t\\t\", x_train[img_index][12][12])"
   ]
  },
  {
   "cell_type": "code",
   "execution_count": null,
   "id": "45655f745790a38",
   "metadata": {
    "ExecuteTime": {
     "end_time": "2024-04-12T08:00:19.140699Z",
     "start_time": "2024-04-12T08:00:19.127700Z"
    },
    "collapsed": false,
    "jupyter": {
     "outputs_hidden": false
    }
   },
   "outputs": [],
   "source": [
    "# A complete image is stored as numpy Array\n",
    "type (x_train[img_index])"
   ]
  },
  {
   "cell_type": "code",
   "execution_count": null,
   "id": "1f9fca48c5d8a13a",
   "metadata": {
    "ExecuteTime": {
     "end_time": "2024-04-12T08:00:19.156699Z",
     "start_time": "2024-04-12T08:00:19.144702Z"
    },
    "collapsed": false,
    "jupyter": {
     "outputs_hidden": false
    }
   },
   "outputs": [],
   "source": [
    "# We received 32x32x3 pixel images\n",
    "x_train[img_index].shape"
   ]
  },
  {
   "cell_type": "code",
   "execution_count": null,
   "id": "59b82e06142a4a25",
   "metadata": {
    "ExecuteTime": {
     "end_time": "2024-04-12T08:00:19.171696Z",
     "start_time": "2024-04-12T08:00:19.159699Z"
    },
    "collapsed": false,
    "jupyter": {
     "outputs_hidden": false
    }
   },
   "outputs": [],
   "source": [
    "# In PyCharm we can display this 32x32x3 Image showing its Integer Numbers\n",
    "x_train[img_index][31] # show column 31 for all 32 rows and 3 color layers"
   ]
  },
  {
   "cell_type": "code",
   "execution_count": null,
   "id": "868fd2a4-a45a-4c5b-b789-b260ff9728c9",
   "metadata": {
    "ExecuteTime": {
     "end_time": "2024-04-12T08:00:19.345117Z",
     "start_time": "2024-04-12T08:00:19.173698Z"
    }
   },
   "outputs": [],
   "source": [
    "# We want to reshape all 60.000 images (and 10.000 test images) in order to give them one color-layer (not 3 color layers)\n",
    "x_train = x_train.reshape(50000, 32, 32, 3).astype('float32')\n",
    "x_test = x_test.reshape(10000, 32, 32, 3).astype('float32')"
   ]
  },
  {
   "cell_type": "code",
   "execution_count": null,
   "id": "d3d1cd08-9232-4bd8-802b-15c5291e8f86",
   "metadata": {
    "ExecuteTime": {
     "end_time": "2024-04-12T08:00:19.407666Z",
     "start_time": "2024-04-12T08:00:19.346091Z"
    }
   },
   "outputs": [],
   "source": [
    "# We normalize Gray Scale to float 0..1\n",
    "x_train /= 255\n",
    "x_test /= 255"
   ]
  },
  {
   "cell_type": "code",
   "execution_count": null,
   "id": "34549ba581e612a4",
   "metadata": {
    "ExecuteTime": {
     "end_time": "2024-04-12T08:00:19.422790Z",
     "start_time": "2024-04-12T08:00:19.409668Z"
    },
    "collapsed": false,
    "jupyter": {
     "outputs_hidden": false
    }
   },
   "outputs": [],
   "source": [
    "# We now have an extra dimension for the gray layer.\n",
    "# The numbers stored ar floats\n",
    "#type(x_train[img_index][12][12][0])\n",
    "print (\"Ein Pixel (3 Farben) aus der Mitte des Bildes. Datentyp:\\t\" , type (x_train[img_index][12][12]), \"\\nWert (0..255):\\t\\t\\t\\t\\t\", x_train[img_index][12][12])"
   ]
  },
  {
   "cell_type": "code",
   "execution_count": null,
   "id": "4218bc415693d727",
   "metadata": {
    "ExecuteTime": {
     "end_time": "2024-04-12T08:00:19.437978Z",
     "start_time": "2024-04-12T08:00:19.423777Z"
    },
    "collapsed": false,
    "jupyter": {
     "outputs_hidden": false
    }
   },
   "outputs": [],
   "source": [
    "# An image is still an numpy array\n",
    "type(x_train[img_index])"
   ]
  },
  {
   "cell_type": "code",
   "execution_count": null,
   "id": "c3206b747e0187dc",
   "metadata": {
    "ExecuteTime": {
     "end_time": "2024-04-12T08:00:19.453163Z",
     "start_time": "2024-04-12T08:00:19.439977Z"
    },
    "collapsed": false,
    "jupyter": {
     "outputs_hidden": false
    }
   },
   "outputs": [],
   "source": [
    "# Shape of a single image has 32x32 Pixels and 3 color layers\n",
    "x_train[img_index].shape"
   ]
  },
  {
   "cell_type": "code",
   "execution_count": null,
   "id": "06ef1d6a-26ee-45d0-9b26-629d870aa48f",
   "metadata": {
    "ExecuteTime": {
     "end_time": "2024-04-12T08:00:19.468383Z",
     "start_time": "2024-04-12T08:00:19.454215Z"
    }
   },
   "outputs": [],
   "source": [
    "# We need to one-hot-encode our Y values\n",
    "n_classes = 10\n",
    "y_train = keras.utils.to_categorical(y_train, n_classes)\n",
    "y_test = keras.utils.to_categorical(y_test, n_classes)"
   ]
  },
  {
   "cell_type": "code",
   "execution_count": null,
   "id": "a1f61e65-914b-434d-bb67-99b19ea26a4f",
   "metadata": {
    "ExecuteTime": {
     "end_time": "2024-04-12T08:00:19.484381Z",
     "start_time": "2024-04-12T08:00:19.470384Z"
    }
   },
   "outputs": [],
   "source": [
    "# a simple VGG implementation prepared for Keras Tuner\n",
    "# https://github.com/reedajohns/MiniVGGNet-in-Keras/blob/main/scripts/fundamentals/neuralnet/minivggnet.py\n",
    "def model_builder(hp):\n",
    "    # initialize the model along with the input shape to be\n",
    "    # some basic parameters which allow adoption to other data sets\n",
    "    height = 32\n",
    "    width = 32\n",
    "    depth = 3\n",
    "    classes = 10\n",
    "    \n",
    "    # \"channels last\" and the channels dimension itself\n",
    "    new_model = Sequential()\n",
    "    input_shape = (height, width, depth)\n",
    "    chan_dim = -1\n",
    "\n",
    "    # if we are using \"channels first\", update the input shape\n",
    "    # and channels dimension\n",
    "    if K.image_data_format() == \"channels_first\":\n",
    "        input_shape = (depth, height, width)\n",
    "        chan_dim = 1\n",
    "\n",
    "    # first CONV => RELU => CONV => RELU => POOL layer set\n",
    "    new_model.add(Conv2D(32, (3, 3), padding=\"same\", input_shape=input_shape, activation=\"relu\"))\n",
    "    new_model.add(BatchNormalization(axis=chan_dim))\n",
    "    new_model.add(Conv2D(32, (3, 3), padding=\"same\", activation=\"relu\"))\n",
    "    new_model.add(BatchNormalization(axis=chan_dim))\n",
    "    new_model.add(MaxPooling2D(pool_size=(2, 2)))\n",
    "    new_model.add(Dropout(0.25))\n",
    "\n",
    "    # second CONV => RELU => CONV => RELU => POOL layer set\n",
    "    new_model.add(Conv2D(64, (3, 3), padding=\"same\", activation=\"relu\"))\n",
    "    new_model.add(BatchNormalization(axis=chan_dim))\n",
    "    new_model.add(Conv2D(64, (3, 3), padding=\"same\", activation=\"relu\"))\n",
    "    new_model.add(BatchNormalization(axis=chan_dim))\n",
    "    new_model.add(MaxPooling2D(pool_size=(2, 2)))\n",
    "    new_model.add(Dropout(0.25))\n",
    "\n",
    "    # first (and only) set of FC => RELU layers\n",
    "    new_model.add(Flatten())\n",
    "    new_model.add(Dense(512, activation=\"relu\"))\n",
    "    new_model.add(BatchNormalization())\n",
    "    new_model.add(Dropout(0.5))\n",
    "\n",
    "    # softmax classifier\n",
    "    new_model.add(Dense(classes, activation=\"softmax\"))\n",
    "\n",
    "    # Tune the learning rate for the optimizer\n",
    "    # Choose an optimal value from 0.01, 0.001, or 0.0001\n",
    "    hp_learning_rate = hp.Choice('learning_rate', values=[1e-2, 1e-3, 1e-4])\n",
    "    new_model.compile(loss=\"categorical_crossentropy\", optimizer=Adam(learning_rate=hp_learning_rate), metrics=[\"accuracy\"])\n",
    "    # return the constructed network architecture\n",
    "    return new_model\n",
    "\n"
   ]
  },
  {
   "cell_type": "code",
   "execution_count": null,
   "id": "e6ed7a3a58aa04a3",
   "metadata": {
    "ExecuteTime": {
     "end_time": "2024-04-12T08:00:19.734181Z",
     "start_time": "2024-04-12T08:00:19.713757Z"
    }
   },
   "outputs": [],
   "source": [
    "# Attention: If you change the tuner you need to remove the cache dir in directory='tuner_cifar_dir', in advance.\n",
    "tuner = kt.Hyperband(model_builder,\n",
    "                     objective='val_loss',\n",
    "                     max_epochs=5,\n",
    "                     factor=3,\n",
    "                     directory='tuner_cifar_dir',\n",
    "                     project_name='tune cifar mini vgg')"
   ]
  },
  {
   "cell_type": "code",
   "execution_count": null,
   "id": "7700784f32055411",
   "metadata": {
    "ExecuteTime": {
     "end_time": "2024-04-12T08:00:21.506940Z",
     "start_time": "2024-04-12T08:00:21.489691Z"
    }
   },
   "outputs": [],
   "source": [
    "stop_early = EarlyStopping(monitor='val_loss', patience=5)"
   ]
  },
  {
   "cell_type": "code",
   "execution_count": null,
   "id": "87204dc0e0e73f75",
   "metadata": {
    "ExecuteTime": {
     "end_time": "2024-04-12T08:00:26.615587Z",
     "start_time": "2024-04-12T08:00:26.608361Z"
    }
   },
   "outputs": [],
   "source": [
    "# also see: https://keras.io/guides/keras_tuner/visualize_tuning/\n",
    "tuner.search(x_train, y_train, epochs=10, validation_split=0.2, callbacks=[stop_early])"
   ]
  },
  {
   "cell_type": "code",
   "execution_count": null,
   "id": "54985455328d3935",
   "metadata": {
    "ExecuteTime": {
     "end_time": "2024-04-12T08:00:29.137203Z",
     "start_time": "2024-04-12T08:00:29.121573Z"
    }
   },
   "outputs": [],
   "source": [
    "# Get the optimal hyperparameters\n",
    "best_hps=tuner.get_best_hyperparameters(num_trials=1)[0]\n",
    "\n",
    "print(f\"\"\"\n",
    "The hyperparameter search is complete.\n",
    "The optimal learning_rate for Adam is {best_hps.get('learning_rate')}.\n",
    "\n",
    "\"\"\")"
   ]
  },
  {
   "cell_type": "code",
   "execution_count": null,
   "id": "31ee1365f69bbfa3",
   "metadata": {
    "ExecuteTime": {
     "end_time": "2024-04-12T08:00:41.030287Z",
     "start_time": "2024-04-12T08:00:40.686999Z"
    }
   },
   "outputs": [],
   "source": [
    "# Build the model with the optimal hyperparameters and train it on the data for 50 epochs\n",
    "model = tuner.hypermodel.build(best_hps)"
   ]
  },
  {
   "cell_type": "code",
   "execution_count": null,
   "id": "d9938189-a9dd-4497-b9cf-2bbf3e0f60ff",
   "metadata": {
    "ExecuteTime": {
     "end_time": "2024-04-12T08:00:41.755114Z",
     "start_time": "2024-04-12T08:00:41.708239Z"
    }
   },
   "outputs": [],
   "source": [
    "# we can display the model summary\n",
    "model.summary()"
   ]
  },
  {
   "cell_type": "code",
   "execution_count": null,
   "id": "eecaac5f-d80e-45a5-8d8f-3d9aec7dba37",
   "metadata": {
    "ExecuteTime": {
     "end_time": "2024-04-12T08:00:49.315883Z",
     "start_time": "2024-04-12T08:00:49.071014Z"
    }
   },
   "outputs": [],
   "source": [
    "# Tensorflow allows to creat a visual representation of our model.\n",
    "from keras.utils import plot_model\n",
    "\n",
    "plot_model(model, to_file='../img/model_plot.png', show_shapes=True, show_layer_names=True)"
   ]
  },
  {
   "cell_type": "code",
   "execution_count": null,
   "id": "3fb3c73913b6694b",
   "metadata": {
    "ExecuteTime": {
     "end_time": "2024-04-12T08:00:50.358959Z",
     "start_time": "2024-04-12T08:00:50.343283Z"
    }
   },
   "outputs": [],
   "source": [
    "### Optional - Hierfür müssen zusätziche Software und Bibliotheken installiert werden.\n",
    "\n",
    "# import visualkeras\n",
    "# from PIL import ImageFont\n",
    "\n",
    "# font = ImageFont.truetype(\"arial.ttf\", 64)  # using comic sans is strictly prohibited!\n",
    "\n",
    "# visualkeras.layered_view(model, legend=True, font=font, scale_xy=20, scale_z=4, max_z=500)  # font is optional!\n"
   ]
  },
  {
   "cell_type": "code",
   "execution_count": null,
   "id": "42ca6936-27ff-434d-9616-f78d81c7da9d",
   "metadata": {
    "ExecuteTime": {
     "end_time": "2024-04-12T08:00:53.609374Z",
     "start_time": "2024-04-12T08:00:53.593751Z"
    }
   },
   "outputs": [],
   "source": [
    "# we define two so called \"callback\" object.\n",
    "# these objects can be injected to the training process.\n",
    "# here: \n",
    "#   - the checkpointer callback collects the bestperforming model and stores the respective model parameters\n",
    "#   - the history callback collects all metrics from all epochs\n",
    "from keras.callbacks import ModelCheckpoint\n",
    "from keras.callbacks import History\n",
    "\n",
    "checkpointer = ModelCheckpoint(filepath='model.weights.best.hdf5', verbose = 1, save_best_only=True)                     \n",
    "history = History()"
   ]
  },
  {
   "cell_type": "code",
   "execution_count": null,
   "id": "01ecfcb5-225a-4a81-acb8-769b3686f84d",
   "metadata": {
    "ExecuteTime": {
     "end_time": "2024-04-12T08:04:54.751680Z",
     "start_time": "2024-04-12T08:01:00.749767Z"
    }
   },
   "outputs": [],
   "source": [
    "result = model.fit(x_train, y_train, batch_size=128, epochs=10, verbose=1\n",
    "                   #, validation_data=(x_valid, y_valid)\n",
    "                   , validation_split=0.2\n",
    "                   , callbacks = [history, checkpointer])"
   ]
  },
  {
   "cell_type": "code",
   "execution_count": null,
   "id": "0f7710fe-fc2b-41fb-a536-45b6d8744b3d",
   "metadata": {
    "ExecuteTime": {
     "end_time": "2024-04-12T08:11:20.350368Z",
     "start_time": "2024-04-12T08:11:20.334633Z"
    }
   },
   "outputs": [],
   "source": [
    "history.history['loss']"
   ]
  },
  {
   "cell_type": "code",
   "execution_count": null,
   "id": "6edce943-b77a-4462-8ab5-10070f261c10",
   "metadata": {
    "ExecuteTime": {
     "end_time": "2024-04-12T08:11:28.333Z",
     "start_time": "2024-04-12T08:11:27.816362Z"
    }
   },
   "outputs": [],
   "source": [
    "fig, ax1 = plt.subplots()\n",
    "ax1.plot(history.history['loss'], color='red', linestyle='--')\n",
    "ax1.plot(history.history['val_loss'], color='green', linestyle='--')\n",
    "plt.title('model performance')\n",
    "plt.ylabel('loss')\n",
    "plt.xlabel('epoch')\n",
    "plt.legend(['train loss', 'val loss', 'train acc', 'val acc'], loc='upper left')\n",
    "\n",
    "ax2 = ax1.twinx()\n",
    "\n",
    "ax2.plot(history.history['accuracy'])\n",
    "ax2.plot(history.history['val_accuracy'])\n",
    "ax2.set_ylabel('accuracy')\n",
    "ax2.legend(['train acc', 'val acc'], loc='lower left')"
   ]
  },
  {
   "cell_type": "code",
   "execution_count": null,
   "id": "69d32fc7-e852-46a0-8d78-4e6d1625ee24",
   "metadata": {
    "ExecuteTime": {
     "end_time": "2024-04-12T08:15:26.868112Z",
     "start_time": "2024-04-12T08:15:26.821097Z"
    }
   },
   "outputs": [],
   "source": [
    "# Load the weights with the best validation accuracy\n",
    "model.load_weights('model.weights.best.hdf5')"
   ]
  },
  {
   "cell_type": "code",
   "execution_count": null,
   "id": "7840929e-39c0-4126-866f-1a58e829b188",
   "metadata": {
    "ExecuteTime": {
     "end_time": "2024-04-12T08:15:30.942324Z",
     "start_time": "2024-04-12T08:15:28.553111Z"
    }
   },
   "outputs": [],
   "source": [
    "# Evaluate the model on test set\n",
    "score = model.evaluate(x_test, y_test, verbose=0)\n",
    "\n",
    "# Print test accuracy\n",
    "print('\\n', 'Test accuracy:', score[1])"
   ]
  },
  {
   "cell_type": "code",
   "execution_count": null,
   "id": "670e80fe-d3fb-4169-8188-e43eb87e03ce",
   "metadata": {
    "ExecuteTime": {
     "end_time": "2024-04-12T08:15:56.995142Z",
     "start_time": "2024-04-12T08:15:53.391647Z"
    }
   },
   "outputs": [],
   "source": [
    "y_hat = model.predict(x_test)\n"
   ]
  },
  {
   "cell_type": "code",
   "execution_count": null,
   "id": "2069a6e0-bf0a-44dd-a7f9-90ca122fefc3",
   "metadata": {
    "ExecuteTime": {
     "end_time": "2024-04-12T08:16:05.385208Z",
     "start_time": "2024-04-12T08:16:04.513692Z"
    }
   },
   "outputs": [],
   "source": [
    "# Plot a random sample of 15 test images, their predicted labels and ground truth\n",
    "figure = plt.figure(figsize=(20, 8))\n",
    "for i, index in enumerate(np.random.choice(x_test.shape[0], size=15, replace=False)):\n",
    "    ax = figure.add_subplot(3, 5, i + 1, xticks=[], yticks=[])\n",
    "    # Display each image\n",
    "    ax.imshow(np.squeeze(x_test[index]), cmap='gray_r')\n",
    "    predict_index = np.argmax(y_hat[index])\n",
    "    true_index = np.argmax(y_test[index])\n",
    "    # Set the title for each image\n",
    "    ax.set_title(\"{} ({})\".format(cifar10_labels[predict_index], \n",
    "                                  cifar10_labels[true_index]),\n",
    "                                  color=(\"green\" if predict_index == true_index else \"red\"))"
   ]
  },
  {
   "cell_type": "code",
   "execution_count": null,
   "id": "2f62b03b-52c7-4312-b3c5-aed1e84232ae",
   "metadata": {},
   "outputs": [],
   "source": []
  }
 ],
 "metadata": {
  "kernelspec": {
   "display_name": "Python 3 (ipykernel)",
   "language": "python",
   "name": "python3"
  },
  "language_info": {
   "codemirror_mode": {
    "name": "ipython",
    "version": 3
   },
   "file_extension": ".py",
   "mimetype": "text/x-python",
   "name": "python",
   "nbconvert_exporter": "python",
   "pygments_lexer": "ipython3",
   "version": "3.10.8"
  }
 },
 "nbformat": 4,
 "nbformat_minor": 5
}
