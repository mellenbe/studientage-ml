{
 "cells": [
  {
   "cell_type": "markdown",
   "metadata": {
    "collapsed": false,
    "jupyter": {
     "outputs_hidden": false
    }
   },
   "source": [
    "# Daten Laden und anzeigen (MNIST Datensatz)"
   ]
  },
  {
   "cell_type": "code",
   "metadata": {
    "collapsed": false,
    "jupyter": {
     "outputs_hidden": false
    }
   },
   "source": [
    "import numpy as np\n",
    "from tensorflow import keras\n",
    "from keras import layers\n",
    "\n",
    "import numpy as np\n",
    "import matplotlib.pyplot as plt\n",
    "import seaborn\n",
    "from matplotlib.pyplot import figure\n",
    "# a) Daten laden (mnist Data-Set)\n",
    "# b) Test-Train-Split durchführen\n",
    "(x_train, y_train), (x_test, y_test) = keras.datasets.fashion_mnist.load_data()\n",
    "#(x_train, y_train), (x_test, y_test) = keras.datasets.mnist.load_data()\n",
    "# Model / data parameters\n",
    "num_classes = 10\n",
    "input_shape = (28, 28, 1)\n",
    "\n",
    "# Scale images to the [0, 1] range\n",
    "x_train = x_train.astype(\"float32\") / 255\n",
    "x_test = x_test.astype(\"float32\") / 255\n",
    "# Make sure images have shape (28, 28, 1)\n",
    "x_train = np.expand_dims(x_train, -1)\n",
    "x_test = np.expand_dims(x_test, -1)\n",
    "print(x_train.shape[0], \"train samples\")\n",
    "print(x_test.shape[0], \"test samples\")\n",
    "\n",
    "# convert class vectors to binary class matrices\n",
    "y_train = keras.utils.to_categorical(y_train, num_classes)\n",
    "y_test = keras.utils.to_categorical(y_test, num_classes)"
   ],
   "outputs": [],
   "execution_count": null
  },
  {
   "cell_type": "markdown",
   "metadata": {
    "collapsed": false,
    "jupyter": {
     "outputs_hidden": false
    }
   },
   "source": [
    "# Ausgabe von Beispiel-Daten\n",
    "\n",
    "Folgender Code dient (lediglich) dazu, einige zufällig ausgewählte Beispiel-Bilder und deren Annotation anzuzeigen."
   ]
  },
  {
   "cell_type": "code",
   "metadata": {},
   "source": [
    "import math\n",
    "seaborn.set_style('white')\n",
    "for x in range(10):\n",
    "    fig, axs = plt.subplots(nrows=1, ncols=4, figsize=(10,3))\n",
    "    \n",
    "    # Empty list containers to collect image infos\n",
    "    images=[None]*4\n",
    "    y_images=[None]*4\n",
    "    \n",
    "    # Grap some random images and y_test values\n",
    "    for idx,image_nr in enumerate(np.random.randint(1100, size=4)):\n",
    "        images[idx]=x_test[image_nr]\n",
    "        y_images[idx]=y_test[image_nr]\n",
    "    \n",
    "    # Print images and y_test values\n",
    "    for i, ax in enumerate(axs.flatten()):\n",
    "        plt.sca(ax)\n",
    "        plt.imshow(images[i], cmap='gray_r')\n",
    "        plt.title(y_images[i].astype(int))\n",
    "    \n",
    "    # Visualize images\n",
    "    plt.suptitle('Beispiel-Bilder mit Annotation')\n",
    "    plt.show()"
   ],
   "outputs": [],
   "execution_count": null
  },
  {
   "cell_type": "code",
   "metadata": {
    "collapsed": false,
    "jupyter": {
     "outputs_hidden": false
    }
   },
   "source": [],
   "outputs": [],
   "execution_count": null
  }
 ],
 "metadata": {
  "kernelspec": {
   "display_name": "Python 3 (ipykernel)",
   "language": "python",
   "name": "python3"
  },
  "language_info": {
   "codemirror_mode": {
    "name": "ipython",
    "version": 3
   },
   "file_extension": ".py",
   "mimetype": "text/x-python",
   "name": "python",
   "nbconvert_exporter": "python",
   "pygments_lexer": "ipython3",
   "version": "3.10.8"
  },
  "vscode": {
   "interpreter": {
    "hash": "3ad933181bd8a04b432d3370b9dc3b0662ad032c4dfaa4e4f1596c548f763858"
   }
  }
 },
 "nbformat": 4,
 "nbformat_minor": 4
}
