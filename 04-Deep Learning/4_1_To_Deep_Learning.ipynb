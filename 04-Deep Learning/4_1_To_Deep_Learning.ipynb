{
 "cells": [
  {
   "cell_type": "markdown",
   "id": "f96ca3f8bada391e",
   "metadata": {
    "collapsed": false,
    "jp-MarkdownHeadingCollapsed": true,
    "jupyter": {
     "outputs_hidden": false
    }
   },
   "source": [
    "# Logistic Regression | Deep Learning\n",
    "\n",
    "Können wir unser Beispiel auf ein tiefes neuronales Netz übertragen?\n",
    "\n",
    "<br>\n",
    "<img src=\"../img/komplexe-zusammenhaenge.png\" width=70%>\n",
    "<br>"
   ]
  },
  {
   "cell_type": "markdown",
   "id": "e1c4cf6f-8179-4a86-850a-0461cb7587da",
   "metadata": {
    "collapsed": false,
    "jupyter": {
     "outputs_hidden": false
    }
   },
   "source": [
    "# Ein tiefes neuronales Netz\n",
    "\n",
    "<br>\n",
    "<img src=\"../img/tnn.png\" width = \"70%\">\n",
    "<br>"
   ]
  },
  {
   "cell_type": "code",
   "execution_count": null,
   "id": "13fc175e968dd432",
   "metadata": {
    "collapsed": false,
    "jupyter": {
     "outputs_hidden": false
    }
   },
   "outputs": [],
   "source": [
    "#import some necessary librairies\n",
    "\n",
    "import numpy as np # linear algebra\n",
    "import pandas as pd # data processing, CSV file I/O (e.g. pd.read_csv)\n",
    "%matplotlib inline\n",
    "import matplotlib.pyplot as plt  # Matlab-style plotting\n",
    "import seaborn as sns\n",
    "color = sns.color_palette()\n",
    "sns.set_style('darkgrid')\n",
    "import warnings\n",
    "def ignore_warn(*args, **kwargs):\n",
    "    pass\n",
    "warnings.warn = ignore_warn #ignore annoying warning (from sklearn and seaborn)\n",
    "warnings.warn_explicit = ignore_warn\n",
    "\n",
    "import pickle\n",
    "from scipy import stats\n",
    "from scipy.stats import norm, skew #for some statistics\n",
    "\n",
    "pd.set_option('display.float_format', lambda x: '{:.3f}'.format(x)) #Limiting floats output to 3 decimal points\n",
    "\n",
    "from keras.callbacks import ModelCheckpoint, History\n",
    "from keras.models import Sequential\n",
    "from keras.layers import Dense, Activation, Flatten\n",
    "from sklearn.model_selection import train_test_split\n",
    "from sklearn.ensemble import RandomForestRegressor\n",
    "from sklearn.metrics import mean_absolute_error\n",
    "from keras.metrics import RootMeanSquaredError, MeanSquaredError\n",
    "from matplotlib import pyplot as plt\n"
   ]
  },
  {
   "cell_type": "markdown",
   "id": "1617701f-cd24-41fc-94d3-cb335db19394",
   "metadata": {
    "collapsed": false,
    "jupyter": {
     "outputs_hidden": false
    }
   },
   "source": [
    "# Daten aus vorigem Schritt laden"
   ]
  },
  {
   "cell_type": "code",
   "execution_count": null,
   "id": "70474c85-f1e2-426c-ac1d-a0f2aee1df95",
   "metadata": {},
   "outputs": [],
   "source": [
    "with open('../data/house-prices-advanced-regression-techniques/x_preprocessed_train.pkl', 'rb') as handle:\n",
    "    X_preprocessed_train = pickle.load(handle)\n",
    "\n",
    "with open('../data/house-prices-advanced-regression-techniques/y_train.pkl', 'rb') as handle:\n",
    "    y_preprocessed_train = pickle.load(handle)\n",
    "    \n",
    "with open('../data/house-prices-advanced-regression-techniques/x_test.pkl', 'rb') as handle:\n",
    "    X_preprocessed_test = pickle.load(handle)\n"
   ]
  },
  {
   "cell_type": "markdown",
   "id": "4c7fc1e5-0943-479a-a1a8-ff918f1df5aa",
   "metadata": {},
   "source": [
    "# Train Test Split"
   ]
  },
  {
   "cell_type": "code",
   "execution_count": null,
   "id": "d81bd49a-085b-47ca-b842-8fb84925dcd6",
   "metadata": {},
   "outputs": [],
   "source": [
    "from sklearn.linear_model import LinearRegression\n",
    "from sklearn.ensemble import RandomForestRegressor\n",
    "from xgboost import XGBRegressor\n",
    "from sklearn.model_selection import GridSearchCV, KFold, cross_val_score\n",
    "\n",
    "# Split the data into training and testing sets\n",
    "from sklearn.model_selection import train_test_split\n",
    "seed = 4354 # Random_state ist ein seed, damit gegebenenfalls immer mit der selben pseudo Random Folge gearbeitet wird.\n",
    "X_train, X_test, y_train, y_test = train_test_split(X_preprocessed_train, y_preprocessed_train, test_size=0.2, random_state=seed) \n"
   ]
  },
  {
   "cell_type": "code",
   "execution_count": null,
   "id": "e580301c-d5c0-4521-a244-70efc92f8f78",
   "metadata": {},
   "outputs": [],
   "source": [
    "print (\"Anzahl Datensätze in X_train:\\t\", X_train.shape[0], \"\\nVektor der Dimension:\\t\\t\", X_train.shape[1])"
   ]
  },
  {
   "cell_type": "code",
   "execution_count": null,
   "id": "470f0f9b-1214-44a7-880d-07d2a4f08e38",
   "metadata": {},
   "outputs": [],
   "source": [
    "model = Sequential()\n",
    "\n",
    "# The Input Layer :\n",
    "model.add(Dense(128, kernel_initializer='normal',input_dim = X_train.shape[1], activation='relu'))\n",
    "\n",
    "# The Hidden Layers :\n",
    "model.add(Dense(256, kernel_initializer='normal',activation='relu'))\n",
    "model.add(Dense(256, kernel_initializer='normal',activation='relu'))\n",
    "model.add(Dense(256, kernel_initializer='normal',activation='relu'))\n",
    "\n",
    "# The Output Layer :\n",
    "model.add(Dense(1, kernel_initializer='normal',activation='linear'))\n",
    "\n",
    "# Compile the network :\n",
    "model.compile(loss='mean_squared_error', optimizer='adam', metrics=[MeanSquaredError()])\n",
    "#model.compile(loss='mean_squared_error', optimizer='adam', metrics=['acc'])\n",
    "model.summary()"
   ]
  },
  {
   "cell_type": "code",
   "execution_count": null,
   "id": "343a9315-50ea-4476-af16-9ae0e194d4b8",
   "metadata": {},
   "outputs": [],
   "source": [
    "# Tensorflow allows to creat a visual representation of our model.\n",
    "from tensorflow.keras.utils import plot_model\n",
    "\n",
    "plot_model(model, to_file='../img/model_plot.png', show_shapes=True, show_layer_names=True)"
   ]
  },
  {
   "cell_type": "code",
   "execution_count": null,
   "id": "27f16804-f734-43c6-8885-345f75316974",
   "metadata": {},
   "outputs": [],
   "source": [
    "#checkpoint_name = 'Weights-{epoch:03d}--{val_loss:.5f}.hdf5' \n",
    "checkpoint_name = 'model.weights.best.hdf5'\n",
    "checkpoint = ModelCheckpoint(checkpoint_name, monitor='val_loss', verbose = 1, save_best_only = True, mode ='auto')\n",
    "history = History()\n",
    "callbacks_list = [checkpoint, history]"
   ]
  },
  {
   "cell_type": "code",
   "execution_count": null,
   "id": "b9d04054-d59e-464f-b8b4-56d039a35c40",
   "metadata": {},
   "outputs": [],
   "source": [
    "result = model.fit(X_train, y_train, epochs=500, batch_size=32, validation_split = 0.2, callbacks=callbacks_list)\n"
   ]
  },
  {
   "cell_type": "code",
   "execution_count": null,
   "id": "12e7894f-247a-4ef1-b112-49c6f98622a9",
   "metadata": {},
   "outputs": [],
   "source": [
    "history.history['mean_squared_error']"
   ]
  },
  {
   "cell_type": "code",
   "execution_count": null,
   "id": "3bd8e3db-6fca-4406-a406-8ba843f82d8f",
   "metadata": {},
   "outputs": [],
   "source": [
    "root_mean_squared_error = np.sqrt(history.history['mean_squared_error'])\n",
    "val_root_mean_squared_error = np.sqrt(history.history['val_mean_squared_error'])\n",
    "\n",
    "best_epoch = list (val_root_mean_squared_error).index(min(val_root_mean_squared_error)) + 1\n",
    "print('Best epoch: %d' % (best_epoch,))\n",
    "print (f'Best RMSE: {min(val_root_mean_squared_error)}')"
   ]
  },
  {
   "cell_type": "code",
   "execution_count": null,
   "id": "3d0c731a-b4d1-4d76-98ae-65add3a12100",
   "metadata": {},
   "outputs": [],
   "source": [
    "fig, ax1 = plt.subplots()\n",
    "ax1.plot(history.history['loss'], color='red', linestyle='--')\n",
    "ax1.plot(history.history['val_loss'], color='green', linestyle='--')\n",
    "plt.title('model performance')\n",
    "plt.ylabel('loss')\n",
    "plt.xlabel('epoch')\n",
    "plt.legend(['train loss', 'val loss', 'train RMSE', 'varl RMSE'], loc='upper left')\n",
    "\n",
    "ax2 = ax1.twinx()\n",
    "\n",
    "ax2.plot(root_mean_squared_error)\n",
    "ax2.plot(val_root_mean_squared_error)\n",
    "ax2.set_ylabel('RMSE')\n",
    "ax2.legend(['train RMSE', 'val RMSE'], loc='upper right')"
   ]
  },
  {
   "cell_type": "code",
   "execution_count": null,
   "id": "9ac7a0f4-f348-4e11-a5ba-e3a593fef68f",
   "metadata": {},
   "outputs": [],
   "source": [
    "# Load the weights with the best validation accuracy\n",
    "model.load_weights('model.weights.best.hdf5')"
   ]
  },
  {
   "cell_type": "code",
   "execution_count": null,
   "id": "97c9546b-6b37-4187-94b7-d48f1e7547b7",
   "metadata": {},
   "outputs": [],
   "source": [
    "# Evaluate the model on test set\n",
    "score = model.evaluate(X_test, y_test, verbose=0)\n",
    "\n",
    "# Print test RMSE\n",
    "print('\\n', 'Test RMSE:', np.sqrt(score[1]))"
   ]
  },
  {
   "cell_type": "code",
   "execution_count": null,
   "id": "35f52240-f93b-4a1a-bbe5-d5440d2f274b",
   "metadata": {},
   "outputs": [],
   "source": [
    "model.metrics_names "
   ]
  },
  {
   "cell_type": "code",
   "execution_count": null,
   "id": "e49fe58c-a375-4465-8d95-d6ecc8f3b258",
   "metadata": {},
   "outputs": [],
   "source": [
    "y_hat = model.predict(X_test)\n",
    "y_hat = y_hat.reshape(y_hat.shape[0])"
   ]
  },
  {
   "cell_type": "code",
   "execution_count": null,
   "id": "1f2abe3f-86e4-4448-abef-52327160fba3",
   "metadata": {},
   "outputs": [],
   "source": [
    "rand_vals=np.random.choice(X_test.shape[0], size=15, replace=False)\n",
    "rand_vals"
   ]
  },
  {
   "cell_type": "code",
   "execution_count": null,
   "id": "09dde420-61ee-415b-b92b-8f0dfd881b11",
   "metadata": {},
   "outputs": [],
   "source": [
    "for i, index in enumerate(rand_vals):\n",
    "    predict_index = y_hat[index]\n",
    "    true_index = y_test.to_numpy()[index]\n",
    "    print (f'{index}: predict={predict_index} / true={true_index}')"
   ]
  },
  {
   "cell_type": "code",
   "execution_count": null,
   "id": "a8dbcb93-1524-49cf-8490-a0611cd5cfe7",
   "metadata": {},
   "outputs": [],
   "source": [
    "fig, ax1 = plt.subplots()\n",
    "plt.title('Prediction Delta')\n",
    "plt.ylabel('Delta')\n",
    "plt.xlabel('Index')\n",
    "ax1.plot(np.subtract(y_test.to_numpy(),y_hat), color='red', linestyle='-')"
   ]
  },
  {
   "cell_type": "code",
   "execution_count": null,
   "id": "8f380ffe-9ea9-44b6-a1fd-f274d7103358",
   "metadata": {},
   "outputs": [],
   "source": []
  }
 ],
 "metadata": {
  "kernelspec": {
   "display_name": "Python 3 (ipykernel)",
   "language": "python",
   "name": "python3"
  },
  "language_info": {
   "codemirror_mode": {
    "name": "ipython",
    "version": 3
   },
   "file_extension": ".py",
   "mimetype": "text/x-python",
   "name": "python",
   "nbconvert_exporter": "python",
   "pygments_lexer": "ipython3",
   "version": "3.10.14"
  }
 },
 "nbformat": 4,
 "nbformat_minor": 5
}
