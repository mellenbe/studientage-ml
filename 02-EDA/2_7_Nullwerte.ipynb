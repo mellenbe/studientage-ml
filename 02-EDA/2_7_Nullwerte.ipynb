{
 "cells": [
  {
   "cell_type": "markdown",
   "id": "7079eaaf4b5b9cd7",
   "metadata": {
    "collapsed": false,
    "jupyter": {
     "outputs_hidden": false
    }
   },
   "source": [
    "# Nullwerte\n",
    "\n",
    "Wie wir bereits in der Übersicht zuvor gesehen haben, hat nicht jede Spalte für jede Zeile einen Wert.\n",
    "Solche Werte werden auch als NaN ('Not a Number') bezeichnet, man spricht auch von fehlenden Werten. Nullwerte können das Training von ML Algorithmen negativ beeinflussen. Daher müssen wir mit diesen Daten auf besondere Weise umgehen. Folgende Möglichkeiten stehen zur Verfügung:\n",
    "\n",
    "1. Datensätze entfernen\n",
    "2. Ersetzen durch Median/Mittelwert/Mode\n",
    "3. Eine eigene Kategorie zuweisen\n",
    "4. Fehlende Werte schätzen"
   ]
  },
  {
   "cell_type": "code",
   "execution_count": 1,
   "id": "d2af326f78b105ec",
   "metadata": {
    "collapsed": false,
    "jupyter": {
     "outputs_hidden": false
    }
   },
   "outputs": [],
   "source": [
    "#import some necessary librairies\n",
    "\n",
    "import numpy as np # linear algebra\n",
    "import pandas as pd # data processing, CSV file I/O (e.g. pd.read_csv)\n",
    "%matplotlib inline\n",
    "import matplotlib.pyplot as plt  # Matlab-style plotting\n",
    "import seaborn as sns\n",
    "color = sns.color_palette()\n",
    "sns.set_style('darkgrid')\n",
    "import warnings\n",
    "def ignore_warn(*args, **kwargs):\n",
    "    pass\n",
    "warnings.warn = ignore_warn #ignore annoying warning (from sklearn and seaborn)\n",
    "\n",
    "\n",
    "from scipy import stats\n",
    "from scipy.stats import norm, skew #for some statistics\n",
    "\n",
    "\n",
    "pd.set_option('display.float_format', lambda x: '{:.3f}'.format(x)) #Limiting floats output to 3 decimal points\n",
    "\n",
    "\n",
    "# from subprocess import check_output\n",
    "# print(check_output([\"ls\", \"../data/house-prices-advanced-regression-techniques\"]).decode(\"utf8\")) #check the files available in the directory\n",
    "\n",
    "import pickle"
   ]
  },
  {
   "cell_type": "markdown",
   "id": "a43b2005caf40db8",
   "metadata": {
    "collapsed": false,
    "jupyter": {
     "outputs_hidden": false
    }
   },
   "source": [
    "# Daten aus dem vorigen Schritt laden\n"
   ]
  },
  {
   "cell_type": "code",
   "execution_count": 2,
   "id": "2acd8172928c7fd6",
   "metadata": {
    "collapsed": false,
    "jupyter": {
     "outputs_hidden": false
    }
   },
   "outputs": [],
   "source": [
    "with open('../data/house-prices-advanced-regression-techniques/train_1.pkl', 'rb') as handle:\n",
    "    train = pickle.load(handle)\n",
    "\n",
    "with open('../data/house-prices-advanced-regression-techniques/test_1.pkl', 'rb') as handle:\n",
    "    test = pickle.load(handle)"
   ]
  },
  {
   "cell_type": "markdown",
   "id": "93bb3bfadde80517",
   "metadata": {
    "collapsed": false,
    "jupyter": {
     "outputs_hidden": false
    }
   },
   "source": [
    "# Daten zusammenfassen\n",
    "Für die Identifikation von Nullwerten sollen Testdaten und Traindaten zusammen betrachtet werden, da z.B. Spalten entfernt und kategorische Daten diskretisiert werden sollen"
   ]
  },
  {
   "cell_type": "code",
   "execution_count": 3,
   "id": "d1671783b474a747",
   "metadata": {
    "collapsed": false,
    "jupyter": {
     "outputs_hidden": false
    }
   },
   "outputs": [
    {
     "name": "stdout",
     "output_type": "stream",
     "text": [
      "Dimensionen der gesamten Daten: (2917, 79)\n"
     ]
    }
   ],
   "source": [
    "# Index neu erstellen:\n",
    "df = pd.concat((train, test)).reset_index(drop=True)\n",
    "\n",
    "# Zielvariable aus den Features entfernen\n",
    "df.drop(['SalePrice'], axis=1, inplace=True)\n",
    "\n",
    "# Ergebnis\n",
    "print(\"Dimensionen der gesamten Daten: {}\".format(df.shape))"
   ]
  },
  {
   "cell_type": "code",
   "execution_count": 4,
   "id": "29577856cf30cd3d",
   "metadata": {
    "collapsed": false,
    "jupyter": {
     "outputs_hidden": false
    }
   },
   "outputs": [
    {
     "data": {
      "text/html": [
       "<div>\n",
       "<style scoped>\n",
       "    .dataframe tbody tr th:only-of-type {\n",
       "        vertical-align: middle;\n",
       "    }\n",
       "\n",
       "    .dataframe tbody tr th {\n",
       "        vertical-align: top;\n",
       "    }\n",
       "\n",
       "    .dataframe thead th {\n",
       "        text-align: right;\n",
       "    }\n",
       "</style>\n",
       "<table border=\"1\" class=\"dataframe\">\n",
       "  <thead>\n",
       "    <tr style=\"text-align: right;\">\n",
       "      <th></th>\n",
       "      <th>count</th>\n",
       "    </tr>\n",
       "  </thead>\n",
       "  <tbody>\n",
       "    <tr>\n",
       "      <th>Alley</th>\n",
       "      <td>2719</td>\n",
       "    </tr>\n",
       "    <tr>\n",
       "      <th>BsmtCond</th>\n",
       "      <td>82</td>\n",
       "    </tr>\n",
       "    <tr>\n",
       "      <th>BsmtExposure</th>\n",
       "      <td>82</td>\n",
       "    </tr>\n",
       "    <tr>\n",
       "      <th>BsmtFinSF1</th>\n",
       "      <td>1</td>\n",
       "    </tr>\n",
       "    <tr>\n",
       "      <th>BsmtFinSF2</th>\n",
       "      <td>1</td>\n",
       "    </tr>\n",
       "    <tr>\n",
       "      <th>BsmtFinType1</th>\n",
       "      <td>79</td>\n",
       "    </tr>\n",
       "    <tr>\n",
       "      <th>BsmtFinType2</th>\n",
       "      <td>80</td>\n",
       "    </tr>\n",
       "    <tr>\n",
       "      <th>BsmtFullBath</th>\n",
       "      <td>2</td>\n",
       "    </tr>\n",
       "    <tr>\n",
       "      <th>BsmtHalfBath</th>\n",
       "      <td>2</td>\n",
       "    </tr>\n",
       "    <tr>\n",
       "      <th>BsmtQual</th>\n",
       "      <td>81</td>\n",
       "    </tr>\n",
       "    <tr>\n",
       "      <th>BsmtUnfSF</th>\n",
       "      <td>1</td>\n",
       "    </tr>\n",
       "    <tr>\n",
       "      <th>Electrical</th>\n",
       "      <td>1</td>\n",
       "    </tr>\n",
       "    <tr>\n",
       "      <th>Exterior1st</th>\n",
       "      <td>1</td>\n",
       "    </tr>\n",
       "    <tr>\n",
       "      <th>Exterior2nd</th>\n",
       "      <td>1</td>\n",
       "    </tr>\n",
       "    <tr>\n",
       "      <th>Fence</th>\n",
       "      <td>2346</td>\n",
       "    </tr>\n",
       "    <tr>\n",
       "      <th>FireplaceQu</th>\n",
       "      <td>1420</td>\n",
       "    </tr>\n",
       "    <tr>\n",
       "      <th>Functional</th>\n",
       "      <td>2</td>\n",
       "    </tr>\n",
       "    <tr>\n",
       "      <th>GarageArea</th>\n",
       "      <td>1</td>\n",
       "    </tr>\n",
       "    <tr>\n",
       "      <th>GarageCars</th>\n",
       "      <td>1</td>\n",
       "    </tr>\n",
       "    <tr>\n",
       "      <th>GarageCond</th>\n",
       "      <td>159</td>\n",
       "    </tr>\n",
       "    <tr>\n",
       "      <th>GarageFinish</th>\n",
       "      <td>159</td>\n",
       "    </tr>\n",
       "    <tr>\n",
       "      <th>GarageQual</th>\n",
       "      <td>159</td>\n",
       "    </tr>\n",
       "    <tr>\n",
       "      <th>GarageType</th>\n",
       "      <td>157</td>\n",
       "    </tr>\n",
       "    <tr>\n",
       "      <th>GarageYrBlt</th>\n",
       "      <td>159</td>\n",
       "    </tr>\n",
       "    <tr>\n",
       "      <th>KitchenQual</th>\n",
       "      <td>1</td>\n",
       "    </tr>\n",
       "    <tr>\n",
       "      <th>LotFrontage</th>\n",
       "      <td>486</td>\n",
       "    </tr>\n",
       "    <tr>\n",
       "      <th>MSZoning</th>\n",
       "      <td>4</td>\n",
       "    </tr>\n",
       "    <tr>\n",
       "      <th>MasVnrArea</th>\n",
       "      <td>23</td>\n",
       "    </tr>\n",
       "    <tr>\n",
       "      <th>MasVnrType</th>\n",
       "      <td>1766</td>\n",
       "    </tr>\n",
       "    <tr>\n",
       "      <th>MiscFeature</th>\n",
       "      <td>2812</td>\n",
       "    </tr>\n",
       "    <tr>\n",
       "      <th>PoolQC</th>\n",
       "      <td>2908</td>\n",
       "    </tr>\n",
       "    <tr>\n",
       "      <th>SaleType</th>\n",
       "      <td>1</td>\n",
       "    </tr>\n",
       "    <tr>\n",
       "      <th>TotalBsmtSF</th>\n",
       "      <td>1</td>\n",
       "    </tr>\n",
       "    <tr>\n",
       "      <th>Utilities</th>\n",
       "      <td>2</td>\n",
       "    </tr>\n",
       "  </tbody>\n",
       "</table>\n",
       "</div>"
      ],
      "text/plain": [
       "              count\n",
       "Alley          2719\n",
       "BsmtCond         82\n",
       "BsmtExposure     82\n",
       "BsmtFinSF1        1\n",
       "BsmtFinSF2        1\n",
       "BsmtFinType1     79\n",
       "BsmtFinType2     80\n",
       "BsmtFullBath      2\n",
       "BsmtHalfBath      2\n",
       "BsmtQual         81\n",
       "BsmtUnfSF         1\n",
       "Electrical        1\n",
       "Exterior1st       1\n",
       "Exterior2nd       1\n",
       "Fence          2346\n",
       "FireplaceQu    1420\n",
       "Functional        2\n",
       "GarageArea        1\n",
       "GarageCars        1\n",
       "GarageCond      159\n",
       "GarageFinish    159\n",
       "GarageQual      159\n",
       "GarageType      157\n",
       "GarageYrBlt     159\n",
       "KitchenQual       1\n",
       "LotFrontage     486\n",
       "MSZoning          4\n",
       "MasVnrArea       23\n",
       "MasVnrType     1766\n",
       "MiscFeature    2812\n",
       "PoolQC         2908\n",
       "SaleType          1\n",
       "TotalBsmtSF       1\n",
       "Utilities         2"
      ]
     },
     "execution_count": 4,
     "metadata": {},
     "output_type": "execute_result"
    }
   ],
   "source": [
    "# Anzahl der Nullwerte aller Spalten (Ergebnis ist kein DataFrame, sondern ein Series Objekt, leider...):\n",
    "null_werte = df.isna().sum()\n",
    "\n",
    "# Rück-Umwandeln in einen Data Frame\n",
    "nan = pd.DataFrame(null_werte).set_axis(['count'], axis=1)\n",
    "\n",
    "# Zeige alle Spalten, die Null-Werte haben, sortiert nach Spaltenname:\n",
    "nan = nan[nan['count'] >0]\n",
    "nan.sort_index(inplace=True)\n",
    "nan"
   ]
  },
  {
   "cell_type": "code",
   "execution_count": 5,
   "id": "2f2f68c405f2240b",
   "metadata": {
    "collapsed": false,
    "jupyter": {
     "outputs_hidden": false
    }
   },
   "outputs": [
    {
     "data": {
      "text/html": [
       "<div>\n",
       "<style scoped>\n",
       "    .dataframe tbody tr th:only-of-type {\n",
       "        vertical-align: middle;\n",
       "    }\n",
       "\n",
       "    .dataframe tbody tr th {\n",
       "        vertical-align: top;\n",
       "    }\n",
       "\n",
       "    .dataframe thead th {\n",
       "        text-align: right;\n",
       "    }\n",
       "</style>\n",
       "<table border=\"1\" class=\"dataframe\">\n",
       "  <thead>\n",
       "    <tr style=\"text-align: right;\">\n",
       "      <th></th>\n",
       "      <th>count</th>\n",
       "    </tr>\n",
       "  </thead>\n",
       "  <tbody>\n",
       "    <tr>\n",
       "      <th>SaleType</th>\n",
       "      <td>1</td>\n",
       "    </tr>\n",
       "    <tr>\n",
       "      <th>KitchenQual</th>\n",
       "      <td>1</td>\n",
       "    </tr>\n",
       "    <tr>\n",
       "      <th>BsmtFinSF1</th>\n",
       "      <td>1</td>\n",
       "    </tr>\n",
       "    <tr>\n",
       "      <th>BsmtFinSF2</th>\n",
       "      <td>1</td>\n",
       "    </tr>\n",
       "    <tr>\n",
       "      <th>GarageCars</th>\n",
       "      <td>1</td>\n",
       "    </tr>\n",
       "    <tr>\n",
       "      <th>GarageArea</th>\n",
       "      <td>1</td>\n",
       "    </tr>\n",
       "    <tr>\n",
       "      <th>TotalBsmtSF</th>\n",
       "      <td>1</td>\n",
       "    </tr>\n",
       "    <tr>\n",
       "      <th>Exterior2nd</th>\n",
       "      <td>1</td>\n",
       "    </tr>\n",
       "    <tr>\n",
       "      <th>Exterior1st</th>\n",
       "      <td>1</td>\n",
       "    </tr>\n",
       "    <tr>\n",
       "      <th>BsmtUnfSF</th>\n",
       "      <td>1</td>\n",
       "    </tr>\n",
       "    <tr>\n",
       "      <th>Electrical</th>\n",
       "      <td>1</td>\n",
       "    </tr>\n",
       "    <tr>\n",
       "      <th>Functional</th>\n",
       "      <td>2</td>\n",
       "    </tr>\n",
       "    <tr>\n",
       "      <th>Utilities</th>\n",
       "      <td>2</td>\n",
       "    </tr>\n",
       "    <tr>\n",
       "      <th>BsmtHalfBath</th>\n",
       "      <td>2</td>\n",
       "    </tr>\n",
       "    <tr>\n",
       "      <th>BsmtFullBath</th>\n",
       "      <td>2</td>\n",
       "    </tr>\n",
       "    <tr>\n",
       "      <th>MSZoning</th>\n",
       "      <td>4</td>\n",
       "    </tr>\n",
       "    <tr>\n",
       "      <th>MasVnrArea</th>\n",
       "      <td>23</td>\n",
       "    </tr>\n",
       "    <tr>\n",
       "      <th>BsmtFinType1</th>\n",
       "      <td>79</td>\n",
       "    </tr>\n",
       "    <tr>\n",
       "      <th>BsmtFinType2</th>\n",
       "      <td>80</td>\n",
       "    </tr>\n",
       "    <tr>\n",
       "      <th>BsmtQual</th>\n",
       "      <td>81</td>\n",
       "    </tr>\n",
       "    <tr>\n",
       "      <th>BsmtCond</th>\n",
       "      <td>82</td>\n",
       "    </tr>\n",
       "    <tr>\n",
       "      <th>BsmtExposure</th>\n",
       "      <td>82</td>\n",
       "    </tr>\n",
       "    <tr>\n",
       "      <th>GarageType</th>\n",
       "      <td>157</td>\n",
       "    </tr>\n",
       "    <tr>\n",
       "      <th>GarageYrBlt</th>\n",
       "      <td>159</td>\n",
       "    </tr>\n",
       "    <tr>\n",
       "      <th>GarageFinish</th>\n",
       "      <td>159</td>\n",
       "    </tr>\n",
       "    <tr>\n",
       "      <th>GarageCond</th>\n",
       "      <td>159</td>\n",
       "    </tr>\n",
       "    <tr>\n",
       "      <th>GarageQual</th>\n",
       "      <td>159</td>\n",
       "    </tr>\n",
       "    <tr>\n",
       "      <th>LotFrontage</th>\n",
       "      <td>486</td>\n",
       "    </tr>\n",
       "    <tr>\n",
       "      <th>FireplaceQu</th>\n",
       "      <td>1420</td>\n",
       "    </tr>\n",
       "    <tr>\n",
       "      <th>MasVnrType</th>\n",
       "      <td>1766</td>\n",
       "    </tr>\n",
       "    <tr>\n",
       "      <th>Fence</th>\n",
       "      <td>2346</td>\n",
       "    </tr>\n",
       "    <tr>\n",
       "      <th>Alley</th>\n",
       "      <td>2719</td>\n",
       "    </tr>\n",
       "    <tr>\n",
       "      <th>MiscFeature</th>\n",
       "      <td>2812</td>\n",
       "    </tr>\n",
       "    <tr>\n",
       "      <th>PoolQC</th>\n",
       "      <td>2908</td>\n",
       "    </tr>\n",
       "  </tbody>\n",
       "</table>\n",
       "</div>"
      ],
      "text/plain": [
       "              count\n",
       "SaleType          1\n",
       "KitchenQual       1\n",
       "BsmtFinSF1        1\n",
       "BsmtFinSF2        1\n",
       "GarageCars        1\n",
       "GarageArea        1\n",
       "TotalBsmtSF       1\n",
       "Exterior2nd       1\n",
       "Exterior1st       1\n",
       "BsmtUnfSF         1\n",
       "Electrical        1\n",
       "Functional        2\n",
       "Utilities         2\n",
       "BsmtHalfBath      2\n",
       "BsmtFullBath      2\n",
       "MSZoning          4\n",
       "MasVnrArea       23\n",
       "BsmtFinType1     79\n",
       "BsmtFinType2     80\n",
       "BsmtQual         81\n",
       "BsmtCond         82\n",
       "BsmtExposure     82\n",
       "GarageType      157\n",
       "GarageYrBlt     159\n",
       "GarageFinish    159\n",
       "GarageCond      159\n",
       "GarageQual      159\n",
       "LotFrontage     486\n",
       "FireplaceQu    1420\n",
       "MasVnrType     1766\n",
       "Fence          2346\n",
       "Alley          2719\n",
       "MiscFeature    2812\n",
       "PoolQC         2908"
      ]
     },
     "execution_count": 5,
     "metadata": {},
     "output_type": "execute_result"
    }
   ],
   "source": [
    "# Zeige alle Spalten, die Null-Werte haben, sortiert nach Anzahl\n",
    "nan.sort_values(by = 'count') "
   ]
  },
  {
   "cell_type": "markdown",
   "id": "830889b6d23a64f2",
   "metadata": {
    "collapsed": false,
    "jupyter": {
     "outputs_hidden": false
    }
   },
   "source": [
    "### Beurteilung der Spalten mit Null-Werten:\n",
    "\n",
    "Wir können der Datensatzbeschreibung entnehmen:\n",
    "\n",
    "- Alley: Type of alley access to property == Art des Wegs, der zum Grundstück führt (Grvl, Pave, NA)\n",
    "- BsmtCond: Evaluates the general condition of the basement == Qualität des Kellers (Ex, Gd, TA, Fa, Po, NA)\n",
    "- BsmtExposure: Refers to walkout or garden level walls == Exposition des Kellers (Gd, Av, Mn, No, NA)\n",
    "- BsmtFinSF1: Keller Typ 1, square feet\n",
    "- BsmtFinSF2: Keller Typ 2, square feet\n",
    "- BsmtFinType1: Rating of basement finished area == Qualität der Umgebung (GLQ, ALQ, BLQ, Rec, LwQ, Unf, NA)\n",
    "- BsmtFinType2: Rating of basement finished area == Qualität der Umgebung (GLQ, ALQ, BLQ, Rec, LwQ, Unf, NA)\n",
    "- BsmtFullBath: Anzahl Bäder im Keller\n",
    "- BsmtHalfBath: Anzahl halbe Bäder im Keller\n",
    "- BsmtQual: Qualität des Kellers (Ex, Gd, TA, Fa, Po, NA)\n",
    "- BsmtUnfSF: Unfertiger Keller: square feet\n",
    "- Electrical: Art der elektrischen Installation (SBrkr, FuseA, FuseF, FuseP, Mix)\n",
    "- Exterior1st: Oberfläche des Hauses (AsbShng, AsphShn, BrkComm, BrkFace, CBlock, CemntBd, HdBoard, ImStucc, MetalSd, Other, Plywood, PreCast, Stone, Stucco, VinylSd, Wd Sdng, WdShing\tWood Shingles)\n",
    "- Exterior2nd: Oberfläche des Hauses (AsbShng, AsphShn, BrkComm, BrkFace, CBlock, CemntBd, HdBoard, ImStucc, MetalSd, Other, Plywood, PreCast, Stone, Stucco, VinylSd, Wd Sdng, WdShing\tWood Shingles)\n",
    "- Fence: Fence quality == Hellhörigkeit (GdPrv, MnPrv, GdWo, MnWw, NA)\n",
    "- FireplaceQu: Fireplace quality == Qualität des Kamins/Ofens (Ex, Gd, TA, Fa, Po, NA)\n",
    "- Functional: Hausfunktion (Typ, Min1, Min2, Mod, Maj1, Maj2, Sev, Sal)\n",
    "- GarageArea: Größe der Garage\n",
    "- GarageCars: Anzahl der Fahrzeuge der Garage\n",
    "- GarageCond: Zustand der Garage (Ex, Gd, TA, Fa, Po, NA)\n",
    "- GarageFinish: Oberflächen in der Garage (Fin, RFn, Unf, NA) \n",
    "- GarageQual: Qualität der Garage (Ex, Gd, TA, Fa, Po, NA)\n",
    "- GarageType: Art der Garage (2Types, Attchd, Basment, BuiltIn, CarPort, Detchd, NA)\n",
    "- GarageYrBlt: Baujahr der Garage\n",
    "- KitchenQual: Ex, Gd, TA, Fa, Po\n",
    "- LotFrontage: Linear feet of street connected to property == Breite der Straßenfront in Metern\n",
    "- MasVnrArea: Verblendete Fläche in Quadratmetern\n",
    "- MasVnrType: Masonry veneer type == Art der Mauerwerksverblendung (BrkCmn, BrkFace, CBlock, None, Stone)\n",
    "- MiscFeature: Miscellaneous feature not covered in other categories == Weitere Eigenschaften (Elev, Gar2, Othr, Shed, TenC, NA)\n",
    "- MSZoning: Umgebung (A, C, FV, I, RH, RL, RP, RM)\n",
    "- PoolQC: Pool quality == Qualität des Pools (Ex, Gd, TA, Fa, NA)\n",
    "- SaleType: Art des Verkaufs (WD , CWD, VWD, New, COD, Con, ConLw, ConLI, ConLD, Oth)\n",
    "- TotalBsmtSF: Gesamtgröße des Kellers in square feet\n",
    "- Utilities: Vorhandene Infrastruktur (AllPub, NoSewr, NoSeWa, ELO)"
   ]
  },
  {
   "cell_type": "markdown",
   "id": "47413a2e6b8f6a28",
   "metadata": {
    "collapsed": false,
    "jupyter": {
     "outputs_hidden": false
    }
   },
   "source": [
    "### Strategie zum Ersetzen von Nullwerten:\n",
    "**Hiervon sind numerische kontinuierliche Daten:**\n",
    "* LotFrontage => Durchschnitt aller nicht-Null-Werte\n",
    "* MasVnrArea => Durchschnitt aller nicht-Null-Werte\n",
    "\n",
    "* BsmtFinSF1 => 0 (wir nehmen an, dass es keinen Keller gibt)\n",
    "* BsmtFinSF2 => 0\n",
    "* BsmtUnfSF => 0\n",
    "* GarageArea => 0 (wir nehemn an, dass es keine Garage gibt)\n",
    "* TotalBsmtSF => 0\n",
    "\n",
    "**Hiervon sind numerische diskrete Daten**\n",
    "* BsmtFullBath => 0 (s.o.)\n",
    "* BsmtHalfBath => 0\n",
    "* GarageCars => 0 (s.o.)\n"
   ]
  },
  {
   "cell_type": "markdown",
   "id": "87d480b430a57cde",
   "metadata": {
    "collapsed": false,
    "jupyter": {
     "outputs_hidden": false
    }
   },
   "source": [
    "\n",
    "**Hiervon sind kategorisch nominale Daten:**\n",
    "Bei nominalen Daten besteht die Schwierigkeit, dass hier ein sinnvoller Ersatzwert gefunden werden muss, wenn die Datenzeilen nicht ganz gelöscht werden sollen.\n",
    "Da alle diese kategorische nominalen Daten ein NA für nicht verfügbar aufweisen, kann durch NA (bzw. None bei MasVnrType) ersetzt werden.\n",
    "* Alley\n",
    "* BsmtExposure\n",
    "* GarageFinish\n",
    "* GarageType\n",
    "* MasVnrType\n",
    "* MiscFeature\n",
    "\n",
    "* Exterior1st => mode\n",
    "* Exterior2nd => mode\n",
    "* Functional => Sonderfall: Wir können laut Datenbeschreibung 'Typ' als Wert für NaN verwenden. all_data[\"Functional\"] = all_data[\"Functional\"].fillna(\"Typ\")\n",
    "* Electrical => mode\n",
    "* MSZoning => mode\n",
    "* SaleType => mode\n",
    "* Utilities => drop column\n"
   ]
  },
  {
   "cell_type": "markdown",
   "id": "82039bececd7f3a6",
   "metadata": {
    "collapsed": false,
    "jupyter": {
     "outputs_hidden": false
    }
   },
   "source": [
    "\n",
    "**Hiervon sind kategorisch ordinale Daten:**\n",
    "Auch hier kann jeweils 'NA' angenommen werden. Für GarageYrBlt wird 1900 angenommen (s.u.)\n",
    "* FireplaceQu\n",
    "* PoolQC\n",
    "* Fence\n",
    "* BsmtCond\n",
    "* BsmtFinType1\n",
    "* BsmtFinType2\n",
    "* BsmtQual\n",
    "* GarageCond\n",
    "* GarageQual\n",
    "* GarageYrBlt\n",
    "\n",
    "* KitchenQual => mode"
   ]
  },
  {
   "cell_type": "markdown",
   "id": "af12dac43e5ecab1",
   "metadata": {
    "collapsed": false,
    "jupyter": {
     "outputs_hidden": false
    }
   },
   "source": [
    "### Auffällig sind die Spalten mit Garagen\n",
    "Alle Garagen-Spalten haben genau 81 NaN Zeilen. Offenbar sind dies die Objekte ohne Garage.\n",
    "Hier sieht die Ersatz-Strategie so aus, dass überall NA als Wert angenommen wird. GarageYrBlt wird als 1900 angenommen, unter der Hypothese, dass je älter die Garage, desto schlechter. Das korreliert mit dem Fehlen der Garage."
   ]
  },
  {
   "cell_type": "code",
   "execution_count": 6,
   "id": "4b61922a85395647",
   "metadata": {
    "collapsed": false,
    "jupyter": {
     "outputs_hidden": false
    }
   },
   "outputs": [
    {
     "data": {
      "text/html": [
       "<div>\n",
       "<style scoped>\n",
       "    .dataframe tbody tr th:only-of-type {\n",
       "        vertical-align: middle;\n",
       "    }\n",
       "\n",
       "    .dataframe tbody tr th {\n",
       "        vertical-align: top;\n",
       "    }\n",
       "\n",
       "    .dataframe thead th {\n",
       "        text-align: right;\n",
       "    }\n",
       "</style>\n",
       "<table border=\"1\" class=\"dataframe\">\n",
       "  <thead>\n",
       "    <tr style=\"text-align: right;\">\n",
       "      <th></th>\n",
       "      <th>GarageCars</th>\n",
       "      <th>GarageCond</th>\n",
       "      <th>GarageFinish</th>\n",
       "      <th>GarageQual</th>\n",
       "      <th>GarageType</th>\n",
       "      <th>GarageYrBlt</th>\n",
       "    </tr>\n",
       "  </thead>\n",
       "  <tbody>\n",
       "    <tr>\n",
       "      <th>39</th>\n",
       "      <td>0.000</td>\n",
       "      <td>NaN</td>\n",
       "      <td>NaN</td>\n",
       "      <td>NaN</td>\n",
       "      <td>NaN</td>\n",
       "      <td>NaN</td>\n",
       "    </tr>\n",
       "    <tr>\n",
       "      <th>48</th>\n",
       "      <td>0.000</td>\n",
       "      <td>NaN</td>\n",
       "      <td>NaN</td>\n",
       "      <td>NaN</td>\n",
       "      <td>NaN</td>\n",
       "      <td>NaN</td>\n",
       "    </tr>\n",
       "    <tr>\n",
       "      <th>78</th>\n",
       "      <td>0.000</td>\n",
       "      <td>NaN</td>\n",
       "      <td>NaN</td>\n",
       "      <td>NaN</td>\n",
       "      <td>NaN</td>\n",
       "      <td>NaN</td>\n",
       "    </tr>\n",
       "    <tr>\n",
       "      <th>88</th>\n",
       "      <td>0.000</td>\n",
       "      <td>NaN</td>\n",
       "      <td>NaN</td>\n",
       "      <td>NaN</td>\n",
       "      <td>NaN</td>\n",
       "      <td>NaN</td>\n",
       "    </tr>\n",
       "    <tr>\n",
       "      <th>89</th>\n",
       "      <td>0.000</td>\n",
       "      <td>NaN</td>\n",
       "      <td>NaN</td>\n",
       "      <td>NaN</td>\n",
       "      <td>NaN</td>\n",
       "      <td>NaN</td>\n",
       "    </tr>\n",
       "    <tr>\n",
       "      <th>...</th>\n",
       "      <td>...</td>\n",
       "      <td>...</td>\n",
       "      <td>...</td>\n",
       "      <td>...</td>\n",
       "      <td>...</td>\n",
       "      <td>...</td>\n",
       "    </tr>\n",
       "    <tr>\n",
       "      <th>2891</th>\n",
       "      <td>0.000</td>\n",
       "      <td>NaN</td>\n",
       "      <td>NaN</td>\n",
       "      <td>NaN</td>\n",
       "      <td>NaN</td>\n",
       "      <td>NaN</td>\n",
       "    </tr>\n",
       "    <tr>\n",
       "      <th>2907</th>\n",
       "      <td>0.000</td>\n",
       "      <td>NaN</td>\n",
       "      <td>NaN</td>\n",
       "      <td>NaN</td>\n",
       "      <td>NaN</td>\n",
       "      <td>NaN</td>\n",
       "    </tr>\n",
       "    <tr>\n",
       "      <th>2911</th>\n",
       "      <td>0.000</td>\n",
       "      <td>NaN</td>\n",
       "      <td>NaN</td>\n",
       "      <td>NaN</td>\n",
       "      <td>NaN</td>\n",
       "      <td>NaN</td>\n",
       "    </tr>\n",
       "    <tr>\n",
       "      <th>2912</th>\n",
       "      <td>0.000</td>\n",
       "      <td>NaN</td>\n",
       "      <td>NaN</td>\n",
       "      <td>NaN</td>\n",
       "      <td>NaN</td>\n",
       "      <td>NaN</td>\n",
       "    </tr>\n",
       "    <tr>\n",
       "      <th>2915</th>\n",
       "      <td>0.000</td>\n",
       "      <td>NaN</td>\n",
       "      <td>NaN</td>\n",
       "      <td>NaN</td>\n",
       "      <td>NaN</td>\n",
       "      <td>NaN</td>\n",
       "    </tr>\n",
       "  </tbody>\n",
       "</table>\n",
       "<p>159 rows × 6 columns</p>\n",
       "</div>"
      ],
      "text/plain": [
       "      GarageCars GarageCond GarageFinish GarageQual GarageType  GarageYrBlt\n",
       "39         0.000        NaN          NaN        NaN        NaN          NaN\n",
       "48         0.000        NaN          NaN        NaN        NaN          NaN\n",
       "78         0.000        NaN          NaN        NaN        NaN          NaN\n",
       "88         0.000        NaN          NaN        NaN        NaN          NaN\n",
       "89         0.000        NaN          NaN        NaN        NaN          NaN\n",
       "...          ...        ...          ...        ...        ...          ...\n",
       "2891       0.000        NaN          NaN        NaN        NaN          NaN\n",
       "2907       0.000        NaN          NaN        NaN        NaN          NaN\n",
       "2911       0.000        NaN          NaN        NaN        NaN          NaN\n",
       "2912       0.000        NaN          NaN        NaN        NaN          NaN\n",
       "2915       0.000        NaN          NaN        NaN        NaN          NaN\n",
       "\n",
       "[159 rows x 6 columns]"
      ]
     },
     "execution_count": 6,
     "metadata": {},
     "output_type": "execute_result"
    }
   ],
   "source": [
    "cols = ['GarageCars', 'GarageCond', 'GarageFinish', 'GarageQual', 'GarageType', 'GarageYrBlt']\n",
    "df_gar = df [cols].copy()\n",
    "df_gar[df_gar['GarageCond'].isna()]"
   ]
  },
  {
   "cell_type": "markdown",
   "id": "c958c23f68a36c70",
   "metadata": {
    "collapsed": false,
    "jupyter": {
     "outputs_hidden": false
    }
   },
   "source": [
    "## Umsetzung\n",
    "\n",
    "Zunächst sehen wir uns noch einmal die Häufigkeit der Nullwerte an:"
   ]
  },
  {
   "cell_type": "code",
   "execution_count": 7,
   "id": "d16e646ca5d0c9e2",
   "metadata": {
    "collapsed": false,
    "jupyter": {
     "outputs_hidden": false
    }
   },
   "outputs": [
    {
     "data": {
      "image/png": "[encoded data removed]",
      "text/plain": [
       "<Figure size 640x480 with 1 Axes>"
      ]
     },
     "metadata": {},
     "output_type": "display_data"
    }
   ],
   "source": [
    "#Drucke alle Nan-Spalten in einem Bar-Chart\n",
    "\n",
    "null_features = []\n",
    "nullValues = []\n",
    "threshold = 2000\n",
    "for i in df:\n",
    "    # print (i + \": \" + str(df.isna().sum()[i]))\n",
    "    if (df.isna().sum()[i])>threshold and i!='SalePrice':\n",
    "        null_features.append(i)\n",
    "        nullValues.append(df.isna().sum()[i])\n",
    "        \n",
    "y_pos = np.arange(len(null_features)) \n",
    "plt.bar(y_pos, nullValues, align='center', alpha=0.5)\n",
    "plt.xticks(y_pos, null_features)\n",
    "plt.ylabel('Anzahl NULL Werte')\n",
    "plt.xlabel('null_features')\n",
    "plt.title('Feature-Spalten mit mehr als ' + str (threshold) +' Null Werten (Anz: ' + str (len(nullValues)) + ')')\n",
    "plt.xticks(rotation=90)\n",
    "plt.show()\n",
    "\n",
    "# Vgl. https://www.kaggle.com/code/marweni/house-prices-complete-solution-with-guidance"
   ]
  },
  {
   "cell_type": "code",
   "execution_count": 8,
   "id": "dcfcdc7d81e33bd1",
   "metadata": {
    "collapsed": false,
    "jupyter": {
     "outputs_hidden": false
    }
   },
   "outputs": [
    {
     "name": "stdout",
     "output_type": "stream",
     "text": [
      "['Alley', 'PoolQC', 'Fence', 'MiscFeature']\n"
     ]
    },
    {
     "data": {
      "text/html": [
       "<div>\n",
       "<style scoped>\n",
       "    .dataframe tbody tr th:only-of-type {\n",
       "        vertical-align: middle;\n",
       "    }\n",
       "\n",
       "    .dataframe tbody tr th {\n",
       "        vertical-align: top;\n",
       "    }\n",
       "\n",
       "    .dataframe thead th {\n",
       "        text-align: right;\n",
       "    }\n",
       "</style>\n",
       "<table border=\"1\" class=\"dataframe\">\n",
       "  <thead>\n",
       "    <tr style=\"text-align: right;\">\n",
       "      <th></th>\n",
       "      <th>Alley</th>\n",
       "      <th>PoolQC</th>\n",
       "      <th>Fence</th>\n",
       "      <th>MiscFeature</th>\n",
       "    </tr>\n",
       "  </thead>\n",
       "  <tbody>\n",
       "    <tr>\n",
       "      <th>0</th>\n",
       "      <td>NaN</td>\n",
       "      <td>NaN</td>\n",
       "      <td>NaN</td>\n",
       "      <td>NaN</td>\n",
       "    </tr>\n",
       "    <tr>\n",
       "      <th>1</th>\n",
       "      <td>NaN</td>\n",
       "      <td>NaN</td>\n",
       "      <td>NaN</td>\n",
       "      <td>NaN</td>\n",
       "    </tr>\n",
       "    <tr>\n",
       "      <th>2</th>\n",
       "      <td>NaN</td>\n",
       "      <td>NaN</td>\n",
       "      <td>NaN</td>\n",
       "      <td>NaN</td>\n",
       "    </tr>\n",
       "    <tr>\n",
       "      <th>3</th>\n",
       "      <td>NaN</td>\n",
       "      <td>NaN</td>\n",
       "      <td>NaN</td>\n",
       "      <td>NaN</td>\n",
       "    </tr>\n",
       "    <tr>\n",
       "      <th>4</th>\n",
       "      <td>NaN</td>\n",
       "      <td>NaN</td>\n",
       "      <td>NaN</td>\n",
       "      <td>NaN</td>\n",
       "    </tr>\n",
       "  </tbody>\n",
       "</table>\n",
       "</div>"
      ],
      "text/plain": [
       "  Alley PoolQC Fence MiscFeature\n",
       "0   NaN    NaN   NaN         NaN\n",
       "1   NaN    NaN   NaN         NaN\n",
       "2   NaN    NaN   NaN         NaN\n",
       "3   NaN    NaN   NaN         NaN\n",
       "4   NaN    NaN   NaN         NaN"
      ]
     },
     "execution_count": 8,
     "metadata": {},
     "output_type": "execute_result"
    }
   ],
   "source": [
    "# Beispieldaten unserer betroffenen Spalten\n",
    "print (null_features)\n",
    "null_df = df[null_features]\n",
    "null_df.head()"
   ]
  },
  {
   "cell_type": "markdown",
   "id": "98e37c0bba6e0018",
   "metadata": {
    "collapsed": false,
    "jupyter": {
     "outputs_hidden": false
    }
   },
   "source": [
    "### Unterscheidung der Fälle"
   ]
  },
  {
   "cell_type": "code",
   "execution_count": 9,
   "id": "10cb11d0cc72393a",
   "metadata": {
    "collapsed": false,
    "jupyter": {
     "outputs_hidden": false
    }
   },
   "outputs": [],
   "source": [
    "#Numerische kontinuierliche Daten:\n",
    "num_kon_cols = ['LotFrontage', 'MasVnrArea']\n",
    "\n",
    "#Spalten, für die NaN auf 0 gesetzt werden kann:\n",
    "num_cols_zero = ['BsmtFinSF1', 'BsmtFinSF2', 'BsmtUnfSF', 'GarageArea', 'TotalBsmtSF', 'BsmtFullBath', 'BsmtHalfBath', 'GarageCars']\n",
    "\n",
    "#Spalten, die mit dem häufigsten Wert belegt werden können:\n",
    "set_col_to_mode = ['KitchenQual', 'SaleType', 'MSZoning', 'Electrical', 'Exterior2nd', 'Exterior1st']\n",
    "\n",
    "#Kategorisch nominale Daten:\n",
    "kat_nom_cols = ['BsmtExposure', 'GarageFinish', 'GarageType']\n",
    "\n",
    "#Kategorisch ordninale Daten:\n",
    "kat_ord_cols = ['FireplaceQu', 'BsmtCond', 'BsmtFinType1', 'BsmtFinType2', 'BsmtQual', 'GarageCond', 'GarageQual']\n",
    "\n",
    "\n",
    "#TODO: Es wurden in den Listen die vier \"null_feature\" Spalten manuell entfernt. Das könnte man automatisieren."
   ]
  },
  {
   "cell_type": "markdown",
   "id": "acfbe3f343df378a",
   "metadata": {
    "collapsed": false,
    "jupyter": {
     "outputs_hidden": false
    }
   },
   "source": [
    "### Wir betrachten zunächst die Sonderfälle:"
   ]
  },
  {
   "cell_type": "code",
   "execution_count": 10,
   "id": "6d1c8b73ef0b23c7",
   "metadata": {
    "collapsed": false,
    "jupyter": {
     "outputs_hidden": false
    }
   },
   "outputs": [],
   "source": [
    "# Wir arbeiten auf einer Kopie!\n",
    "df_processed = df.copy()\n",
    "\n",
    "\n",
    "df_processed['GarageYrBlt'] = df_processed['GarageYrBlt'].fillna(1900)\n",
    "\n",
    "df_processed['MasVnrType'] = df_processed['MasVnrType'].fillna('None')\n",
    "\n",
    "df_processed[\"Functional\"] = df_processed['Functional'].fillna(\"Typ\")\n"
   ]
  },
  {
   "cell_type": "markdown",
   "id": "43bc362c333fd29f",
   "metadata": {
    "collapsed": false,
    "jupyter": {
     "outputs_hidden": false
    }
   },
   "source": [
    "## Spalten löschen\n"
   ]
  },
  {
   "cell_type": "markdown",
   "id": "125786619bdbc5f1",
   "metadata": {
    "collapsed": false,
    "jupyter": {
     "outputs_hidden": false
    }
   },
   "source": [
    "### Die Null-Feature Spalten (mehr als threshold Werte) entfernen wir aus dem Dataset:\n"
   ]
  },
  {
   "cell_type": "code",
   "execution_count": 11,
   "id": "419a41a1521b4926",
   "metadata": {
    "collapsed": false,
    "jupyter": {
     "outputs_hidden": false
    }
   },
   "outputs": [],
   "source": [
    "df_processed = df_processed.dropna(axis=1, thresh =  df.shape[0] - threshold) # Threshold -> Anzahl der NICHT-NaN Zeilen"
   ]
  },
  {
   "cell_type": "markdown",
   "id": "a200114291699202",
   "metadata": {
    "collapsed": false,
    "jupyter": {
     "outputs_hidden": false
    }
   },
   "source": [
    "### Spalte 'Utilities' löschen"
   ]
  },
  {
   "cell_type": "code",
   "execution_count": 12,
   "id": "cc6bd579e98e2080",
   "metadata": {
    "collapsed": false,
    "jupyter": {
     "outputs_hidden": false
    }
   },
   "outputs": [
    {
     "name": "stdout",
     "output_type": "stream",
     "text": [
      "Spaltenzahl Original Datenset: 79\n",
      "Spaltenzahl processed Datenset: 74\n"
     ]
    }
   ],
   "source": [
    "df_processed = df_processed.drop(['Utilities'], axis=1)\n",
    "\n",
    "print(\"Spaltenzahl Original Datenset: \" + str (df.shape[1]))\n",
    "print(\"Spaltenzahl processed Datenset: \" + str (df_processed.shape[1]))"
   ]
  },
  {
   "cell_type": "markdown",
   "id": "5b1bf5c22d1d0b3c",
   "metadata": {
    "collapsed": false,
    "jupyter": {
     "outputs_hidden": false
    }
   },
   "source": [
    "### Für einige Spalten setzen wir default-Werte - Spalten mit mean()"
   ]
  },
  {
   "cell_type": "code",
   "execution_count": 13,
   "id": "10320cc0bb286407",
   "metadata": {
    "collapsed": false,
    "jupyter": {
     "outputs_hidden": false
    }
   },
   "outputs": [
    {
     "data": {
      "text/plain": [
       "LotFrontage    69.181\n",
       "MasVnrArea    101.734\n",
       "dtype: float64"
      ]
     },
     "execution_count": 13,
     "metadata": {},
     "output_type": "execute_result"
    }
   ],
   "source": [
    "df_processed[num_kon_cols].mean()"
   ]
  },
  {
   "cell_type": "code",
   "execution_count": 14,
   "id": "7ca35a1ed611e1f2",
   "metadata": {
    "collapsed": false,
    "jupyter": {
     "outputs_hidden": false
    }
   },
   "outputs": [
    {
     "name": "stdout",
     "output_type": "stream",
     "text": [
      "LotFrontage    486\n",
      "MasVnrArea      23\n",
      "dtype: int64\n"
     ]
    },
    {
     "data": {
      "text/plain": [
       "LotFrontage    0\n",
       "MasVnrArea     0\n",
       "dtype: int64"
      ]
     },
     "execution_count": 14,
     "metadata": {},
     "output_type": "execute_result"
    }
   ],
   "source": [
    "# numerisch kontinuierliche Daten:\n",
    "\n",
    "print(df_processed[num_kon_cols].isna().sum())\n",
    "for col in num_kon_cols:\n",
    "    df_processed[col] = df_processed[col].fillna(df_processed[col].mean())\n",
    "\n",
    "df_processed[num_kon_cols].isna().sum()\n"
   ]
  },
  {
   "cell_type": "markdown",
   "id": "7bddff0eb540c1aa",
   "metadata": {
    "collapsed": false,
    "jupyter": {
     "outputs_hidden": false
    }
   },
   "source": [
    "### Spalten, die mit dem häufigsten Wert belegt werden - Spalten mit mode()"
   ]
  },
  {
   "cell_type": "code",
   "execution_count": 15,
   "id": "e08450c7d3fd5014",
   "metadata": {
    "collapsed": false,
    "jupyter": {
     "outputs_hidden": false
    }
   },
   "outputs": [
    {
     "name": "stdout",
     "output_type": "stream",
     "text": [
      "KitchenQual TA\n",
      "SaleType WD\n",
      "MSZoning RL\n",
      "Electrical SBrkr\n",
      "Exterior2nd VinylSd\n",
      "Exterior1st VinylSd\n"
     ]
    }
   ],
   "source": [
    "for col in set_col_to_mode:\n",
    "    print (col, df[col].mode()[0])\n",
    "    df_processed[col] = df_processed[col].fillna(df_processed[col].mode()[0])"
   ]
  },
  {
   "cell_type": "markdown",
   "id": "cbba4feb42a19302",
   "metadata": {
    "collapsed": false,
    "jupyter": {
     "outputs_hidden": false
    }
   },
   "source": [
    "### Numerische Daten, die auf 0 gesetzt werden können:"
   ]
  },
  {
   "cell_type": "code",
   "execution_count": 16,
   "id": "4a4fde178885a660",
   "metadata": {
    "collapsed": false,
    "jupyter": {
     "outputs_hidden": false
    }
   },
   "outputs": [
    {
     "name": "stdout",
     "output_type": "stream",
     "text": [
      "BsmtFinSF1\n",
      "BsmtFinSF2\n",
      "BsmtUnfSF\n",
      "GarageArea\n",
      "TotalBsmtSF\n",
      "BsmtFullBath\n",
      "BsmtHalfBath\n",
      "GarageCars\n"
     ]
    }
   ],
   "source": [
    "for col in num_cols_zero:\n",
    "    print(col)\n",
    "    df_processed[col] = df_processed[col].fillna(0)"
   ]
  },
  {
   "cell_type": "markdown",
   "id": "f62274a9678c5476",
   "metadata": {
    "collapsed": false,
    "jupyter": {
     "outputs_hidden": false
    }
   },
   "source": [
    "### Kategorisch nominale und ordinale Daten, die auf 'NA' gesetzt werden können"
   ]
  },
  {
   "cell_type": "code",
   "execution_count": 17,
   "id": "eae233167c90b8f3",
   "metadata": {
    "collapsed": false,
    "jupyter": {
     "outputs_hidden": false
    }
   },
   "outputs": [
    {
     "name": "stdout",
     "output_type": "stream",
     "text": [
      "BsmtExposure\n",
      "GarageFinish\n",
      "GarageType\n"
     ]
    }
   ],
   "source": [
    "# kategorisch nominale Daten, die auf NA gesetzt werden können:\n",
    "\n",
    "for col in kat_nom_cols:\n",
    "    print(col)\n",
    "    df_processed[col] = df_processed[col].fillna('NA')\n"
   ]
  },
  {
   "cell_type": "code",
   "execution_count": 18,
   "id": "345397c520c4a7ae",
   "metadata": {
    "collapsed": false,
    "jupyter": {
     "outputs_hidden": false
    }
   },
   "outputs": [
    {
     "name": "stdout",
     "output_type": "stream",
     "text": [
      "FireplaceQu\n",
      "BsmtCond\n",
      "BsmtFinType1\n",
      "BsmtFinType2\n",
      "BsmtQual\n",
      "GarageCond\n",
      "GarageQual\n"
     ]
    }
   ],
   "source": [
    "# kategorisch ordinale Daten, die auf NA gesetzt werden können:\n",
    "\n",
    "for col in kat_ord_cols:\n",
    "    print(col)\n",
    "    df_processed[col] = df_processed[col].fillna('NA')\n",
    "\n"
   ]
  },
  {
   "cell_type": "markdown",
   "id": "9a2b5e8ba7b054eb",
   "metadata": {
    "collapsed": false,
    "jupyter": {
     "outputs_hidden": false
    }
   },
   "source": [
    "# Überprüfung"
   ]
  },
  {
   "cell_type": "code",
   "execution_count": 19,
   "id": "62ff4ebf87886d4d",
   "metadata": {
    "collapsed": false,
    "jupyter": {
     "outputs_hidden": false
    }
   },
   "outputs": [
    {
     "data": {
      "text/html": [
       "<div>\n",
       "<style scoped>\n",
       "    .dataframe tbody tr th:only-of-type {\n",
       "        vertical-align: middle;\n",
       "    }\n",
       "\n",
       "    .dataframe tbody tr th {\n",
       "        vertical-align: top;\n",
       "    }\n",
       "\n",
       "    .dataframe thead th {\n",
       "        text-align: right;\n",
       "    }\n",
       "</style>\n",
       "<table border=\"1\" class=\"dataframe\">\n",
       "  <thead>\n",
       "    <tr style=\"text-align: right;\">\n",
       "      <th></th>\n",
       "      <th>count</th>\n",
       "    </tr>\n",
       "  </thead>\n",
       "  <tbody>\n",
       "    <tr>\n",
       "      <th>MSSubClass</th>\n",
       "      <td>0</td>\n",
       "    </tr>\n",
       "    <tr>\n",
       "      <th>MSZoning</th>\n",
       "      <td>0</td>\n",
       "    </tr>\n",
       "    <tr>\n",
       "      <th>LotFrontage</th>\n",
       "      <td>0</td>\n",
       "    </tr>\n",
       "    <tr>\n",
       "      <th>LotArea</th>\n",
       "      <td>0</td>\n",
       "    </tr>\n",
       "    <tr>\n",
       "      <th>Street</th>\n",
       "      <td>0</td>\n",
       "    </tr>\n",
       "    <tr>\n",
       "      <th>...</th>\n",
       "      <td>...</td>\n",
       "    </tr>\n",
       "    <tr>\n",
       "      <th>MiscVal</th>\n",
       "      <td>0</td>\n",
       "    </tr>\n",
       "    <tr>\n",
       "      <th>MoSold</th>\n",
       "      <td>0</td>\n",
       "    </tr>\n",
       "    <tr>\n",
       "      <th>YrSold</th>\n",
       "      <td>0</td>\n",
       "    </tr>\n",
       "    <tr>\n",
       "      <th>SaleType</th>\n",
       "      <td>0</td>\n",
       "    </tr>\n",
       "    <tr>\n",
       "      <th>SaleCondition</th>\n",
       "      <td>0</td>\n",
       "    </tr>\n",
       "  </tbody>\n",
       "</table>\n",
       "<p>74 rows × 1 columns</p>\n",
       "</div>"
      ],
      "text/plain": [
       "               count\n",
       "MSSubClass         0\n",
       "MSZoning           0\n",
       "LotFrontage        0\n",
       "LotArea            0\n",
       "Street             0\n",
       "...              ...\n",
       "MiscVal            0\n",
       "MoSold             0\n",
       "YrSold             0\n",
       "SaleType           0\n",
       "SaleCondition      0\n",
       "\n",
       "[74 rows x 1 columns]"
      ]
     },
     "execution_count": 19,
     "metadata": {},
     "output_type": "execute_result"
    }
   ],
   "source": [
    "# Anzahl der Nullwerte aller Spalten (Ergebnis ist kein DataFrame, sondern ein Series Objekt, leider...):\n",
    "null_werte = df_processed.isna().sum()\n",
    "\n",
    "# Rück-Umwandeln in einen Data Frame\n",
    "nan = pd.DataFrame(null_werte).set_axis(['count'], axis=1)\n",
    "nan"
   ]
  },
  {
   "cell_type": "code",
   "execution_count": 20,
   "id": "6836e75a25316ab2",
   "metadata": {
    "collapsed": false,
    "jupyter": {
     "outputs_hidden": false
    }
   },
   "outputs": [],
   "source": [
    "with open('../data/house-prices-advanced-regression-techniques/all_data.pkl', 'wb') as handle:\n",
    "    pickle.dump(df_processed, handle)"
   ]
  },
  {
   "cell_type": "code",
   "execution_count": null,
   "id": "8d0d78035c1bd787",
   "metadata": {
    "collapsed": false,
    "jupyter": {
     "outputs_hidden": false
    }
   },
   "outputs": [],
   "source": []
  }
 ],
 "metadata": {
  "kernelspec": {
   "display_name": "Python 3 (ipykernel)",
   "language": "python",
   "name": "python3"
  },
  "language_info": {
   "codemirror_mode": {
    "name": "ipython",
    "version": 3
   },
   "file_extension": ".py",
   "mimetype": "text/x-python",
   "name": "python",
   "nbconvert_exporter": "python",
   "pygments_lexer": "ipython3",
   "version": "3.10.8"
  }
 },
 "nbformat": 4,
 "nbformat_minor": 5
}
