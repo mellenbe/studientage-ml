{
 "cells": [
  {
   "cell_type": "markdown",
   "id": "c18e46430849064e",
   "metadata": {
    "collapsed": false,
    "jupyter": {
     "outputs_hidden": false
    }
   },
   "source": [
    "# Kaggle\n",
    "[Kaggle](htttps://www.kaggle.com) ist eine Plattform, auf der eine Vielzahl von Wettbewerben, Beispielen und Anleitungen zum Thema Data Science zu finden ist.\n",
    "\n",
    "# \"House Prices Beispiel\"\n",
    "Das [House Prices Beispiel](https://www.kaggle.com/competitions/house-prices-advanced-regression-techniques) ist eine gerne zitierte \"Competition\" anhand derer man erste Schritte mit einer Regression üben kann. Auch wir werden anhand dieses Datensatz unsere ersten Schritte im Machine Learning machen.\n",
    "\n",
    "![illustration](../../img/houseprices.png)"
   ]
  },
  {
   "cell_type": "markdown",
   "id": "39cc8be6a106af4c",
   "metadata": {
    "collapsed": false,
    "jupyter": {
     "outputs_hidden": false
    }
   },
   "source": [
    "# Die Daten\n",
    "In den kaggle Competitions gibt es immer zugehörige Daten mit einer ausführlichen Beschreibung.\n",
    "Die Daten und Beschreibung für dieses Beispiel finden Sie hier: [House Prices Daten](https://www.kaggle.com/competitions/house-prices-advanced-regression-techniques/data?select=train.csv).\n",
    "\n",
    "![Download der Daten](../../img/download.png)\n",
    "\n",
    "Sie benötigen allen voran die beiden Dateien test.csv und train.csv. Diese enthalten die Trainingsdaten, um Ihren ML Algorithmus zu trainieren.\n",
    "\n",
    "Erst wenn Ihr Modell fertig ist und Ihren Qualitätsansprüchen genügt, kommt test.csv zum Einsatz. Dieser Datensatz dient dazu, dem Algorithmus *ungekannte* Daten zu zeigen, damit man evaluieren kann, wie gut der Algorithmus generalisiert, also in der Lage ist, Vorhersagen für neue Daten zu machen. \n"
   ]
  },
  {
   "cell_type": "code",
   "execution_count": null,
   "id": "8442be3e417f3e13",
   "metadata": {
    "collapsed": false,
    "jupyter": {
     "outputs_hidden": false
    }
   },
   "outputs": [],
   "source": []
  }
 ],
 "metadata": {
  "kernelspec": {
   "display_name": "Python 3 (ipykernel)",
   "language": "python",
   "name": "python3"
  },
  "language_info": {
   "codemirror_mode": {
    "name": "ipython",
    "version": 3
   },
   "file_extension": ".py",
   "mimetype": "text/x-python",
   "name": "python",
   "nbconvert_exporter": "python",
   "pygments_lexer": "ipython3",
   "version": "3.10.8"
  }
 },
 "nbformat": 4,
 "nbformat_minor": 5
}
