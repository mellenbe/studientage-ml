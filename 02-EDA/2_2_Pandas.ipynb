{
 "cells": [
  {
   "cell_type": "markdown",
   "id": "952ace9a4f16fdb1",
   "metadata": {
    "collapsed": false
   },
   "source": [
    "# Projektstruktur\n",
    "Data Science Projekte sollten einer fest vorgegebenen Projektstruktur folgen. Diese Projektstruktur wird üblicherweise im Team als feste Konvention vereinbart und alle Projekte des Teams folgen dieser Struktur.\n",
    "\n",
    "Wir nutzen hier folgende Struktur:\n",
    "\n",
    "<img src=\"../img/struktur.png\" width=\"30%\" align=\"center\">\n",
    "<br>\n",
    "\n",
    "* Die nummerierten Ordner 01. 02. usw. enthalten die Jupyter Notebooks mit dem Code des Kurses.\n",
    "* Der Ordner data enthält Daten, die für die Beispiele benötigt werden.\n",
    "* Der Ordner img enthält Bilder, die in den Notesbooks angezeigt werden sollen.\n",
    "* Die übrigen Ordner und Dateien dienen dem Betrieb der Anwendungen.\n"
   ]
  },
  {
   "cell_type": "markdown",
   "id": "8b5e22f4c7b957b4",
   "metadata": {
    "collapsed": false
   },
   "source": [
    "# Pandas\n",
    "\n",
    "Damit Sie Daten für das maschinelle Lernen (gut) nutzen können, benötigen Sie eine Datenstruktur, in der Sie die Daten hinterlegen können.\n",
    "Das Framework Pandas ist hierfür sehr gut geeignet, sofern die Datenmenge klein genug ist, um im Hauptspeicher Ihres Computers geladen zu werden. Dies ist für unser Beispiel der Fall.\n",
    "\n",
    "Folgende wichtige Funktionen werden von Pandas bereits von Haus aus bereitgestellt[^1]:\n",
    "\n",
    "* Laden von Daten aus unterschiedlichen Quellen (relationale Datenbank, Excel, CSV, ...).\n",
    "* Berechnen von grundlegenden statistischen Werten:\n",
    "    * Mittelwert, Median, Maximum oder Minimum einer Spalte.\n",
    "    * Korrelationen zwischen Spaltenwerten.\n",
    "    * Darstellung der Distribution von Werten in einer Spalte.\n",
    "* Entfernen von Zeilen mit fehlenden Werten.\n",
    "* Entfernen oder Hinzufügen von Spalten.\n",
    "* Bereinigen von Daten, z.B. Entfernen von Nullwerten.\n",
    "* Berechnungen mit Hilfe von Lambda-Funktionen auf einer ganzen Spalte ausführen.\n",
    "* Daten können mit Hilfe weiterer Bibliotheken, wie Syborn, matplotlib und anderen visualisiert werden.\n",
    "\n",
    "\n",
    "[^1]: Vgl. https://www.learndatasci.com/tutorials/python-pandas-tutorial-complete-introduction-for-beginners/"
   ]
  },
  {
   "cell_type": "markdown",
   "id": "900acaffd5c0d367",
   "metadata": {
    "collapsed": false
   },
   "source": [
    "## Laden von Daten\n",
    "Zunächst wollen wir die Daten des Beispiels aus dem Pfad data/house-prices-advanced-regression-techniques/train.csv laden: "
   ]
  },
  {
   "cell_type": "code",
   "execution_count": null,
   "id": "4d4579ac9182b5f9",
   "metadata": {
    "collapsed": false
   },
   "outputs": [],
   "source": [
    "# Die Pandas Bibliothek muss installiert sein und wird hier über den import Befehl geladen.\n",
    "import pandas as pd\n",
    "\n",
    "# Hinweis: Der Pfadname ergibt sich aus der Projektstruktur\n",
    "df = pd.read_csv('../data/house-prices-advanced-regression-techniques/train.csv')"
   ]
  },
  {
   "cell_type": "markdown",
   "id": "ce7a946bb9dad3c1",
   "metadata": {
    "collapsed": false
   },
   "source": [
    "## Anzeige der Daten\n",
    "\n",
    "Ein Pandas DataFrame (so heißt diese Datenstruktur) kann in einem Jupyter Notebook durch die schlichte Nennung (am Ende der Codezeile) angezeigt werden:"
   ]
  },
  {
   "cell_type": "code",
   "execution_count": null,
   "id": "5ef41e0283429261",
   "metadata": {
    "collapsed": false
   },
   "outputs": [],
   "source": [
    "df"
   ]
  },
  {
   "cell_type": "markdown",
   "id": "59c0f7153e70ea21",
   "metadata": {
    "collapsed": false
   },
   "source": [
    "## Einen Überblick verschaffen: Basis-Informationen\n",
    "\n",
    "DataFrames bieten einfache Funktionen zur Anzeige der wichtigsten Informationen. Das ist wichtig, um sich einen Überblick zu verschaffen:"
   ]
  },
  {
   "cell_type": "code",
   "execution_count": null,
   "id": "483838261796bc8e",
   "metadata": {
    "collapsed": false
   },
   "outputs": [],
   "source": [
    "# Allgemeine Informationen ausgeben:\n",
    "# - Anzahl der Daten (Zeilen)\n",
    "# - Anzahl der Spalten\n",
    "# - Name und Datentyp der Spalten\n",
    "df.info()"
   ]
  },
  {
   "cell_type": "code",
   "execution_count": null,
   "id": "80b42bdb0130c278",
   "metadata": {
    "collapsed": false
   },
   "outputs": [],
   "source": [
    "# Dimensionen (Zeilen|Spalten) des DataFrames anzeigen:\n",
    "\n",
    "df.shape"
   ]
  },
  {
   "cell_type": "code",
   "execution_count": null,
   "id": "8a54319e3f16bde4",
   "metadata": {
    "collapsed": false
   },
   "outputs": [],
   "source": [
    "# Bestimmte Daten anzeigen\n",
    "\n",
    "df.head(10)"
   ]
  },
  {
   "cell_type": "code",
   "execution_count": null,
   "id": "61527088713a5005",
   "metadata": {
    "collapsed": false
   },
   "outputs": [],
   "source": [
    "df.tail(10)"
   ]
  },
  {
   "cell_type": "code",
   "execution_count": null,
   "id": "dada50f1043401a1",
   "metadata": {
    "collapsed": false
   },
   "outputs": [],
   "source": [
    "# Doppelte Zeilen finden\n",
    "\n",
    "df[df.duplicated()]"
   ]
  },
  {
   "cell_type": "code",
   "execution_count": null,
   "id": "4caf529cae7a379f",
   "metadata": {
    "collapsed": false
   },
   "outputs": [],
   "source": [
    "# Doppelte Zeilen löschen, jeweils das erste|letzte Element behalten.\n",
    "\n",
    "df_no_duplicates = df.drop_duplicates(keep='first') # 'last'"
   ]
  },
  {
   "cell_type": "markdown",
   "id": "f65306e0197b90c4",
   "metadata": {
    "collapsed": false
   },
   "source": [
    "## Grundlegende statistische Informationen"
   ]
  },
  {
   "cell_type": "code",
   "execution_count": null,
   "id": "db6c4b2f24d2218",
   "metadata": {
    "collapsed": false
   },
   "outputs": [],
   "source": [
    "# Liefert eine gute Übersicht über wichtige statistische Informationen\n",
    "# Das .T Attribut transponiert die Darstellung in eine besser lesbare Form\n",
    "df.describe().T\n"
   ]
  },
  {
   "cell_type": "markdown",
   "id": "b2fead430572d05a",
   "metadata": {
    "collapsed": false
   },
   "source": [
    "# Weitere Infos und grundlegende Operationen\n",
    "## Umgang mit Spalten"
   ]
  },
  {
   "cell_type": "code",
   "execution_count": null,
   "id": "377680480e1d375b",
   "metadata": {
    "collapsed": false
   },
   "outputs": [],
   "source": [
    "# Spaltennamen\n",
    "df.columns"
   ]
  },
  {
   "cell_type": "code",
   "execution_count": null,
   "id": "a61d75ee588530f3",
   "metadata": {
    "collapsed": false
   },
   "outputs": [],
   "source": [
    "# Spalte selektieren\n",
    "df[['Fireplaces']]"
   ]
  },
  {
   "cell_type": "code",
   "execution_count": null,
   "id": "deb7594e32e2c0c7",
   "metadata": {
    "collapsed": false
   },
   "outputs": [],
   "source": [
    "# mehrere Spalten selektieren\n",
    "df[['Fireplaces','GarageType']]"
   ]
  },
  {
   "cell_type": "code",
   "execution_count": null,
   "id": "29a66cf5bdb5965e",
   "metadata": {
    "collapsed": false
   },
   "outputs": [],
   "source": [
    "# Neuer DataFrame mit einem Subset von Spalten\n",
    "df_subset = df[['Fireplaces','SalePrice']].copy()\n",
    "df_subset.shape"
   ]
  },
  {
   "cell_type": "code",
   "execution_count": null,
   "id": "5b259c07b332c87e",
   "metadata": {
    "collapsed": false
   },
   "outputs": [],
   "source": [
    "# spalten umbenennen\n",
    "df_subset.rename(columns={\n",
    "        'Fireplaces': 'Anzahl Kamine', \n",
    "        'SalePrice': 'Verkaufspreis'\n",
    "    }, inplace=True)\n",
    "df_subset.columns"
   ]
  },
  {
   "cell_type": "code",
   "execution_count": null,
   "id": "92755ffd26e07e57",
   "metadata": {
    "collapsed": false
   },
   "outputs": [],
   "source": [
    "# Spalten nach Nummer selektieren:\n",
    "df.iloc[:,3] # vierte Spalte"
   ]
  },
  {
   "cell_type": "code",
   "execution_count": null,
   "id": "9221ca3f02cbf137",
   "metadata": {
    "collapsed": false
   },
   "outputs": [],
   "source": [
    "# Spalten-Range - Spalten 6-8 (mit Index 5..7)\n",
    "df.iloc[:,5:8]"
   ]
  },
  {
   "cell_type": "markdown",
   "id": "7d034c8f",
   "metadata": {},
   "source": [
    "## Umgang mit Zeilen"
   ]
  },
  {
   "cell_type": "code",
   "execution_count": null,
   "id": "7da73bbffc53f311",
   "metadata": {
    "collapsed": false
   },
   "outputs": [],
   "source": [
    "# Range von Zeilen selektieren\n",
    "df[df.index.isin(range(2,10))]\n"
   ]
  },
  {
   "cell_type": "code",
   "execution_count": null,
   "id": "d80a8c57ae4495c4",
   "metadata": {
    "collapsed": false
   },
   "outputs": [],
   "source": [
    "df.iloc[0] # Erste Zeile\n",
    "df.iloc[1] # Zweite Zeile\n",
    "df.iloc[-1] # Letzte Zeile"
   ]
  },
  {
   "cell_type": "code",
   "execution_count": null,
   "id": "c01464489bafc876",
   "metadata": {
    "collapsed": false
   },
   "outputs": [],
   "source": [
    "df_subset = df.iloc[0:5,3:9].copy() # Zeilen 1 bis 5 (mit Index 0..4) und Spalten vier bis neun (mit Index 3..8)\n",
    "print (\"Dimension des Subsets: \", df_subset.shape)\n",
    "df_subset"
   ]
  },
  {
   "cell_type": "code",
   "execution_count": null,
   "id": "92719dbc4b9244ed",
   "metadata": {
    "collapsed": false
   },
   "outputs": [],
   "source": [
    "# Zeilen filtern - Daten bei denen der Hauspreis > als 700-tausend ist.\n",
    "df[df.SalePrice > 700000]"
   ]
  },
  {
   "cell_type": "code",
   "execution_count": null,
   "id": "f57e98dd74388d23",
   "metadata": {
    "collapsed": false
   },
   "outputs": [],
   "source": [
    "# Durch die Filter-Operation wird das Original nicht verändert!!!\n",
    "print(df.shape)"
   ]
  },
  {
   "cell_type": "code",
   "execution_count": null,
   "id": "fc2a593422262883",
   "metadata": {
    "collapsed": false
   },
   "outputs": [],
   "source": [
    "df[df.SalePrice > 700000].describe().T"
   ]
  },
  {
   "cell_type": "markdown",
   "id": "46fce49a20c8c170",
   "metadata": {
    "collapsed": false
   },
   "source": [
    "## Spalten (dauerhaft) löschen"
   ]
  },
  {
   "cell_type": "code",
   "execution_count": null,
   "id": "63d811225ca9f524",
   "metadata": {
    "collapsed": false
   },
   "outputs": [],
   "source": [
    "df_demo = df.copy() # Wir wollen nicht unser Original bearbeiten\n",
    "print (df_demo.shape)\n",
    "\n",
    "del df_demo['Fireplaces']\n",
    "\n",
    "# Durch den del Befehl werden die Spalten dauerhaft gelöscht!\n",
    "print (df_demo.shape)"
   ]
  },
  {
   "cell_type": "markdown",
   "id": "b7331b718897b973",
   "metadata": {
    "collapsed": false
   },
   "source": [
    "## Zeilen (dauerhaft) löschen"
   ]
  },
  {
   "cell_type": "code",
   "execution_count": null,
   "id": "2692829a9affa657",
   "metadata": {
    "collapsed": false
   },
   "outputs": [],
   "source": [
    "df_demo = df.copy() # Wir wollen nicht unser Original bearbeiten\n",
    "indexNames = df[(df['SalePrice'] >= 300000) & (df['SalePrice'] <= 350000)].index\n",
    "\n",
    "print(df_demo.shape)\n",
    "\n",
    "df_demo.drop(indexNames, inplace=True)\n",
    "\n",
    "print(df_demo.shape)\n",
    "\n",
    "print (df_demo[(df_demo['SalePrice'] >= 300000) & (df_demo['SalePrice'] <= 350000)].shape) # Die gelöschen Zeilen sind endgültig entfernt"
   ]
  },
  {
   "cell_type": "code",
   "execution_count": null,
   "id": "1dba9dbc73656739",
   "metadata": {
    "collapsed": false
   },
   "outputs": [],
   "source": []
  }
 ],
 "metadata": {
  "kernelspec": {
   "display_name": "Python 3",
   "language": "python",
   "name": "python3"
  },
  "language_info": {
   "codemirror_mode": {
    "name": "ipython",
    "version": 3
   },
   "file_extension": ".py",
   "mimetype": "text/x-python",
   "name": "python",
   "nbconvert_exporter": "python",
   "pygments_lexer": "ipython3",
   "version": "3.10.13"
  }
 },
 "nbformat": 4,
 "nbformat_minor": 5
}
