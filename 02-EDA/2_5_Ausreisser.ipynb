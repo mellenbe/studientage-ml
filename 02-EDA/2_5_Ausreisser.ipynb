{
 "cells": [
  {
   "cell_type": "markdown",
   "id": "1dc3e2cfd62565de",
   "metadata": {
    "collapsed": false,
    "jupyter": {
     "outputs_hidden": false
    }
   },
   "source": [
    "# Ausreißer\n",
    "\n",
    "Zunächst betrachten wir die *numerischen* Daten des Datensatzes. Diese kann man mit Hilfe von vorgegebenen Funktionen identifizieren. Darüberhinaus kann ein Blick in die Beschreibungsdatei des Datensatzes \"data_description.txt\" geworfen werden."
   ]
  },
  {
   "cell_type": "code",
   "execution_count": null,
   "id": "5f3c224e6731e4a0",
   "metadata": {
    "ExecuteTime": {
     "end_time": "2024-04-11T10:26:41.442662Z",
     "start_time": "2024-04-11T10:26:41.411387Z"
    },
    "collapsed": false,
    "jupyter": {
     "outputs_hidden": false
    }
   },
   "outputs": [],
   "source": [
    "#import some necessary librairies\n",
    "\n",
    "import numpy as np # linear algebra\n",
    "import pandas as pd # data processing, CSV file I/O (e.g. pd.read_csv)\n",
    "%matplotlib inline\n",
    "import matplotlib.pyplot as plt  # Matlab-style plotting\n",
    "import seaborn as sns\n",
    "color = sns.color_palette()\n",
    "sns.set_style('darkgrid')\n",
    "import warnings\n",
    "def ignore_warn(*args, **kwargs):\n",
    "    pass\n",
    "warnings.warn = ignore_warn #ignore annoying warning (from sklearn and seaborn)\n",
    "\n",
    "\n",
    "from scipy import stats\n",
    "from scipy.stats import norm, skew #for some statistics\n",
    "\n",
    "\n",
    "pd.set_option('display.float_format', lambda x: '{:.3f}'.format(x)) #Limiting floats output to 3 decimal points\n",
    "\n",
    "\n",
    "# from subprocess import check_output\n",
    "# print(check_output([\"dir\", \"../data/house-prices-advanced-regression-techniques\"]).decode(\"utf8\")) #check the files available in the directory\n",
    "\n",
    "import pickle"
   ]
  },
  {
   "cell_type": "code",
   "execution_count": null,
   "id": "a2d4cbea-7f82-451c-8d35-8ab87ba2869e",
   "metadata": {
    "ExecuteTime": {
     "end_time": "2024-04-11T10:26:41.711221Z",
     "start_time": "2024-04-11T10:26:41.695570Z"
    }
   },
   "outputs": [],
   "source": []
  },
  {
   "cell_type": "markdown",
   "id": "c87fa39fc3e2a96a",
   "metadata": {
    "collapsed": false,
    "jupyter": {
     "outputs_hidden": false
    }
   },
   "source": [
    "# Daten initial laden\n"
   ]
  },
  {
   "cell_type": "code",
   "execution_count": null,
   "id": "f728c4f370200e36",
   "metadata": {
    "ExecuteTime": {
     "end_time": "2024-04-11T10:26:42.274277Z",
     "start_time": "2024-04-11T10:26:42.242970Z"
    },
    "collapsed": false,
    "jupyter": {
     "outputs_hidden": false
    }
   },
   "outputs": [],
   "source": [
    "train = pd.read_csv('../data/house-prices-advanced-regression-techniques/train.csv')\n",
    "test = pd.read_csv('../data/house-prices-advanced-regression-techniques/test.csv')\n",
    "\n",
    "print(\"Dimension des Trainingssets: \" + str (train.shape))\n",
    "print(\"Dimension des Testsets: \" + str (test.shape))"
   ]
  },
  {
   "cell_type": "markdown",
   "id": "6f30537b3e514849",
   "metadata": {
    "collapsed": false,
    "jupyter": {
     "outputs_hidden": false
    }
   },
   "source": [
    "# ID Spalten"
   ]
  },
  {
   "cell_type": "code",
   "execution_count": null,
   "id": "2ac59b6da5f6b1d6",
   "metadata": {
    "ExecuteTime": {
     "end_time": "2024-04-11T10:26:42.859451Z",
     "start_time": "2024-04-11T10:26:42.843788Z"
    },
    "collapsed": false,
    "jupyter": {
     "outputs_hidden": false
    }
   },
   "outputs": [],
   "source": [
    "#Now drop the  'Id' colum since it's unnecessary for  the prediction process.\n",
    "train.drop(\"Id\", axis = 1, inplace = True)\n",
    "test.drop(\"Id\", axis = 1, inplace = True)\n"
   ]
  },
  {
   "cell_type": "code",
   "execution_count": null,
   "id": "a4b7945955b68623",
   "metadata": {
    "ExecuteTime": {
     "end_time": "2024-04-11T10:26:43.193396Z",
     "start_time": "2024-04-11T10:26:43.177742Z"
    },
    "collapsed": false,
    "jupyter": {
     "outputs_hidden": false
    }
   },
   "outputs": [],
   "source": [
    "# numerische Daten\n",
    "\n",
    "numerical_features = train.select_dtypes(include=[np.number])\n",
    "print (\"Es gibt \" + str(numerical_features.columns.size) + \" numerische Spalten.\\n\")\n",
    "for name in numerical_features.columns.sort_values():\n",
    "    print (name)\n"
   ]
  },
  {
   "cell_type": "code",
   "execution_count": null,
   "id": "869f924c8f23a3e3",
   "metadata": {
    "ExecuteTime": {
     "end_time": "2024-04-11T10:26:43.846765Z",
     "start_time": "2024-04-11T10:26:43.815545Z"
    },
    "collapsed": false,
    "jupyter": {
     "outputs_hidden": false
    }
   },
   "outputs": [],
   "source": [
    "numerical_features.head(10)"
   ]
  },
  {
   "cell_type": "code",
   "execution_count": null,
   "id": "98665bd7e8e8b9da",
   "metadata": {
    "ExecuteTime": {
     "end_time": "2024-04-11T10:26:44.638599Z",
     "start_time": "2024-04-11T10:26:44.591713Z"
    },
    "collapsed": false,
    "jupyter": {
     "outputs_hidden": false
    }
   },
   "outputs": [],
   "source": [
    "numerical_features.describe().T"
   ]
  },
  {
   "cell_type": "markdown",
   "id": "8380f41c7cab6dd7",
   "metadata": {
    "collapsed": false,
    "jupyter": {
     "outputs_hidden": false
    }
   },
   "source": [
    "# Ausreißer\n",
    "\n",
    "Ausreißer sind Werte (einer Spalte), die stark von der \"generellen Tendenz\" der Mehrzahl der Daten abweichen. Dies kann sowohl für diskrete als auch für kontinuierliche numerische Daten gelten. Ausreißer können aufgrund verschiedener Ursachen entstehen:\n",
    "\n",
    "* **Natürlich**: Hier handelt es sich um Ausreißer, die \"in der Natur der Daten liegen\" und gelten nicht als Fehler.\n",
    "* **Eingabefehler**: Wenn Menschen (aber auch Maschinen, z. B. beim OCR) Daten erfassen, können Eingabefehler (Tippfehler, Erfassungsfehler, Ungenauigkeiten) vorliegen.\n",
    "* **Messfehler**: Messungen sind immer nur so genau, wie ihr Sensor. Auch Sensoren können zufällig Ausreißer erzeugen.\n",
    "* **Beschädigte Daten**: Bei der Verarbeitung (oder z. B. Konvertierung) von Daten können Fehler entstanden sein.\n",
    "\n",
    "## Leseempfehlungen\n",
    "[Sadrach Pierre, 2022, \"How to Find Outliers (With Examples)\"](https://builtin.com/data-science/how-find-outliers-examples)\n",
    "\n",
    "[Schendera, C. 2007. Datenqualität mit SPSS. München, S. 163-174](https://www.degruyter.com/document/doi/10.1524/9783486710694/html?lang%253Dde)\n",
    "\n",
    "# Umgang mit Ausreißern\n",
    "\n",
    "Werden Daten - und deren Ausreißer - im maschinellen Lernen verarbeitet, hat dies Einfluss auf das Training, mithin also auf die Güte des Modells. Im ungünstigen Fall, wird die **Güte des Modells negativ beeinflusst**.\n",
    "\n",
    "**Jedoch sind nicht alle Ausreißer negativ**, sondern bilden den Untersuchungsgegenstand ab. Werden z. B. Röntgenbilder durch ein Modell des maschinellen Lernens für das Trainig einer computergestützten Diagnostik eingesetzt, dann wird man z. B. nach prävalenten und nicht prävalenten Daten unterscheiden (Krankheit liegt vor | Krankeit liegt nicht vor). Ist die Krankheit selten auf den Bildern zu sehen, könnten diese als Ausreißer betrachtet werden, was nicht im Sinne der Modellierung ist.\n",
    "\n",
    "Sie müssen sich also Fragen, ob die Ausreißer durch Fehler verursacht sind, oder in der \"Natur der Sache\" liegen.\n",
    "\n",
    "=> **Ausreißer, die durch Fehler verursacht sind, _müssen_ entfernt werden.**\n",
    "=> **Ausreißer, die den zu modellierenden Gegenstand abbilden, dürfen _nicht_ entfernt werden.**"
   ]
  },
  {
   "cell_type": "markdown",
   "id": "3d59737d523ceed2",
   "metadata": {
    "collapsed": false,
    "jupyter": {
     "outputs_hidden": false
    }
   },
   "source": [
    "## Überblick verschaffen\n",
    "### Boxplots\n",
    "Boxplots verwenden in der Standardeinstellung wie wir sie in der Abbildung sehen die Interquartile Range (IQR) - Methode für die Ausreißererkennung. Die IQR-Methode funktioniert wie folgt:\n",
    "1. Das 25%-Quantil (Q1) berechnen\n",
    "2. Das 75%-Quantil (Q3) berechnen\n",
    "3. Q1 von Q3 subtrahieren (ergibt die Höhe der Box im Boxplot) = iqr\n",
    "4. Die untere Grenze berechnen durch Q1 - (Faktor * iqr)\n",
    "5. Die obere Grenze berechnen durch Q3 + (Faktor * iqr)\n",
    "\n",
    "Wobei der Faktor variabel ist. Die Standardeinstellung beträgt 1,5."
   ]
  },
  {
   "cell_type": "code",
   "execution_count": null,
   "id": "91dab7c4ccecf88f",
   "metadata": {
    "ExecuteTime": {
     "end_time": "2024-04-11T10:26:47.062678Z",
     "start_time": "2024-04-11T10:26:47.047027Z"
    }
   },
   "outputs": [],
   "source": []
  },
  {
   "cell_type": "code",
   "execution_count": null,
   "id": "20bc7e2e1feed899",
   "metadata": {
    "collapsed": false,
    "jupyter": {
     "outputs_hidden": false
    }
   },
   "outputs": [],
   "source": [
    "start = 0\n",
    "anf = start\n",
    "end = 0\n",
    "while end < numerical_features.columns.size:\n",
    "    end = anf + 5\n",
    "    if end > numerical_features.columns.size:\n",
    "        end = numerical_features.columns.size\n",
    "    subset = numerical_features.iloc[:, anf:end]\n",
    "    #print (min, max, subset.shape, subset.columns)\n",
    "    subset.plot(kind=\"box\",subplots=True,figsize=(15,5),title=\"Boxplots der numerischen Merkmale, Spalte \" + str (anf) + \" .. \" + str (end -1));\n",
    "    anf = end\n",
    "\n",
    "#numerical_features.plot(kind=\"box\",subplots=True,figsize=(150,25),title=\"Boxplots der numerischen Merkmale\");\n"
   ]
  },
  {
   "cell_type": "markdown",
   "id": "183e7b6698c99969",
   "metadata": {
    "collapsed": false,
    "jupyter": {
     "outputs_hidden": false
    }
   },
   "source": [
    "# Korrelationen"
   ]
  },
  {
   "cell_type": "code",
   "execution_count": null,
   "id": "153db04b7d6c7ae7",
   "metadata": {
    "ExecuteTime": {
     "start_time": "2024-04-11T10:26:50.881344Z"
    },
    "collapsed": false,
    "jupyter": {
     "is_executing": true,
     "outputs_hidden": false
    }
   },
   "outputs": [],
   "source": [
    "# Eine Korrelationsmatrix (Correlation map) zeigt an, wie die einzelnen Features mit dem SalePrice korrelieren\n",
    "corrmat = train.select_dtypes(include=[np.number]).corr()\n",
    "plt.subplots(figsize=(12,9))\n",
    "sns.heatmap(corrmat, vmax=0.9, square=True)"
   ]
  },
  {
   "cell_type": "code",
   "execution_count": null,
   "id": "18b12c16926d5435",
   "metadata": {
    "collapsed": false,
    "jupyter": {
     "outputs_hidden": false
    }
   },
   "outputs": [],
   "source": [
    "#A better example (formatting used in below chart) - https://seaborn.pydata.org/examples/many_pairwise_correlations.html \n",
    "\n",
    "sns.set_theme(style=\"white\")\n",
    "\n",
    "# Korrelationsmatrix berechnen\n",
    "corr = train.select_dtypes(include=[np.number]).corr()\n",
    "\n",
    "# Wir erzeugen eine Maske für das obere Dreieck (sonst sieht es aus wie das Quadrat, das wir oben hatten, und ist überflüssig)\n",
    "mask = np.triu(np.ones_like(corr, dtype=bool))\n",
    "\n",
    "# Setup matplotlib Grafik\n",
    "f, ax = plt.subplots(figsize=(25, 15))\n",
    "\n",
    "# Wir erzeugen eine benutzerdefinierte divergierende Farbkarte\n",
    "cmap = sns.diverging_palette(230, 20, as_cmap=True)\n",
    "\n",
    "# Korrelationsmatrix zeichnen\n",
    "sns.heatmap(corr, mask=mask, cmap=cmap, center=0,\n",
    "            square=True, linewidths=.8, cbar_kws={\"shrink\": .7}, annot=True, annot_kws={\"fontsize\":6})\n",
    "#obviously many of thes variables are HIGHLY correlated. Something we may want to explore is why Average percentage viewed is negatively related to RPM\n",
    "\n",
    "# Vgl. https://www.kaggle.com/code/kenjee/basic-eda-example-section-6"
   ]
  },
  {
   "cell_type": "markdown",
   "id": "edfca0ff1c8e7b53",
   "metadata": {
    "collapsed": false,
    "jupyter": {
     "outputs_hidden": false
    }
   },
   "source": [
    "# Scatter Plot ausgesuchter Spalten\n",
    "\n",
    "# Korrelation zw. der Größe und dem Verkaufspreis"
   ]
  },
  {
   "cell_type": "code",
   "execution_count": null,
   "id": "fde7cbf3fd15ec3d",
   "metadata": {
    "collapsed": false,
    "jupyter": {
     "outputs_hidden": false
    }
   },
   "outputs": [],
   "source": [
    "fig, ax = plt.subplots()\n",
    "ax.scatter(x = train['GrLivArea'], y = train['SalePrice'])\n",
    "plt.ylabel('SalePrice', fontsize=13)\n",
    "plt.xlabel('GrLivArea', fontsize=13)\n",
    "plt.show()"
   ]
  },
  {
   "cell_type": "markdown",
   "id": "e3fcc514c91c74ac",
   "metadata": {
    "collapsed": false,
    "jupyter": {
     "outputs_hidden": false
    }
   },
   "source": [
    "# Löschen der Ausreißer"
   ]
  },
  {
   "cell_type": "code",
   "execution_count": null,
   "id": "8fe0c646c71dc472",
   "metadata": {
    "collapsed": false,
    "jupyter": {
     "outputs_hidden": false
    }
   },
   "outputs": [],
   "source": [
    "#Deleting outliers\n",
    "train = train.drop(train[(train['GrLivArea']>4000) & (train['SalePrice']<300000)].index)\n"
   ]
  },
  {
   "cell_type": "code",
   "execution_count": null,
   "id": "2b361cddac9bcb5",
   "metadata": {
    "collapsed": false,
    "jupyter": {
     "outputs_hidden": false
    }
   },
   "outputs": [],
   "source": [
    "#Check the graphic again\n",
    "fig, ax = plt.subplots()\n",
    "ax.scatter(train['GrLivArea'], train['SalePrice'])\n",
    "plt.ylabel('SalePrice', fontsize=13)\n",
    "plt.xlabel('GrLivArea', fontsize=13)\n",
    "plt.show()"
   ]
  },
  {
   "cell_type": "markdown",
   "id": "6a23432218d0c651",
   "metadata": {
    "collapsed": false,
    "jupyter": {
     "outputs_hidden": false
    }
   },
   "source": [
    "# Korrelation zw. der \"Overall Quality\" und dem Verkaufspreis"
   ]
  },
  {
   "cell_type": "code",
   "execution_count": null,
   "id": "3d273da485d1b7fd",
   "metadata": {
    "collapsed": false,
    "jupyter": {
     "outputs_hidden": false
    }
   },
   "outputs": [],
   "source": [
    "fig, ax = plt.subplots()\n",
    "ax.scatter(x = train['OverallQual'], y = train['SalePrice'])\n",
    "plt.ylabel('SalePrice', fontsize=13)\n",
    "plt.xlabel('OverallQual', fontsize=13)\n",
    "plt.show()"
   ]
  },
  {
   "cell_type": "markdown",
   "id": "4c35eabc02acc8dc",
   "metadata": {
    "collapsed": false,
    "jupyter": {
     "outputs_hidden": false
    }
   },
   "source": [
    "Wir entscheiden uns hier, **keine** Ausreißer zu entfernen, da hier z. B. auch noch die Größe, Anzahl Zimmer etc. einfließt.\n",
    "\n",
    "Wahrscheinlich gibt es noch weitere Ausreißer in den Trainingsdaten. Das Entfernen aller Ausreißer könnte sich jedoch negativ auf unsere Modelle auswirken, wenn es auch Ausreißer in den Testdaten gäbe. Deshalb werden wir nicht alle Ausreißer entfernen, sondern nur einige unserer Modelle für sie robust machen. Sie können sich dazu auf den Modellierungsteil dieses Notizbuchs beziehen.\n",
    "\n",
    "Die Entfernung von Ausreißern ist nicht immer sicher. Wir werden lediglich zwei Spalten mit Ausreißern entfernen, da sie sehr groß und wirklich schlecht sind (extrem große Flächen zu sehr niedrigen Preisen).\n",
    " \n",
    "[Documentation] Weiterführende Informationen zeigen verschiedene Ausreißer der Daten. [^1].\n",
    "\n",
    "[^1]: http://ww2.amstat.org/publications/jse/v19n3/Decock/DataDocumentation.txt"
   ]
  },
  {
   "cell_type": "code",
   "execution_count": null,
   "id": "d1ce230d68109a90",
   "metadata": {
    "collapsed": false,
    "jupyter": {
     "outputs_hidden": false
    }
   },
   "outputs": [],
   "source": [
    "# Sichern der Zwischenergebnisse\n",
    "with open('../data/house-prices-advanced-regression-techniques/train.pkl', 'wb') as handle:\n",
    "    pickle.dump(train, handle)\n",
    "with open('../data/house-prices-advanced-regression-techniques/test.pkl', 'wb') as handle:\n",
    "    pickle.dump(test, handle)"
   ]
  },
  {
   "cell_type": "code",
   "execution_count": null,
   "id": "a26f3e474bbcd82b",
   "metadata": {
    "collapsed": false,
    "jupyter": {
     "outputs_hidden": false
    }
   },
   "outputs": [],
   "source": []
  }
 ],
 "metadata": {
  "kernelspec": {
   "display_name": "Python 3 (ipykernel)",
   "language": "python",
   "name": "python3"
  },
  "language_info": {
   "codemirror_mode": {
    "name": "ipython",
    "version": 3
   },
   "file_extension": ".py",
   "mimetype": "text/x-python",
   "name": "python",
   "nbconvert_exporter": "python",
   "pygments_lexer": "ipython3",
   "version": "3.10.8"
  }
 },
 "nbformat": 4,
 "nbformat_minor": 5
}
