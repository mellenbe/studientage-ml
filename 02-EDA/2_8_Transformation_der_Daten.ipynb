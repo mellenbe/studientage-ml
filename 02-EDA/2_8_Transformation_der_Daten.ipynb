{
 "cells": [
  {
   "cell_type": "markdown",
   "id": "cf9b0ca8e585867f",
   "metadata": {
    "collapsed": false,
    "jupyter": {
     "outputs_hidden": false
    }
   },
   "source": [
    "# Transformation von Daten\n",
    "\n",
    "Nich alle Input-Daten können unbesehen verwendet werden. Es ist notwendig, kategorische Daten entweder in Zahlen umzuwandeln (ordinale kategorische Daten) oder über ein sogenanntes One-Hot-Encoding nominale kategorische Daten in sinnvolle Spalten umzuwaneln (s.u.). "
   ]
  },
  {
   "cell_type": "code",
   "execution_count": null,
   "id": "9a45bccfa9402b0b",
   "metadata": {
    "ExecuteTime": {
     "end_time": "2024-04-11T11:49:50.940474Z",
     "start_time": "2024-04-11T11:49:50.921352Z"
    },
    "collapsed": false,
    "jupyter": {
     "outputs_hidden": false
    }
   },
   "outputs": [],
   "source": [
    "#import some necessary librairies\n",
    "\n",
    "import numpy as np # linear algebra\n",
    "import pandas as pd # data processing, CSV file I/O (e.g. pd.read_csv)\n",
    "%matplotlib inline\n",
    "import matplotlib.pyplot as plt  # Matlab-style plotting\n",
    "import seaborn as sns\n",
    "color = sns.color_palette()\n",
    "sns.set_style('darkgrid')\n",
    "import warnings\n",
    "def ignore_warn(*args, **kwargs):\n",
    "    pass\n",
    "warnings.warn = ignore_warn #ignore annoying warning (from sklearn and seaborn)\n",
    "\n",
    "\n",
    "from scipy import stats\n",
    "from scipy.stats import norm, skew #for some statistics\n",
    "\n",
    "\n",
    "pd.set_option('display.float_format', lambda x: '{:.3f}'.format(x)) #Limiting floats output to 3 decimal points\n",
    "\n",
    "\n",
    "# from subprocess import check_output\n",
    "# print(check_output([\"ls\", \"../data/house-prices-advanced-regression-techniques\"]).decode(\"utf8\")) #check the files available in the directory\n",
    "\n",
    "import pickle"
   ]
  },
  {
   "cell_type": "markdown",
   "id": "7982adc551222563",
   "metadata": {
    "collapsed": false,
    "jupyter": {
     "outputs_hidden": false
    }
   },
   "source": [
    "# Daten aus dem vorigen Schritt laden\n"
   ]
  },
  {
   "cell_type": "code",
   "execution_count": null,
   "id": "aa64684469003caa",
   "metadata": {
    "ExecuteTime": {
     "end_time": "2024-04-11T11:49:50.956259Z",
     "start_time": "2024-04-11T11:49:50.940474Z"
    },
    "collapsed": false,
    "jupyter": {
     "outputs_hidden": false
    }
   },
   "outputs": [],
   "source": [
    "with open('../data/house-prices-advanced-regression-techniques/train_1.pkl', 'rb') as handle:\n",
    "    train_orig = pickle.load(handle)\n",
    "\n",
    "with open('../data/house-prices-advanced-regression-techniques/test_1.pkl', 'rb') as handle:\n",
    "    test_orig = pickle.load(handle)\n",
    "    \n",
    "with open('../data/house-prices-advanced-regression-techniques/all_data.pkl', 'rb') as handle:\n",
    "    df = pickle.load(handle)\n"
   ]
  },
  {
   "cell_type": "markdown",
   "id": "dbd5d234df08c26d",
   "metadata": {
    "collapsed": false,
    "jupyter": {
     "outputs_hidden": false
    }
   },
   "source": [
    "# Wiederherstellen von Test- und Trainset"
   ]
  },
  {
   "cell_type": "code",
   "execution_count": null,
   "id": "4333d5af08f6ba03",
   "metadata": {
    "ExecuteTime": {
     "end_time": "2024-04-11T11:49:50.972279Z",
     "start_time": "2024-04-11T11:49:50.956396Z"
    },
    "collapsed": false,
    "jupyter": {
     "outputs_hidden": false
    }
   },
   "outputs": [],
   "source": [
    "ntrain = train_orig.shape[0] # Anzahl der Trainingsdaten\n",
    "ntest = test_orig.shape[0]   # Anzahl der Testdaten\n",
    "\n",
    "# Zielvariable der Trainingsdaten\n",
    "y_train = train_orig['SalePrice']"
   ]
  },
  {
   "cell_type": "code",
   "execution_count": null,
   "id": "756bf6071fc7dcd9",
   "metadata": {
    "ExecuteTime": {
     "end_time": "2024-04-11T11:49:50.987929Z",
     "start_time": "2024-04-11T11:49:50.972279Z"
    },
    "collapsed": false,
    "jupyter": {
     "outputs_hidden": false
    }
   },
   "outputs": [],
   "source": [
    "print (y_train)\n",
    "print (\"Länge von y_train: \" + str (len(y_train)))"
   ]
  },
  {
   "cell_type": "code",
   "execution_count": null,
   "id": "8c0f6db5e4f5b791",
   "metadata": {
    "ExecuteTime": {
     "end_time": "2024-04-11T11:49:51.003556Z",
     "start_time": "2024-04-11T11:49:50.987929Z"
    },
    "collapsed": false,
    "jupyter": {
     "outputs_hidden": false
    }
   },
   "outputs": [],
   "source": [
    "X_train = df[:ntrain]\n",
    "X_test = df[ntrain:]\n",
    "\n",
    "print(\"Dimension des Trainingssets: \" + str (X_train.shape))\n",
    "print(\"Dimension des Testsets: \" + str (X_test.shape))\n"
   ]
  },
  {
   "cell_type": "markdown",
   "id": "44b7872f49da2790",
   "metadata": {
    "collapsed": false,
    "jupyter": {
     "outputs_hidden": false
    }
   },
   "source": [
    "## Nominale Daten\n",
    "\n",
    "Die einfachste Transformation, von textbasierten zu numerischen kategorischen Merkmalen, ist das Ersetzen einer Kategorie mit einer bestimmten Zahl. Zum Beispiel für \"Hund\" die 1, für \"Maus\" die 2 und für \"Katze\" die 3. Einige ML-Algorithmen gehen jedoch davon aus, dass sich **zwei benachbarte Werte ähnlicher** sind als weiter entfernte Werte. Bei nominalen Daten trifft diese Annahme nicht zu. Es muss sicher gestellt werden, dass der Algorithmus hier **keine Fehlinterpretation** vornimmt. Lösung ist das sogenannte **One-Hot-Encoding**.  \n",
    "\n",
    "### One-Hot-Encoding\n",
    "\n",
    "Beim One-Hot-Encoding wird für **jeden möglichen Wert eine Spalte** mit binären Werten erstellt. 1 bedeutet, der Wert liegt vor, 0 bedeutet der Wert liegt nicht vor. Das Merkmal Tierart mit den drei möglichen Kategorien \"Hund\", \"Maus\" und \"Katze\" wird mit dem One-Hot-Encoding in drei Spalten transformiert. Für die Umsetzung bietet sich die [get_dummies()](https://pandas.pydata.org/docs/reference/api/pandas.get_dummies.html)-Methode von Pandas an.\n",
    "\n",
    "Das nachfolgende Beispiel zeigt dies für die nominal kategorische Spalte 'Electrical' (d.h. die Aussage, welche elektrische Installation im Haus vorzufinden ist).\n",
    "\n",
    "Schauen Sie genau hin. Es ist in jeweils nur einer einzigen Spalte der Wert \"True\" zu sehen!"
   ]
  },
  {
   "cell_type": "code",
   "execution_count": null,
   "id": "9476e1dde414ab33",
   "metadata": {
    "ExecuteTime": {
     "end_time": "2024-04-11T11:49:51.019700Z",
     "start_time": "2024-04-11T11:49:51.003556Z"
    },
    "collapsed": false,
    "jupyter": {
     "outputs_hidden": false
    }
   },
   "outputs": [],
   "source": [
    "pd.get_dummies(df['Electrical'])"
   ]
  },
  {
   "cell_type": "markdown",
   "id": "bc3e60c58aa66142",
   "metadata": {
    "collapsed": false,
    "jupyter": {
     "outputs_hidden": false
    }
   },
   "source": [
    "# Erstellen einer Pipeline\n",
    "Um den Prozess der Verarbeitung zu vereinfachen und zu standardisieren, kann eine sogenannte Pipeline eingesetzt werden. Diese erlaubt sowohl die Skalierung von Daten als auch das One-Hot-Encoding."
   ]
  },
  {
   "cell_type": "code",
   "execution_count": null,
   "id": "f802aae3666ed51f",
   "metadata": {
    "ExecuteTime": {
     "end_time": "2024-04-11T11:51:33.348884Z",
     "start_time": "2024-04-11T11:51:33.333260Z"
    },
    "collapsed": false,
    "jupyter": {
     "outputs_hidden": false
    }
   },
   "outputs": [],
   "source": [
    "from sklearn.compose import ColumnTransformer\n",
    "from sklearn.pipeline import Pipeline\n",
    "from sklearn.impute import SimpleImputer\n",
    "from sklearn.preprocessing import StandardScaler, OneHotEncoder\n",
    "\n",
    "\n",
    "# Define transformers for numerical and categorical columns\n",
    "numerical_transformer = Pipeline(steps=[\n",
    "    ('imputer', SimpleImputer(strategy='mean')),\n",
    "    ('scaler', StandardScaler())\n",
    "])\n",
    "\n",
    "categorical_transformer = Pipeline(steps=[\n",
    "    ('imputer', SimpleImputer(strategy='constant', fill_value='missing')),\n",
    "    ('onehot', OneHotEncoder(handle_unknown='ignore', sparse_output = False))\n",
    "])\n",
    "\n",
    "# Vgl. https://www.kaggle.com/code/kenjee/housing-prices-example-with-video-walkthrough"
   ]
  },
  {
   "cell_type": "code",
   "execution_count": null,
   "id": "de502bd7ff7bd31f",
   "metadata": {
    "ExecuteTime": {
     "end_time": "2024-04-11T11:51:35.264922Z",
     "start_time": "2024-04-11T11:51:35.218027Z"
    },
    "collapsed": false,
    "jupyter": {
     "outputs_hidden": false
    }
   },
   "outputs": [],
   "source": [
    "# Update categorical and numerical columns\n",
    "categorical_columns = df.select_dtypes(include=['object', 'category']).columns\n",
    "numerical_columns = df.select_dtypes(include=[np.number]).columns\n",
    "\n",
    "# Combine transformers using ColumnTransformer\n",
    "preprocessor = ColumnTransformer(\n",
    "    transformers=[\n",
    "        ('num', numerical_transformer, numerical_columns),\n",
    "        ('cat', categorical_transformer, categorical_columns)\n",
    "    ],remainder = 'passthrough')\n",
    "\n",
    "# Create a pipeline with the preprocessor\n",
    "pipeline = Pipeline(steps=[\n",
    "    ('preprocessor', preprocessor)])\n",
    "\n",
    "X_preprocessed_train = pipeline.fit_transform(X_train)\n",
    "\n",
    "print (\"Anzahl numerischer Spalten: \" + str(len(numerical_columns)))\n",
    "print (\"Anzahl kategorischer Spalten: \" + str(len(categorical_columns)))\n"
   ]
  },
  {
   "cell_type": "code",
   "execution_count": null,
   "id": "b6484dad520f953",
   "metadata": {
    "ExecuteTime": {
     "end_time": "2024-04-11T11:51:36.923611Z",
     "start_time": "2024-04-11T11:51:36.907985Z"
    },
    "collapsed": false,
    "jupyter": {
     "outputs_hidden": false
    }
   },
   "outputs": [],
   "source": [
    "X_preprocessed_train"
   ]
  },
  {
   "cell_type": "code",
   "execution_count": null,
   "id": "c80c53761fcb94f8",
   "metadata": {
    "collapsed": false,
    "jupyter": {
     "outputs_hidden": false
    }
   },
   "outputs": [],
   "source": [
    "# Function to create scrollable table within a small window\n",
    "def create_scrollable_table(df, table_id, title):\n",
    "    html = f'<h3>{title}</h3>'\n",
    "    html += f'<div id=\"{table_id}\" style=\"height:200px; overflow:auto;\">'\n",
    "    html += df.to_html()\n",
    "    html += '</div>'\n",
    "    return html"
   ]
  },
  {
   "cell_type": "code",
   "execution_count": null,
   "id": "460ac6a1b4235ba0",
   "metadata": {
    "collapsed": false,
    "jupyter": {
     "outputs_hidden": false
    }
   },
   "outputs": [],
   "source": [
    "from IPython.display import display, HTML\n",
    "html_preprocessed = create_scrollable_table(pd.DataFrame(X_preprocessed_train), 'numerical_features', 'Summary statistics for numerical features')\n",
    "display(HTML(html_preprocessed))\n"
   ]
  },
  {
   "cell_type": "code",
   "execution_count": null,
   "id": "19701d80197b8579",
   "metadata": {
    "collapsed": false,
    "jupyter": {
     "outputs_hidden": false
    }
   },
   "outputs": [],
   "source": [
    "with open('../data/house-prices-advanced-regression-techniques/x_preprocessed_train.pkl', 'wb') as handle:\n",
    "    pickle.dump(X_preprocessed_train, handle)\n",
    "    \n",
    "with open('../data/house-prices-advanced-regression-techniques/y_train.pkl', 'wb') as handle:\n",
    "    pickle.dump(y_train, handle)\n",
    "    \n",
    "with open('../data/house-prices-advanced-regression-techniques/x_test.pkl', 'wb') as handle:\n",
    "    pickle.dump(X_test, handle)\n",
    "    \n"
   ]
  }
 ],
 "metadata": {
  "kernelspec": {
   "display_name": "Python 3 (ipykernel)",
   "language": "python",
   "name": "python3"
  },
  "language_info": {
   "codemirror_mode": {
    "name": "ipython",
    "version": 3
   },
   "file_extension": ".py",
   "mimetype": "text/x-python",
   "name": "python",
   "nbconvert_exporter": "python",
   "pygments_lexer": "ipython3",
   "version": "3.10.8"
  }
 },
 "nbformat": 4,
 "nbformat_minor": 5
}
