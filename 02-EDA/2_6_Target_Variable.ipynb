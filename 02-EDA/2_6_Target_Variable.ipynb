{
 "cells": [
  {
   "cell_type": "markdown",
   "source": [
    "# Target Variable\n",
    "Bevor wir uns die Features genauer ansehen werfen wir zunächst einen Blick auf die Zielvariable, also diejenigen Werte, die wir vorhersagen wollen.\n",
    "[Credits to Serigne](https://www.kaggle.com/serigne)\n",
    "[Angelehnt an die Quelle von Serigne bei kaggle](https://www.kaggle.com/code/serigne/stacked-regressions-top-4-on-leaderboard/notebook)"
   ],
   "metadata": {
    "collapsed": false
   },
   "id": "250f0324f3e12aa"
  },
  {
   "cell_type": "code",
   "execution_count": null,
   "outputs": [],
   "source": [
    "#import some necessary librairies\n",
    "\n",
    "import numpy as np # linear algebra\n",
    "import pandas as pd # data processing, CSV file I/O (e.g. pd.read_csv)\n",
    "%matplotlib inline\n",
    "import matplotlib.pyplot as plt  # Matlab-style plotting\n",
    "import seaborn as sns\n",
    "color = sns.color_palette()\n",
    "sns.set_style('darkgrid')\n",
    "import warnings\n",
    "def ignore_warn(*args, **kwargs):\n",
    "    pass\n",
    "warnings.warn = ignore_warn #ignore annoying warning (from sklearn and seaborn)\n",
    "\n",
    "\n",
    "from scipy import stats\n",
    "from scipy.stats import norm, skew #for some statistics\n",
    "\n",
    "\n",
    "pd.set_option('display.float_format', lambda x: '{:.3f}'.format(x)) #Limiting floats output to 3 decimal points\n",
    "\n",
    "\n",
    "from subprocess import check_output\n",
    "print(check_output([\"ls\", \"../data/house-prices-advanced-regression-techniques\"]).decode(\"utf8\")) #check the files available in the directory\n",
    "\n",
    "import pickle"
   ],
   "metadata": {
    "collapsed": false
   },
   "id": "521a8e51028bd8d3"
  },
  {
   "cell_type": "markdown",
   "source": [
    "# Daten aus dem vorigen Schritt laden\n"
   ],
   "metadata": {
    "collapsed": false
   },
   "id": "bb49562d026f2920"
  },
  {
   "cell_type": "code",
   "execution_count": null,
   "outputs": [],
   "source": [
    "with open('../data/house-prices-advanced-regression-techniques/train.pkl', 'rb') as handle:\n",
    "    train = pickle.load(handle)\n",
    "\n",
    "with open('../data/house-prices-advanced-regression-techniques/test.pkl', 'rb') as handle:\n",
    "    test = pickle.load(handle)"
   ],
   "metadata": {
    "collapsed": false
   },
   "id": "f87c20b39fb0b712"
  },
  {
   "cell_type": "markdown",
   "source": [
    "# Überprüfung Normalverteilung\n",
    "Viele ML Algorithmen bevorzugen normalverteilte Daten (bei einer Regression).\n",
    "\n",
    "Daher soll hier zunächst die Verteilung der Ziel-Variablen - d.h. der zu erzielenden Verkaufspreise betrachtet werden:"
   ],
   "metadata": {
    "collapsed": false
   },
   "id": "b0fc02d1941974e4"
  },
  {
   "cell_type": "code",
   "execution_count": null,
   "outputs": [],
   "source": [
    "sns.distplot(train['SalePrice'] , fit=norm);\n",
    "\n",
    "# Get the fitted parameters used by the function\n",
    "(mu, sigma) = norm.fit(train['SalePrice'])\n",
    "print( '\\n mu = {:.2f} and sigma = {:.2f}\\n'.format(mu, sigma))\n",
    "\n",
    "#Now plot the distribution\n",
    "plt.legend(['Normalverteilung ($\\mu=$ {:.2f} and $\\sigma=$ {:.2f} )'.format(mu, sigma)],\n",
    "            loc='best')\n",
    "plt.ylabel('Häufigkeit')\n",
    "plt.title('Verteilung der Verkaufspreise')\n",
    "\n",
    "#Get also the QQ-plot\n",
    "fig = plt.figure()\n",
    "res = stats.probplot(train['SalePrice'], plot=plt)\n",
    "plt.show()\n",
    "\n",
    "# Vgl. https://www.kaggle.com/code/serigne/stacked-regressions-top-4-on-leaderboard/notebook"
   ],
   "metadata": {
    "collapsed": false
   },
   "id": "1b8c68ae11a775f2"
  },
  {
   "cell_type": "markdown",
   "source": [
    "# Herstellung der Normalverteilung"
   ],
   "metadata": {
    "collapsed": false
   },
   "id": "545b4e401dee3f07"
  },
  {
   "cell_type": "code",
   "execution_count": null,
   "outputs": [],
   "source": [
    "#We use the numpy fuction log1p which  applies log(1+x) to all elements of the column\n",
    "train[\"SalePrice\"] = np.log1p(train[\"SalePrice\"])\n",
    "\n",
    "#Check the new distribution \n",
    "sns.distplot(train['SalePrice'] , fit=norm);\n",
    "\n",
    "# Get the fitted parameters used by the function\n",
    "(mu, sigma) = norm.fit(train['SalePrice'])\n",
    "print( '\\n mu = {:.2f} and sigma = {:.2f}\\n'.format(mu, sigma))\n",
    "\n",
    "#Now plot the distribution\n",
    "plt.legend(['Normalverteilung ($\\mu=$ {:.2f} and $\\sigma=$ {:.2f} )'.format(mu, sigma)],\n",
    "            loc='best')\n",
    "plt.ylabel('Häufigkeit')\n",
    "plt.title('SalePrice Verteilung')\n",
    "\n",
    "#Get also the QQ-plot\n",
    "fig = plt.figure()\n",
    "res = stats.probplot(train['SalePrice'], plot=plt)\n",
    "plt.show()"
   ],
   "metadata": {
    "collapsed": false
   },
   "id": "1739771cec0896aa"
  },
  {
   "cell_type": "markdown",
   "source": [
    "# Sichern der Zwischenergebnisse"
   ],
   "metadata": {
    "collapsed": false
   },
   "id": "f2ecd5c3cecc202b"
  },
  {
   "cell_type": "code",
   "execution_count": null,
   "outputs": [],
   "source": [
    "with open('../data/house-prices-advanced-regression-techniques/train_1.pkl', 'wb') as handle:\n",
    "    pickle.dump(train, handle)\n",
    "with open('../data/house-prices-advanced-regression-techniques/test_1.pkl', 'wb') as handle:\n",
    "    pickle.dump(test, handle)"
   ],
   "metadata": {
    "collapsed": false
   },
   "id": "8257e9a31d07e4cf"
  },
  {
   "cell_type": "code",
   "execution_count": null,
   "outputs": [],
   "source": [],
   "metadata": {
    "collapsed": false
   },
   "id": "45cba22ae69eba4e"
  }
 ],
 "metadata": {
  "kernelspec": {
   "display_name": "Python 3",
   "language": "python",
   "name": "python3"
  },
  "language_info": {
   "codemirror_mode": {
    "name": "ipython",
    "version": 2
   },
   "file_extension": ".py",
   "mimetype": "text/x-python",
   "name": "python",
   "nbconvert_exporter": "python",
   "pygments_lexer": "ipython2",
   "version": "2.7.6"
  }
 },
 "nbformat": 4,
 "nbformat_minor": 5
}
