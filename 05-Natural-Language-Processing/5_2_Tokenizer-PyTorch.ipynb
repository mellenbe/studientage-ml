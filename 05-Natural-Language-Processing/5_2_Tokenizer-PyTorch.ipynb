{
 "cells": [
  {
   "cell_type": "markdown",
   "id": "d24e529a9ff43de6",
   "metadata": {},
   "source": [
    "# Tokenizer\n",
    "\n",
    "(samples modified from:  https://huggingface.co/docs/transformers/main/en/preprocessing)"
   ]
  },
  {
   "cell_type": "code",
   "id": "c70b40843ed823a5",
   "metadata": {
    "ExecuteTime": {
     "end_time": "2024-04-09T14:06:36.840064Z",
     "start_time": "2024-04-09T14:06:34.357210Z"
    }
   },
   "source": [
    "from transformers import AutoTokenizer\n",
    "tokenizer = AutoTokenizer.from_pretrained(\"google-bert/bert-base-cased\")"
   ],
   "outputs": [],
   "execution_count": 1
  },
  {
   "cell_type": "code",
   "id": "8840d71e1bb24519",
   "metadata": {
    "ExecuteTime": {
     "end_time": "2024-04-09T14:06:36.856074Z",
     "start_time": "2024-04-09T14:06:36.840064Z"
    }
   },
   "source": [
    "# see: https://huggingface.co/docs/transformers/main/en/preprocessing\n",
    "encoded_input = tokenizer(\"Do not meddle in the affairs of wizards, for they are subtle and quick to anger.\")\n",
    "print(encoded_input['input_ids'])\n",
    "print(encoded_input['token_type_ids'])\n",
    "print(encoded_input['attention_mask'])"
   ],
   "outputs": [
    {
     "name": "stdout",
     "output_type": "stream",
     "text": [
      "[101, 2091, 1136, 1143, 13002, 1107, 1103, 5707, 1104, 16678, 1116, 117, 1111, 1152, 1132, 11515, 1105, 3613, 1106, 4470, 119, 102]\n",
      "[0, 0, 0, 0, 0, 0, 0, 0, 0, 0, 0, 0, 0, 0, 0, 0, 0, 0, 0, 0, 0, 0]\n",
      "[1, 1, 1, 1, 1, 1, 1, 1, 1, 1, 1, 1, 1, 1, 1, 1, 1, 1, 1, 1, 1, 1]\n"
     ]
    }
   ],
   "execution_count": 2
  },
  {
   "cell_type": "markdown",
   "id": "f8fceeb32b91736",
   "metadata": {},
   "source": [
    "# Handling multiple Sentences"
   ]
  },
  {
   "cell_type": "code",
   "id": "95d017898cbbddc5",
   "metadata": {
    "ExecuteTime": {
     "end_time": "2024-04-09T14:06:39.218339Z",
     "start_time": "2024-04-09T14:06:39.197202Z"
    }
   },
   "source": [
    "batch_sentences = [\n",
    "    \"But what about second breakfast?\",\n",
    "    \"Don't think he knows about second breakfast, Pip.\",\n",
    "    \"What about elevensies?\",\n",
    "]\n",
    "encoded_inputs = tokenizer(batch_sentences)\n",
    "\n",
    "# Wir definieren eine kleine Hilfsfunktion, um die Parameter ausgeben zu können:\n",
    "def outp (inputs):\n",
    "    for name in ['input_ids', 'token_type_ids', 'attention_mask']:\n",
    "        if name in inputs:\n",
    "            print(f\"\\n{name}\")\n",
    "            for i in range (len (inputs[name])):\n",
    "                print(inputs[name][i])\n",
    "\n",
    "outp(encoded_inputs)"
   ],
   "outputs": [
    {
     "name": "stdout",
     "output_type": "stream",
     "text": [
      "\n",
      "input_ids\n",
      "[101, 1252, 1184, 1164, 1248, 6462, 136, 102]\n",
      "[101, 1790, 112, 189, 1341, 1119, 3520, 1164, 1248, 6462, 117, 21902, 1643, 119, 102]\n",
      "[101, 1327, 1164, 5450, 23434, 136, 102]\n",
      "\n",
      "token_type_ids\n",
      "[0, 0, 0, 0, 0, 0, 0, 0]\n",
      "[0, 0, 0, 0, 0, 0, 0, 0, 0, 0, 0, 0, 0, 0, 0]\n",
      "[0, 0, 0, 0, 0, 0, 0]\n",
      "\n",
      "attention_mask\n",
      "[1, 1, 1, 1, 1, 1, 1, 1]\n",
      "[1, 1, 1, 1, 1, 1, 1, 1, 1, 1, 1, 1, 1, 1, 1]\n",
      "[1, 1, 1, 1, 1, 1, 1]\n"
     ]
    }
   ],
   "execution_count": 3
  },
  {
   "cell_type": "markdown",
   "id": "bbbe850d92ce68a6",
   "metadata": {},
   "source": [
    "# Padding & Truncation"
   ]
  },
  {
   "cell_type": "code",
   "id": "d21cb67847215d41",
   "metadata": {
    "ExecuteTime": {
     "end_time": "2024-04-09T14:06:41.035249Z",
     "start_time": "2024-04-09T14:06:41.019575Z"
    }
   },
   "source": [
    "encoded_inputs = tokenizer(batch_sentences, padding=True, truncation=True)"
   ],
   "outputs": [],
   "execution_count": 4
  },
  {
   "cell_type": "code",
   "id": "e368cc043a359bb6",
   "metadata": {
    "ExecuteTime": {
     "end_time": "2024-04-09T14:06:42.392584Z",
     "start_time": "2024-04-09T14:06:42.376692Z"
    }
   },
   "source": [
    "outp(encoded_inputs)"
   ],
   "outputs": [
    {
     "name": "stdout",
     "output_type": "stream",
     "text": [
      "\n",
      "input_ids\n",
      "[101, 1252, 1184, 1164, 1248, 6462, 136, 102, 0, 0, 0, 0, 0, 0, 0]\n",
      "[101, 1790, 112, 189, 1341, 1119, 3520, 1164, 1248, 6462, 117, 21902, 1643, 119, 102]\n",
      "[101, 1327, 1164, 5450, 23434, 136, 102, 0, 0, 0, 0, 0, 0, 0, 0]\n",
      "\n",
      "token_type_ids\n",
      "[0, 0, 0, 0, 0, 0, 0, 0, 0, 0, 0, 0, 0, 0, 0]\n",
      "[0, 0, 0, 0, 0, 0, 0, 0, 0, 0, 0, 0, 0, 0, 0]\n",
      "[0, 0, 0, 0, 0, 0, 0, 0, 0, 0, 0, 0, 0, 0, 0]\n",
      "\n",
      "attention_mask\n",
      "[1, 1, 1, 1, 1, 1, 1, 1, 0, 0, 0, 0, 0, 0, 0]\n",
      "[1, 1, 1, 1, 1, 1, 1, 1, 1, 1, 1, 1, 1, 1, 1]\n",
      "[1, 1, 1, 1, 1, 1, 1, 0, 0, 0, 0, 0, 0, 0, 0]\n"
     ]
    }
   ],
   "execution_count": 5
  },
  {
   "cell_type": "markdown",
   "id": "5a06df9694ddacd9",
   "metadata": {},
   "source": [
    "# Word based tokenizer"
   ]
  },
  {
   "cell_type": "code",
   "id": "a8303a2d7b27e730",
   "metadata": {
    "ExecuteTime": {
     "end_time": "2024-04-09T14:06:44.159503Z",
     "start_time": "2024-04-09T14:06:44.143836Z"
    }
   },
   "source": [
    "text = 'But what about second breakfast?'\n",
    "tokenizer.tokenize(text)"
   ],
   "outputs": [
    {
     "data": {
      "text/plain": [
       "['But', 'what', 'about', 'second', 'breakfast', '?']"
      ]
     },
     "execution_count": 6,
     "metadata": {},
     "output_type": "execute_result"
    }
   ],
   "execution_count": 6
  },
  {
   "cell_type": "markdown",
   "id": "e4963e43e2391fdf",
   "metadata": {},
   "source": [
    "# Sub-Word based tokenizer"
   ]
  },
  {
   "cell_type": "code",
   "id": "b04a5f98d05bfbf2",
   "metadata": {
    "ExecuteTime": {
     "end_time": "2024-04-09T14:06:46.971312Z",
     "start_time": "2024-04-09T14:06:46.137742Z"
    }
   },
   "source": [
    "from transformers import XLNetTokenizer\n",
    "\n",
    "tokenizer = XLNetTokenizer.from_pretrained(\"xlnet/xlnet-base-cased\")\n",
    "output = tokenizer.tokenize(\"Don't you love 🤗 Transformers? We sure do.\")\n",
    "for i in range (len (output)):\n",
    "    print(output[i], end=' | ')"
   ],
   "outputs": [
    {
     "name": "stdout",
     "output_type": "stream",
     "text": [
      "▁Don | ' | t | ▁you | ▁love | ▁ | 🤗 | ▁ | Transform | ers | ? | ▁We | ▁sure | ▁do | . | "
     ]
    }
   ],
   "execution_count": 7
  },
  {
   "cell_type": "markdown",
   "id": "a6ca3ffc85373be9",
   "metadata": {},
   "source": [
    "- Transformers wurde in zwei Sub-Words aufgeteilt\n",
    "- Satzzeichen habe eigene Tokens"
   ]
  },
  {
   "cell_type": "markdown",
   "id": "a65824e3fa124182",
   "metadata": {},
   "source": [
    "# Your own Tokenizer\n",
    "\n",
    "## Einen Textcorpus laden\n",
    "[Credits to huggingface: https://github.com/huggingface/notebooks/blob/main/examples/tokenizer_training.ipynb]\n",
    "\n",
    "## Ein Dataset von huggingface laden:\n",
    "Wir laden zunächst das \"Wikitext\" Dataset von huggingface. Darin enthalten sind Beispieltexte von Wikipedia."
   ]
  },
  {
   "cell_type": "code",
   "id": "d6deb2878c516557",
   "metadata": {
    "ExecuteTime": {
     "end_time": "2024-04-09T14:06:50.471862Z",
     "start_time": "2024-04-09T14:06:49.963665Z"
    }
   },
   "source": [
    "from datasets import load_dataset"
   ],
   "outputs": [],
   "execution_count": 8
  },
  {
   "cell_type": "code",
   "id": "e47575139c782d0f",
   "metadata": {
    "ExecuteTime": {
     "end_time": "2024-04-09T14:07:02.970897Z",
     "start_time": "2024-04-09T14:06:53.178387Z"
    }
   },
   "source": [
    "dataset = load_dataset(\"wikitext\", name=\"wikitext-2-raw-v1\", split=\"train\")"
   ],
   "outputs": [],
   "execution_count": 9
  },
  {
   "cell_type": "markdown",
   "id": "1ca268ceb7d29249",
   "metadata": {},
   "source": [
    "# Zugriffsmöglichkeiten auf das DataSet"
   ]
  },
  {
   "cell_type": "code",
   "id": "2f65d7a97bfafe0c",
   "metadata": {
    "ExecuteTime": {
     "end_time": "2024-04-09T14:07:05.839270Z",
     "start_time": "2024-04-09T14:07:05.823632Z"
    }
   },
   "source": [
    "dataset"
   ],
   "outputs": [
    {
     "data": {
      "text/plain": [
       "Dataset({\n",
       "    features: ['text'],\n",
       "    num_rows: 36718\n",
       "})"
      ]
     },
     "execution_count": 10,
     "metadata": {},
     "output_type": "execute_result"
    }
   ],
   "execution_count": 10
  },
  {
   "cell_type": "code",
   "id": "99bb13755de4b029",
   "metadata": {
    "ExecuteTime": {
     "end_time": "2024-04-09T14:07:06.934781Z",
     "start_time": "2024-04-09T14:07:06.919079Z"
    }
   },
   "source": [
    "dataset[30000]"
   ],
   "outputs": [
    {
     "data": {
      "text/plain": [
       "{'text': \" Le souper de Beaucaire was a political pamphlet written by Napoleon Bonaparte in 1793 . With the French Revolution into its fourth year , civil war had spread across France between various rival political factions . Napoleon was involved in military action , on the government 's side , against some rebellious cities of southern France . It was during these events , in 1793 , that he spoke with four merchants from the Midi and heard their views . As a loyal soldier of the Republic he responded in turn , set on dispelling the fears of the merchants and discouraging their beliefs . He later wrote about his conversation in the form of a pamphlet , calling for an end to the civil war . \\n\"}"
      ]
     },
     "execution_count": 11,
     "metadata": {},
     "output_type": "execute_result"
    }
   ],
   "execution_count": 11
  },
  {
   "cell_type": "code",
   "id": "553f72a4db9ceca0",
   "metadata": {
    "ExecuteTime": {
     "end_time": "2024-04-09T14:07:08.367922Z",
     "start_time": "2024-04-09T14:07:08.353418Z"
    }
   },
   "source": [
    "dataset[30000:30005]"
   ],
   "outputs": [
    {
     "data": {
      "text/plain": [
       "{'text': [\" Le souper de Beaucaire was a political pamphlet written by Napoleon Bonaparte in 1793 . With the French Revolution into its fourth year , civil war had spread across France between various rival political factions . Napoleon was involved in military action , on the government 's side , against some rebellious cities of southern France . It was during these events , in 1793 , that he spoke with four merchants from the Midi and heard their views . As a loyal soldier of the Republic he responded in turn , set on dispelling the fears of the merchants and discouraging their beliefs . He later wrote about his conversation in the form of a pamphlet , calling for an end to the civil war . \\n\",\n",
       "  '',\n",
       "  ' = = Background = = \\n',\n",
       "  '',\n",
       "  ' During the French Revolution the National Convention became the executive power of France , following the execution of King Louis XVI . With powerful members , such as Maximilien Robespierre and Georges Danton , the Jacobin Club , a French political party established in 1790 , at the birth of the revolution , managed to secure control of the government and pursue the revolution to their own ends , culminating in a \" Reign of Terror \" . Its repressive policies resulted in insurrection across much of France , including the three largest cities after Paris , namely Lyon , Marseille and Toulon , in the south of France . \\n']}"
      ]
     },
     "execution_count": 12,
     "metadata": {},
     "output_type": "execute_result"
    }
   ],
   "execution_count": 12
  },
  {
   "cell_type": "markdown",
   "id": "dbf13d35baaf6fef",
   "metadata": {},
   "source": [
    "# DataSet für den Trainnigsprozess bereitstellen (Corpus)\n",
    "## A) als Liste von Listen\n",
    "Dies lässt sich einfach umsetzen, hat aber den Nachteil, dass die Daten im Hauptspeicher gehalten werden müssen."
   ]
  },
  {
   "cell_type": "code",
   "id": "43ca9869e5a986ba",
   "metadata": {
    "ExecuteTime": {
     "end_time": "2024-04-09T14:07:10.675512Z",
     "start_time": "2024-04-09T14:07:10.628186Z"
    }
   },
   "source": [
    "batch_size = 1000\n",
    "all_texts = [dataset[i : i + batch_size][\"text\"] for i in range(0, len(dataset), batch_size)]"
   ],
   "outputs": [],
   "execution_count": 13
  },
  {
   "cell_type": "markdown",
   "id": "d33150b55f9cdfb1",
   "metadata": {},
   "source": [
    "## B) Als Iterator\n",
    "Ein (Python-) Iterator ist eine Möglichkeit, Daten sukzessive nach und nach zu laden. Da das DataSet die Daten auf der Festplatte vorhält, wird für den Iterator immer nur ein Teil der Daten in den Hauptspeicher geladen.\n",
    "\n",
    "Wir definieren diesen hier als Funktion:"
   ]
  },
  {
   "cell_type": "code",
   "id": "4997ed561a96c88b",
   "metadata": {
    "ExecuteTime": {
     "end_time": "2024-04-09T14:07:12.402730Z",
     "start_time": "2024-04-09T14:07:12.387102Z"
    }
   },
   "source": [
    "def batch_iterator():\n",
    "    for i in range(0, len(dataset), batch_size):\n",
    "        yield dataset[i : i + batch_size][\"text\"]"
   ],
   "outputs": [],
   "execution_count": 14
  },
  {
   "cell_type": "markdown",
   "id": "192e5b5cdba7843d",
   "metadata": {},
   "source": [
    "# Verschiedene Tokenizer aufbauen\n",
    "# 1) Die Architektur eines vorhandenen Tokenizers clonen aber selbst trainieren\n",
    "[Credits to: https://github.com/huggingface/notebooks/blob/main/examples/tokenizer_training.ipynb]"
   ]
  },
  {
   "cell_type": "code",
   "id": "d6e76835128407a4",
   "metadata": {
    "ExecuteTime": {
     "end_time": "2024-04-09T14:07:15.244135Z",
     "start_time": "2024-04-09T14:07:15.016485Z"
    }
   },
   "source": [
    "from transformers import AutoTokenizer\n",
    "\n",
    "tokenizer = AutoTokenizer.from_pretrained(\"gpt2\")\n",
    "\n",
    "# Wir stellen sicher, dass wir eine \"fast\" Version der Architektur geladen haben, um das Training im Rahmen zu halten\n",
    "if not tokenizer.is_fast:\n",
    "    raise (\"Dieser Tokenizer ist nicht geeignet.\")\n",
    "else:\n",
    "    print(\"Dieser Tokenizer ist geeignet.\")"
   ],
   "outputs": [
    {
     "name": "stdout",
     "output_type": "stream",
     "text": [
      "Dieser Tokenizer ist geeignet.\n"
     ]
    }
   ],
   "execution_count": 15
  },
  {
   "cell_type": "code",
   "id": "a1c6c86ed70809e8",
   "metadata": {
    "ExecuteTime": {
     "end_time": "2024-04-09T14:07:18.398854Z",
     "start_time": "2024-04-09T14:07:16.575746Z"
    }
   },
   "source": [
    "gpt_clone_tokenizer = tokenizer.train_new_from_iterator(batch_iterator(), vocab_size=25000)"
   ],
   "outputs": [],
   "execution_count": 16
  },
  {
   "cell_type": "code",
   "id": "6034d80b1d86917b",
   "metadata": {
    "ExecuteTime": {
     "end_time": "2024-04-09T14:07:23.496955Z",
     "start_time": "2024-04-09T14:07:23.481324Z"
    }
   },
   "source": [
    "outp(gpt_clone_tokenizer(dataset[30000:30005][\"text\"]))"
   ],
   "outputs": [
    {
     "name": "stdout",
     "output_type": "stream",
     "text": [
      "\n",
      "input_ids\n",
      "[826, 17937, 536, 416, 1298, 13209, 5762, 321, 259, 2140, 23294, 1680, 370, 12929, 19894, 284, 22994, 272, 1648, 261, 1613, 5537, 650, 520, 2321, 607, 264, 2720, 1123, 461, 4425, 1959, 2319, 771, 2026, 5417, 2140, 17597, 272, 12929, 321, 2820, 284, 1743, 2492, 264, 326, 261, 1465, 331, 83, 1615, 264, 935, 829, 9740, 695, 4828, 281, 2260, 2319, 272, 593, 321, 724, 1084, 2051, 264, 284, 22994, 264, 358, 394, 7996, 359, 847, 18439, 403, 261, 6486, 73, 288, 5902, 507, 6462, 272, 725, 259, 12325, 10998, 281, 261, 2932, 394, 5882, 284, 1470, 264, 890, 326, 3004, 2122, 261, 12300, 281, 261, 18439, 288, 1070, 11706, 286, 507, 9621, 272, 555, 787, 1346, 756, 405, 9631, 284, 261, 803, 281, 259, 23294, 264, 4336, 337, 389, 789, 290, 261, 2720, 1123, 272, 315]\n",
      "[]\n",
      "[301, 301, 5074, 301, 301, 315]\n",
      "[]\n",
      "[1366, 261, 1613, 5537, 261, 1518, 14686, 937, 261, 5518, 1443, 281, 2319, 264, 1212, 261, 10053, 281, 1300, 4460, 17075, 41, 272, 1648, 3990, 1781, 264, 844, 344, 19096, 306, 3788, 3691, 1350, 916, 265, 288, 24000, 363, 21386, 264, 261, 8054, 260, 3842, 264, 259, 1613, 2140, 3695, 1923, 284, 17734, 264, 382, 261, 3186, 281, 261, 6319, 264, 4177, 290, 6394, 1757, 281, 261, 1465, 288, 8842, 261, 6319, 290, 507, 1122, 5485, 264, 17867, 284, 259, 302, 15994, 281, 17660, 302, 272, 3643, 1002, 5995, 10036, 4137, 284, 1082, 24956, 1959, 1364, 281, 2319, 264, 930, 261, 760, 2556, 4828, 613, 3843, 264, 16367, 7838, 263, 264, 21021, 288, 299, 2979, 263, 264, 284, 261, 1279, 281, 2319, 272, 315]\n",
      "\n",
      "attention_mask\n",
      "[1, 1, 1, 1, 1, 1, 1, 1, 1, 1, 1, 1, 1, 1, 1, 1, 1, 1, 1, 1, 1, 1, 1, 1, 1, 1, 1, 1, 1, 1, 1, 1, 1, 1, 1, 1, 1, 1, 1, 1, 1, 1, 1, 1, 1, 1, 1, 1, 1, 1, 1, 1, 1, 1, 1, 1, 1, 1, 1, 1, 1, 1, 1, 1, 1, 1, 1, 1, 1, 1, 1, 1, 1, 1, 1, 1, 1, 1, 1, 1, 1, 1, 1, 1, 1, 1, 1, 1, 1, 1, 1, 1, 1, 1, 1, 1, 1, 1, 1, 1, 1, 1, 1, 1, 1, 1, 1, 1, 1, 1, 1, 1, 1, 1, 1, 1, 1, 1, 1, 1, 1, 1, 1, 1, 1, 1, 1, 1, 1, 1, 1, 1, 1, 1, 1, 1, 1]\n",
      "[]\n",
      "[1, 1, 1, 1, 1, 1]\n",
      "[]\n",
      "[1, 1, 1, 1, 1, 1, 1, 1, 1, 1, 1, 1, 1, 1, 1, 1, 1, 1, 1, 1, 1, 1, 1, 1, 1, 1, 1, 1, 1, 1, 1, 1, 1, 1, 1, 1, 1, 1, 1, 1, 1, 1, 1, 1, 1, 1, 1, 1, 1, 1, 1, 1, 1, 1, 1, 1, 1, 1, 1, 1, 1, 1, 1, 1, 1, 1, 1, 1, 1, 1, 1, 1, 1, 1, 1, 1, 1, 1, 1, 1, 1, 1, 1, 1, 1, 1, 1, 1, 1, 1, 1, 1, 1, 1, 1, 1, 1, 1, 1, 1, 1, 1, 1, 1, 1, 1, 1, 1, 1, 1, 1, 1, 1, 1, 1, 1, 1, 1, 1, 1, 1, 1, 1, 1]\n"
     ]
    }
   ],
   "execution_count": 17
  },
  {
   "cell_type": "markdown",
   "id": "9d527b5f9df024b1",
   "metadata": {},
   "source": [
    "### Diesen (trainierten!) Tokenizer können wir auch zur Wiederverwertung speichern:"
   ]
  },
  {
   "cell_type": "code",
   "id": "d0e5c11cb814806",
   "metadata": {
    "ExecuteTime": {
     "end_time": "2024-04-09T14:07:25.594616Z",
     "start_time": "2024-04-09T14:07:25.571983Z"
    }
   },
   "source": [
    "gpt_clone_tokenizer.save_pretrained(\"../data/gpt_clone_tokenizer\")"
   ],
   "outputs": [
    {
     "data": {
      "text/plain": [
       "('../data/gpt_clone_tokenizer\\\\tokenizer_config.json',\n",
       " '../data/gpt_clone_tokenizer\\\\special_tokens_map.json',\n",
       " '../data/gpt_clone_tokenizer\\\\vocab.json',\n",
       " '../data/gpt_clone_tokenizer\\\\merges.txt',\n",
       " '../data/gpt_clone_tokenizer\\\\added_tokens.json',\n",
       " '../data/gpt_clone_tokenizer\\\\tokenizer.json')"
      ]
     },
     "execution_count": 18,
     "metadata": {},
     "output_type": "execute_result"
    }
   ],
   "execution_count": 18
  },
  {
   "cell_type": "markdown",
   "id": "f976d524bd4699f5",
   "metadata": {},
   "source": [
    "## 2) Architektur eines Tokenizers selbst aufbauen\n",
    "### Beispiel: Byte Pair Encodings (wie für GPT-2)"
   ]
  },
  {
   "cell_type": "code",
   "id": "b8dc6d7507c64152",
   "metadata": {
    "ExecuteTime": {
     "end_time": "2024-04-09T14:07:27.877400Z",
     "start_time": "2024-04-09T14:07:27.861741Z"
    }
   },
   "source": [
    "# Benötigte Imports\n",
    "from tokenizers import decoders, models, normalizers, pre_tokenizers, processors, trainers, Tokenizer"
   ],
   "outputs": [],
   "execution_count": 19
  },
  {
   "cell_type": "markdown",
   "id": "a4e3b0db74be78",
   "metadata": {},
   "source": [
    "## Tokenizer-Pipeline\n",
    "\"Um zu verstehen, wie man einen Tokenizer von Grund auf erstellt, müssen wir ein wenig mehr in die Tokenizer-Bibliothek und die Tokenisierungs-Pipeline eintauchen. Diese Pipeline besteht aus mehreren Schritten:\n",
    "\n",
    "* **Normalisierung**: Führt alle anfänglichen Transformationen über die anfängliche Eingabezeichenkette aus. Wenn Sie z.B. einen Text klein schreiben, ihn vielleicht entfernen oder einen der üblichen Unicode-Normalisierungsprozesse anwenden wollen, fügen Sie einen Normalizer hinzu.\n",
    "* **Pre-Tokenizer**: Verantwortlich für die Aufteilung der ursprünglichen Eingabezeichenfolge. Das ist die Komponente, die entscheidet, wo und wie die ursprüngliche Zeichenkette vorsegmentiert wird. Das einfachste Beispiel wäre, einfach an Leerzeichen zu trennen.\n",
    "* **Modell**: Übernimmt die gesamte Erkennung und Generierung von Sub-Token. Dieser Teil kann trainiert werden und ist wirklich von den Eingabedaten abhängig.\n",
    "* **Post-Processing**: Bietet erweiterte Konstruktionsfunktionen, um mit einigen der Transformers-basierten SoTA-Modelle kompatibel zu sein. Für BERT wird der tokenisierte Satz beispielsweise um [CLS]- und [SEP]-Token \"verpackt\".\"\n",
    "\n",
    "Vgl. https://github.com/huggingface/notebooks/blob/main/examples/tokenizer_training.ipynb"
   ]
  },
  {
   "cell_type": "markdown",
   "id": "9ecb32439cddfcc5",
   "metadata": {},
   "source": [
    "### Ein BPE-Tokenizer benötigt einen Pre-Tokenizer (word based tokens)"
   ]
  },
  {
   "cell_type": "code",
   "id": "ab9eddb1389c7009",
   "metadata": {
    "ExecuteTime": {
     "end_time": "2024-04-09T14:07:31.437486Z",
     "start_time": "2024-04-09T14:07:31.421746Z"
    }
   },
   "source": [
    "# Basismodell ist ein BPE-Tokenizer\n",
    "tokenizer = Tokenizer(models.BPE())"
   ],
   "outputs": [],
   "execution_count": 20
  },
  {
   "cell_type": "code",
   "id": "49badaca-841a-4238-83ed-0b5dfa67aa94",
   "metadata": {
    "ExecuteTime": {
     "end_time": "2024-04-09T14:07:32.328260Z",
     "start_time": "2024-04-09T14:07:32.314985Z"
    }
   },
   "source": [
    "print (tokenizer.pre_tokenizer)\n",
    "tokenizer.pre_tokenizer = pre_tokenizers.ByteLevel(add_prefix_space=False)"
   ],
   "outputs": [
    {
     "name": "stdout",
     "output_type": "stream",
     "text": [
      "None\n"
     ]
    }
   ],
   "execution_count": 21
  },
  {
   "cell_type": "code",
   "id": "33d8cafd73ffce65",
   "metadata": {
    "ExecuteTime": {
     "end_time": "2024-04-09T14:07:33.529129Z",
     "start_time": "2024-04-09T14:07:33.513497Z"
    }
   },
   "source": [
    "# BPE Byte Level Pre-Tokenizer werden über huggingface zur Verfügung gestellt.\n",
    "tokenizer.pre_tokenizer.pre_tokenize_str(\"Tokenizer sind toll!\")\n",
    "# add_prefix_space=False verhindert, dass vor dem ersten Wort ebenfalls das Trennzeichen 'Ġ' erscheint. Alle weiteren Token werden mit diesem Zeichen eingeleitet.\n",
    "tokenizer.pre_tokenizer = pre_tokenizers.ByteLevel(add_prefix_space=False)\n"
   ],
   "outputs": [],
   "execution_count": 22
  },
  {
   "cell_type": "code",
   "id": "4c356680f7931dcb",
   "metadata": {
    "ExecuteTime": {
     "end_time": "2024-04-09T14:07:35.137421Z",
     "start_time": "2024-04-09T14:07:35.121411Z"
    }
   },
   "source": [
    "# Ergebnisse des Pre-Tokenizers anziegen\n",
    "tokenizer.pre_tokenizer.pre_tokenize_str(\"Tokenizer sind toll!\")"
   ],
   "outputs": [
    {
     "data": {
      "text/plain": [
       "[('Tokenizer', (0, 9)),\n",
       " ('Ġsind', (9, 14)),\n",
       " ('Ġtoll', (14, 19)),\n",
       " ('!', (19, 20))]"
      ]
     },
     "execution_count": 23,
     "metadata": {},
     "output_type": "execute_result"
    }
   ],
   "execution_count": 23
  },
  {
   "cell_type": "markdown",
   "id": "1955ef5c8c7880b6",
   "metadata": {},
   "source": [
    "### Unseren Tokenizer trainieren\n",
    "Der Tokenizer muss trainiert werden, denn er muss die Byte Pairs lernen."
   ]
  },
  {
   "cell_type": "code",
   "id": "3e633cafc47961af",
   "metadata": {
    "ExecuteTime": {
     "end_time": "2024-04-09T14:07:40.743815Z",
     "start_time": "2024-04-09T14:07:39.322667Z"
    }
   },
   "source": [
    "trainer = trainers.BpeTrainer(vocab_size=25000, special_tokens=[\"<|endoftext|>\"])\n",
    "tokenizer.train_from_iterator(batch_iterator(), trainer=trainer)"
   ],
   "outputs": [],
   "execution_count": 24
  },
  {
   "cell_type": "markdown",
   "id": "7d0f0743ffc15f17",
   "metadata": {},
   "source": [
    "### Post-Prozessing\n",
    "Der Tokenizer erhält noch ein Post-Prozessing.\n",
    "Der ByteLevel PostProcessor kümmert sich um das Trimming der Offsets. Whitespaces können optional ebenfalls getrimmt werden.\n"
   ]
  },
  {
   "cell_type": "code",
   "id": "b81bd71fc8547dcf",
   "metadata": {
    "ExecuteTime": {
     "end_time": "2024-04-09T14:07:41.984439Z",
     "start_time": "2024-04-09T14:07:41.968425Z"
    }
   },
   "source": [
    "tokenizer.post_processor = processors.ByteLevel(trim_offsets=False)\n",
    "tokenizer.decoder = decoders.ByteLevel()"
   ],
   "outputs": [],
   "execution_count": 25
  },
  {
   "cell_type": "markdown",
   "id": "131aec6071353bf1",
   "metadata": {},
   "source": [
    "### Tokenizer für Huggingface Framework \"verpacken\"\n",
    "HuggingFace stellt Wrapper zur Verfügung, die sicherstellen, dass die Tokenizer zu den APIs der Modelle passen.\n",
    "\n",
    "Hier verwenden wir einen GPT2TokenizerFast.\n"
   ]
  },
  {
   "cell_type": "code",
   "id": "7ecbef6e26ed32a7",
   "metadata": {
    "ExecuteTime": {
     "end_time": "2024-04-09T14:07:44.368799Z",
     "start_time": "2024-04-09T14:07:44.321991Z"
    }
   },
   "source": [
    "from transformers import GPT2TokenizerFast\n",
    "\n",
    "custom_gpt_tokenizer = GPT2TokenizerFast(tokenizer_object=tokenizer)"
   ],
   "outputs": [],
   "execution_count": 26
  },
  {
   "cell_type": "markdown",
   "id": "3486153449ec111c",
   "metadata": {},
   "source": [
    "### Neuen Tokenizer anwenden"
   ]
  },
  {
   "cell_type": "code",
   "id": "4daffd63fef1e8f0",
   "metadata": {
    "ExecuteTime": {
     "end_time": "2024-04-09T14:07:47.359235Z",
     "start_time": "2024-04-09T14:07:47.353229Z"
    }
   },
   "source": [
    "outp(custom_gpt_tokenizer(dataset[30000:30005][\"text\"]))"
   ],
   "outputs": [
    {
     "name": "stdout",
     "output_type": "stream",
     "text": [
      "\n",
      "input_ids\n",
      "[763, 17874, 473, 353, 1235, 13146, 5699, 258, 196, 2077, 23231, 1617, 307, 12866, 19831, 221, 22931, 209, 1585, 198, 1550, 5474, 587, 457, 2258, 544, 201, 2657, 1060, 398, 4362, 1896, 2256, 708, 1963, 5354, 2077, 17534, 209, 12866, 258, 2757, 221, 1680, 2429, 201, 263, 198, 1402, 268, 83, 1552, 201, 872, 766, 9677, 632, 4765, 218, 2197, 2256, 209, 530, 258, 661, 1021, 1988, 201, 221, 22931, 201, 295, 331, 7933, 296, 784, 18376, 340, 198, 6423, 73, 225, 5839, 444, 6399, 209, 662, 196, 12262, 10935, 218, 198, 2869, 331, 5819, 221, 1407, 201, 827, 263, 2941, 2059, 198, 12237, 218, 198, 18376, 225, 1007, 11643, 223, 444, 9558, 209, 492, 724, 1283, 693, 342, 9568, 221, 198, 740, 218, 196, 23231, 201, 4273, 274, 326, 726, 227, 198, 2657, 1060, 209, 252]\n",
      "[]\n",
      "[238, 238, 5011, 238, 238, 252]\n",
      "[]\n",
      "[1303, 198, 1550, 5474, 198, 1455, 14623, 874, 198, 5455, 1380, 218, 2256, 201, 1149, 198, 9990, 218, 1237, 4397, 17012, 41, 209, 1585, 3927, 1718, 201, 781, 281, 19033, 243, 3725, 3628, 1287, 853, 202, 225, 23937, 300, 21323, 201, 198, 7991, 197, 3779, 201, 196, 1550, 2077, 3632, 1860, 221, 17671, 201, 319, 198, 3123, 218, 198, 6256, 201, 4114, 227, 6331, 1694, 218, 198, 1402, 225, 8779, 198, 6256, 227, 444, 1059, 5422, 201, 17804, 221, 196, 239, 15931, 218, 17597, 239, 209, 3580, 939, 5932, 9973, 4074, 221, 1019, 24893, 1896, 1301, 218, 2256, 201, 867, 198, 697, 2493, 4765, 550, 3780, 201, 16304, 7775, 200, 201, 20958, 225, 236, 2916, 200, 201, 221, 198, 1216, 218, 2256, 209, 252]\n",
      "\n",
      "attention_mask\n",
      "[1, 1, 1, 1, 1, 1, 1, 1, 1, 1, 1, 1, 1, 1, 1, 1, 1, 1, 1, 1, 1, 1, 1, 1, 1, 1, 1, 1, 1, 1, 1, 1, 1, 1, 1, 1, 1, 1, 1, 1, 1, 1, 1, 1, 1, 1, 1, 1, 1, 1, 1, 1, 1, 1, 1, 1, 1, 1, 1, 1, 1, 1, 1, 1, 1, 1, 1, 1, 1, 1, 1, 1, 1, 1, 1, 1, 1, 1, 1, 1, 1, 1, 1, 1, 1, 1, 1, 1, 1, 1, 1, 1, 1, 1, 1, 1, 1, 1, 1, 1, 1, 1, 1, 1, 1, 1, 1, 1, 1, 1, 1, 1, 1, 1, 1, 1, 1, 1, 1, 1, 1, 1, 1, 1, 1, 1, 1, 1, 1, 1, 1, 1, 1, 1, 1, 1, 1]\n",
      "[]\n",
      "[1, 1, 1, 1, 1, 1]\n",
      "[]\n",
      "[1, 1, 1, 1, 1, 1, 1, 1, 1, 1, 1, 1, 1, 1, 1, 1, 1, 1, 1, 1, 1, 1, 1, 1, 1, 1, 1, 1, 1, 1, 1, 1, 1, 1, 1, 1, 1, 1, 1, 1, 1, 1, 1, 1, 1, 1, 1, 1, 1, 1, 1, 1, 1, 1, 1, 1, 1, 1, 1, 1, 1, 1, 1, 1, 1, 1, 1, 1, 1, 1, 1, 1, 1, 1, 1, 1, 1, 1, 1, 1, 1, 1, 1, 1, 1, 1, 1, 1, 1, 1, 1, 1, 1, 1, 1, 1, 1, 1, 1, 1, 1, 1, 1, 1, 1, 1, 1, 1, 1, 1, 1, 1, 1, 1, 1, 1, 1, 1, 1, 1, 1, 1, 1, 1]\n"
     ]
    }
   ],
   "execution_count": 27
  },
  {
   "cell_type": "code",
   "id": "5445ac8caa86c331",
   "metadata": {},
   "source": [],
   "outputs": [],
   "execution_count": null
  }
 ],
 "metadata": {
  "kernelspec": {
   "display_name": "Python 3 (ipykernel)",
   "language": "python",
   "name": "python3"
  },
  "language_info": {
   "codemirror_mode": {
    "name": "ipython",
    "version": 3
   },
   "file_extension": ".py",
   "mimetype": "text/x-python",
   "name": "python",
   "nbconvert_exporter": "python",
   "pygments_lexer": "ipython3",
   "version": "3.10.8"
  }
 },
 "nbformat": 4,
 "nbformat_minor": 5
}
