{
 "cells": [
  {
   "cell_type": "markdown",
   "id": "c22a07f250d6802d",
   "metadata": {},
   "source": [
    "# Links\n",
    "\n",
    "### Embeddings\n",
    "- https://levelup.gitconnected.com/vector-embeddings-explained-for-developers-6bd9800d3635\n",
    "- https://drlee.io/you-cant-understand-chatgpt-if-you-don-t-understand-word2vec-step-by-step-code-with-intuitions-dd47ebb596e4\n",
    "- https://medium.com/deeper-learning/glossary-of-deep-learning-word-embedding-f90c3cec34ca\n",
    "\n",
    "### RNN\n",
    "- https://d2l.ai/chapter_recurrent-neural-networks/index.html\n",
    "\n",
    "### Von RNN zu Transformer\n",
    "- https://d2l.ai/chapter_attention-mechanisms-and-transformers/index.html\n",
    "- https://luxananda.medium.com/decoding-llm-transformer-architecture-part-1-152b20d18452\n",
    "- https://luxananda.medium.com/decoding-llm-transformer-architecture-part-2-143edc8282fe\n",
    "- https://d2l.ai/chapter_attention-mechanisms-and-transformers/index.html\n",
    "\n",
    "### Attention\n",
    "- https://towardsdatascience.com/attention-from-alignment-practically-explained-548ef6588aa4\n",
    "- https://colab.research.google.com/github/tensorflow/tensor2tensor/blob/master/tensor2tensor/notebooks/hello_t2t.ipynb#scrollTo=OJKU36QAfqOC\n",
    "- https://en.wikipedia.org/wiki/Attention_(machine_learning)\n",
    "\n",
    "### Transformer Architecture\n",
    "- https://jalammar.github.io/illustrated-transformer/\n",
    "- https://towardsdatascience.com/transformers-intuitively-and-exhaustively-explained-58a5c5df8dbb\n",
    "- https://gathnex.medium.com/attention-mechanism-math-illustration-transformers-series-part-1-37c24ac9d2f2\n",
    "- https://d2l.ai/chapter_attention-mechanisms-and-transformers/transformer.html\n",
    "- https://d2l.ai/chapter_attention-mechanisms-and-transformers/queries-keys-values.html\n",
    "\n",
    "### Pretrained architectures\n",
    "- https://d2l.ai/chapter_attention-mechanisms-and-transformers/large-pretraining-transformers.html\n",
    "\n",
    "### huggingface Notebooks\n",
    "- https://github.com/huggingface/notebooks\n",
    "\n",
    "### Training mit GPU\n",
    "- https://pytorch.org/get-started/locally/\n",
    "- https://developer.nvidia.com/cuda-zone\n",
    "\n",
    "## Anaconda (miniconda) Environments managen\n",
    "- https://docs.conda.io/projects/conda/en/latest/user-guide/tasks/manage-environments.html"
   ]
  },
  {
   "cell_type": "code",
   "execution_count": null,
   "id": "c319b23204ddee9",
   "metadata": {},
   "outputs": [],
   "source": []
  }
 ],
 "metadata": {
  "kernelspec": {
   "display_name": "Python 3 (ipykernel)",
   "language": "python",
   "name": "python3"
  },
  "language_info": {
   "codemirror_mode": {
    "name": "ipython",
    "version": 3
   },
   "file_extension": ".py",
   "mimetype": "text/x-python",
   "name": "python",
   "nbconvert_exporter": "python",
   "pygments_lexer": "ipython3",
   "version": "3.10.14"
  }
 },
 "nbformat": 4,
 "nbformat_minor": 5
}
