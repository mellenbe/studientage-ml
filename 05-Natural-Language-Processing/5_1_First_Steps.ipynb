{
 "cells": [
  {
   "metadata": {},
   "cell_type": "markdown",
   "source": [
    "# Erste Schritte mit Hugging Face\n",
    "<br>\n",
    "<a href=\"https://huggingface.co\"><img src=\"../img/huggingface_small.png\" width=\"70%\">\n",
    "<br>https://huggingface.co</a>\n",
    "<br>\n",
    "\n"
   ],
   "id": "a2100fb7e8730c1f"
  },
  {
   "metadata": {},
   "cell_type": "markdown",
   "source": [
    "# Textklassifikation (Text Classification)\n",
    "\n",
    "Sprachmodelle sind in der Lage, Texte zu **klassifizieren**.\n",
    "\n",
    "Das bedeutet, dass das Ergebnis der Verarbeitung eines Textes die Aussage wie wahrscheinlich es ist, dass ein Text _positiv_ oder _negativ_ konnotiert ist. Diese Ausgabe ist also eine prozentuale Klassenzugehörigkeit zu den Klassen \"POSITIVE\" oder \"NEGATIVE\".\n",
    "\n",
    "\n",
    "---\n",
    "Beispiele angelehnt an\n",
    "\n",
    "Tunstall, Lewis; Werra, Leandro von; Wolf, Thomas (2023): Natural Language Processing mit Transformern. Sprachanwendungen mit Hugging Face erstellen. Heidelberg: O'Reilly (Animals). Online verfügbar unter https://nbn-resolving.org/urn:nbn:de:bsz:31-epflicht-2107005.     \n"
   ],
   "id": "5b012cf997fc198d"
  },
  {
   "metadata": {
    "ExecuteTime": {
     "end_time": "2024-04-08T23:13:30.132913Z",
     "start_time": "2024-04-08T23:13:30.120785Z"
    }
   },
   "cell_type": "code",
   "source": [
    "text = \"\"\"Dear Amazon, last week I ordered an Optimus Prime ac- tion figure from your online store in Germany. Unfortunately, when I opened the package, I discovered to my horror that I had been sent an action figure of Megatron instead! As a lifelong enemy of the Decepticons, I hope you can understand my dilemma. To resolve the issue, I demand an exchange of Megatron for the Optimus Prime figure I ordered. Enclosed are copies of my records concerning this purchase. I expect to hear from you soon. Sincerely, Bumblebee.\"\"\" \n",
    "# vgl. Tunstall et al. 2023, S. 10"
   ],
   "id": "6d73ca22d6d9247d",
   "outputs": [],
   "execution_count": 1
  },
  {
   "metadata": {
    "ExecuteTime": {
     "end_time": "2024-04-08T23:13:32.684169Z",
     "start_time": "2024-04-08T23:13:30.134913Z"
    }
   },
   "cell_type": "code",
   "source": [
    "from transformers import pipeline\n",
    "classifier = pipeline(\"text-classification\", model=\"distilbert-base-uncased-finetuned-sst-2-english\")\n"
   ],
   "id": "b3e4942d7b182daa",
   "outputs": [],
   "execution_count": 2
  },
  {
   "metadata": {
    "ExecuteTime": {
     "end_time": "2024-04-08T23:13:33.310585Z",
     "start_time": "2024-04-08T23:13:32.686181Z"
    }
   },
   "cell_type": "code",
   "source": [
    "import pandas as pd\n",
    "outputs = classifier(text) \n",
    "pd.DataFrame(outputs)"
   ],
   "id": "14ef9d1c5ef81073",
   "outputs": [
    {
     "data": {
      "text/plain": [
       "      label    score\n",
       "0  NEGATIVE  0.87243"
      ],
      "text/html": [
       "<div>\n",
       "<style scoped>\n",
       "    .dataframe tbody tr th:only-of-type {\n",
       "        vertical-align: middle;\n",
       "    }\n",
       "\n",
       "    .dataframe tbody tr th {\n",
       "        vertical-align: top;\n",
       "    }\n",
       "\n",
       "    .dataframe thead th {\n",
       "        text-align: right;\n",
       "    }\n",
       "</style>\n",
       "<table border=\"1\" class=\"dataframe\">\n",
       "  <thead>\n",
       "    <tr style=\"text-align: right;\">\n",
       "      <th></th>\n",
       "      <th>label</th>\n",
       "      <th>score</th>\n",
       "    </tr>\n",
       "  </thead>\n",
       "  <tbody>\n",
       "    <tr>\n",
       "      <th>0</th>\n",
       "      <td>NEGATIVE</td>\n",
       "      <td>0.87243</td>\n",
       "    </tr>\n",
       "  </tbody>\n",
       "</table>\n",
       "</div>"
      ]
     },
     "execution_count": 3,
     "metadata": {},
     "output_type": "execute_result"
    }
   ],
   "execution_count": 3
  },
  {
   "metadata": {},
   "cell_type": "markdown",
   "source": [
    "# Erkennung von Namens-Entitäten (Named Entity Recognition)\n",
    "\n",
    "Sprachmodelle sind in der Lage, Produkte, Orte oder Eigennamen aus Texten zu extrahieren. Diese werden als \"Named Entity\" bezeichnet."
   ],
   "id": "ff4036639521e524"
  },
  {
   "metadata": {
    "ExecuteTime": {
     "end_time": "2024-04-08T23:13:34.738597Z",
     "start_time": "2024-04-08T23:13:33.311567Z"
    }
   },
   "cell_type": "code",
   "source": [
    "ner_tagger = pipeline(\"ner\", aggregation_strategy=\"simple\", model=\"dbmdz/bert-large-cased-finetuned-conll03-english\")\n",
    "outputs = ner_tagger(text)\n",
    "pd.DataFrame(outputs)"
   ],
   "id": "9a04f1ac1ddda1b",
   "outputs": [
    {
     "name": "stderr",
     "output_type": "stream",
     "text": [
      "Some weights of the model checkpoint at dbmdz/bert-large-cased-finetuned-conll03-english were not used when initializing BertForTokenClassification: ['bert.pooler.dense.bias', 'bert.pooler.dense.weight']\n",
      "- This IS expected if you are initializing BertForTokenClassification from the checkpoint of a model trained on another task or with another architecture (e.g. initializing a BertForSequenceClassification model from a BertForPreTraining model).\n",
      "- This IS NOT expected if you are initializing BertForTokenClassification from the checkpoint of a model that you expect to be exactly identical (initializing a BertForSequenceClassification model from a BertForSequenceClassification model).\n"
     ]
    },
    {
     "data": {
      "text/plain": [
       "  entity_group     score           word  start  end\n",
       "0          ORG  0.855356         Amazon      5   11\n",
       "1         MISC  0.992322  Optimus Prime     36   49\n",
       "2          LOC  0.999735        Germany     92   99\n",
       "3         MISC  0.606781           Mega    210  214\n",
       "4          PER  0.524000         ##tron    214  218\n",
       "5          ORG  0.630277         Decept    255  261\n",
       "6         MISC  0.506672        ##icons    261  266\n",
       "7         MISC  0.772444       Megatron    352  360\n",
       "8         MISC  0.988840  Optimus Prime    369  382\n",
       "9          PER  0.814836      Bumblebee    504  513"
      ],
      "text/html": [
       "<div>\n",
       "<style scoped>\n",
       "    .dataframe tbody tr th:only-of-type {\n",
       "        vertical-align: middle;\n",
       "    }\n",
       "\n",
       "    .dataframe tbody tr th {\n",
       "        vertical-align: top;\n",
       "    }\n",
       "\n",
       "    .dataframe thead th {\n",
       "        text-align: right;\n",
       "    }\n",
       "</style>\n",
       "<table border=\"1\" class=\"dataframe\">\n",
       "  <thead>\n",
       "    <tr style=\"text-align: right;\">\n",
       "      <th></th>\n",
       "      <th>entity_group</th>\n",
       "      <th>score</th>\n",
       "      <th>word</th>\n",
       "      <th>start</th>\n",
       "      <th>end</th>\n",
       "    </tr>\n",
       "  </thead>\n",
       "  <tbody>\n",
       "    <tr>\n",
       "      <th>0</th>\n",
       "      <td>ORG</td>\n",
       "      <td>0.855356</td>\n",
       "      <td>Amazon</td>\n",
       "      <td>5</td>\n",
       "      <td>11</td>\n",
       "    </tr>\n",
       "    <tr>\n",
       "      <th>1</th>\n",
       "      <td>MISC</td>\n",
       "      <td>0.992322</td>\n",
       "      <td>Optimus Prime</td>\n",
       "      <td>36</td>\n",
       "      <td>49</td>\n",
       "    </tr>\n",
       "    <tr>\n",
       "      <th>2</th>\n",
       "      <td>LOC</td>\n",
       "      <td>0.999735</td>\n",
       "      <td>Germany</td>\n",
       "      <td>92</td>\n",
       "      <td>99</td>\n",
       "    </tr>\n",
       "    <tr>\n",
       "      <th>3</th>\n",
       "      <td>MISC</td>\n",
       "      <td>0.606781</td>\n",
       "      <td>Mega</td>\n",
       "      <td>210</td>\n",
       "      <td>214</td>\n",
       "    </tr>\n",
       "    <tr>\n",
       "      <th>4</th>\n",
       "      <td>PER</td>\n",
       "      <td>0.524000</td>\n",
       "      <td>##tron</td>\n",
       "      <td>214</td>\n",
       "      <td>218</td>\n",
       "    </tr>\n",
       "    <tr>\n",
       "      <th>5</th>\n",
       "      <td>ORG</td>\n",
       "      <td>0.630277</td>\n",
       "      <td>Decept</td>\n",
       "      <td>255</td>\n",
       "      <td>261</td>\n",
       "    </tr>\n",
       "    <tr>\n",
       "      <th>6</th>\n",
       "      <td>MISC</td>\n",
       "      <td>0.506672</td>\n",
       "      <td>##icons</td>\n",
       "      <td>261</td>\n",
       "      <td>266</td>\n",
       "    </tr>\n",
       "    <tr>\n",
       "      <th>7</th>\n",
       "      <td>MISC</td>\n",
       "      <td>0.772444</td>\n",
       "      <td>Megatron</td>\n",
       "      <td>352</td>\n",
       "      <td>360</td>\n",
       "    </tr>\n",
       "    <tr>\n",
       "      <th>8</th>\n",
       "      <td>MISC</td>\n",
       "      <td>0.988840</td>\n",
       "      <td>Optimus Prime</td>\n",
       "      <td>369</td>\n",
       "      <td>382</td>\n",
       "    </tr>\n",
       "    <tr>\n",
       "      <th>9</th>\n",
       "      <td>PER</td>\n",
       "      <td>0.814836</td>\n",
       "      <td>Bumblebee</td>\n",
       "      <td>504</td>\n",
       "      <td>513</td>\n",
       "    </tr>\n",
       "  </tbody>\n",
       "</table>\n",
       "</div>"
      ]
     },
     "execution_count": 4,
     "metadata": {},
     "output_type": "execute_result"
    }
   ],
   "execution_count": 4
  },
  {
   "metadata": {},
   "cell_type": "markdown",
   "source": [
    "Auch hier ist das Ergebnis eine statistische Zuordnung von Wörtern zu Kategorien mit der Angabe von Wahrscheinlichkeiten, die die so genannte \"confidence\" des Modells angeben. Dies ist die \"Sicherheit\" mit der das Modell die Zuordnung einschätzt. Kategorien sind z.B. \"Organisation (ORG)\", \"Location (LOC)\" oder \"Person (PER)\".\n",
    "\n",
    "Zusätzlich gibt das Modell einen Bereich an, in dem es das Wort (oder die Wortgruppe) gefunden hat.\n",
    "\n",
    "In der Ausgabe können sich auch noch Tokens (mit ## gekennzeichnet) befinden, wenn kein ganzes Wort oder eine Wortgruppe einer Kategorie zugeordnet werden konnte. Interessant ist hier, dass letztlich das \"Plural-Token\" separat behandelt wurde (##ns stammt aus dem Wort \"Decepticons\")."
   ],
   "id": "cf1ead8c672db5cd"
  },
  {
   "metadata": {},
   "cell_type": "markdown",
   "source": [
    "# Beantwortung von Fragen (Question Answering)\n",
    "\n",
    "Sprachmodelle können Fragen beantworten. Dies setzt natürlich voraus, dass das Modell einen Kontext kennt zu dem Fragen beantwortet werden sollen.\n",
    "Hier wollen wir eine Frage zum obigen Text beantworten, der dem Modell bereits bekannt ist. Wir wollen folgende Frage stellen:\n",
    "\n",
    "**What does the customer want?**"
   ],
   "id": "3d0d83b301e2e101"
  },
  {
   "metadata": {
    "ExecuteTime": {
     "end_time": "2024-04-08T23:13:35.806480Z",
     "start_time": "2024-04-08T23:13:34.740663Z"
    }
   },
   "cell_type": "code",
   "source": [
    "reader = pipeline(\"question-answering\", model=\"distilbert/distilbert-base-cased-distilled-squad\")\n",
    "question = \"What does the customer want?\"\n",
    "outputs = reader(question=question, context=text)\n",
    "pd.DataFrame([outputs])"
   ],
   "id": "96900bd57d9e70a8",
   "outputs": [
    {
     "data": {
      "text/plain": [
       "      score  start  end                   answer\n",
       "0  0.533085    337  360  an exchange of Megatron"
      ],
      "text/html": [
       "<div>\n",
       "<style scoped>\n",
       "    .dataframe tbody tr th:only-of-type {\n",
       "        vertical-align: middle;\n",
       "    }\n",
       "\n",
       "    .dataframe tbody tr th {\n",
       "        vertical-align: top;\n",
       "    }\n",
       "\n",
       "    .dataframe thead th {\n",
       "        text-align: right;\n",
       "    }\n",
       "</style>\n",
       "<table border=\"1\" class=\"dataframe\">\n",
       "  <thead>\n",
       "    <tr style=\"text-align: right;\">\n",
       "      <th></th>\n",
       "      <th>score</th>\n",
       "      <th>start</th>\n",
       "      <th>end</th>\n",
       "      <th>answer</th>\n",
       "    </tr>\n",
       "  </thead>\n",
       "  <tbody>\n",
       "    <tr>\n",
       "      <th>0</th>\n",
       "      <td>0.533085</td>\n",
       "      <td>337</td>\n",
       "      <td>360</td>\n",
       "      <td>an exchange of Megatron</td>\n",
       "    </tr>\n",
       "  </tbody>\n",
       "</table>\n",
       "</div>"
      ]
     },
     "execution_count": 5,
     "metadata": {},
     "output_type": "execute_result"
    }
   ],
   "execution_count": 5
  },
  {
   "metadata": {},
   "cell_type": "markdown",
   "source": [
    "Auch hier wird zusätzlich zur Antwort ein Score ausgegeben, der die confidence des Modells angibt.\n",
    "<blockquote>Beachten Sie: \n",
    "\n",
    "Es handelt sich hier nicht um einen generativen Ansatz, sondern letztlich auch um eine Text-Klassifizierung. Das Ergebnis des Modells ist eine Textstelle, in der das Modell die Antwort vermutet. Es handelt sich bei diesem Ansatz um so genanntes **\"Extractive Question Answering\"**. Hierfür gibt das Modell die Spann mit \"start\" und \"end\" aus, in dem es die Antwort vermutet.</blockquote>\n"
   ],
   "id": "ee3cd6d076c3d9c2"
  },
  {
   "metadata": {},
   "cell_type": "markdown",
   "source": [
    "# Textzusammenfassung (Summarization)\n",
    "\n",
    "Sprachmodelle sind in der Lage, Texte zusammenzufassen. Hierfür gibt es verschiedene methodische Ansätze. Zunäschst wollen wir nur ein einführendes Beispiel betrachten."
   ],
   "id": "89592d55b0578fb1"
  },
  {
   "metadata": {
    "ExecuteTime": {
     "end_time": "2024-04-08T23:13:41.912954Z",
     "start_time": "2024-04-08T23:13:35.808479Z"
    }
   },
   "cell_type": "code",
   "source": [
    "summarizer = pipeline(\"summarization\", model=\"facebook/bart-large-cnn\")\n",
    "summary = summarizer(text, max_length=150, min_length=40, do_sample=False)"
   ],
   "id": "102013e9d971bfc7",
   "outputs": [
    {
     "name": "stderr",
     "output_type": "stream",
     "text": [
      "Your max_length is set to 150, but your input_length is only 113. Since this is a summarization task, where outputs shorter than the input are typically wanted, you might consider decreasing max_length manually, e.g. summarizer('...', max_length=56)\n"
     ]
    }
   ],
   "execution_count": 6
  },
  {
   "metadata": {
    "ExecuteTime": {
     "end_time": "2024-04-08T23:13:41.928614Z",
     "start_time": "2024-04-08T23:13:41.913951Z"
    }
   },
   "cell_type": "code",
   "source": "summary[0]['summary_text']",
   "id": "145b5691f076efe7",
   "outputs": [
    {
     "data": {
      "text/plain": [
       "'Bumblebee ordered an Optimus Prime figure from your online store in Germany. Unfortunately, when I opened the package, I discovered to my horror that I had been sent an action figure of Megatron instead. As a lifelong enemy of the Decepticons, I hope you can understand my dilemma.'"
      ]
     },
     "execution_count": 7,
     "metadata": {},
     "output_type": "execute_result"
    }
   ],
   "execution_count": 7
  },
  {
   "metadata": {},
   "cell_type": "markdown",
   "source": [
    "Auffällig sind am Ergebnis zwei Punkte:\n",
    "- Das Modell hat erkannt, dass der Autor \"Bumblebee\" ist.\n",
    "- Ansonsten sind im Ergebnis letztlich Textbestandteile zusammenkopiert.\n",
    "- Der eigentliche Wunsch auf \"Austausch\" der Figur wurde nicht in der Zusammenfassung erwähnt.\n",
    "\n",
    "Weiterführende Anleitung bei Keras: https://keras.io/examples/nlp/t5_hf_summarization/"
   ],
   "id": "26a1608c5eb0d84f"
  },
  {
   "metadata": {},
   "cell_type": "markdown",
   "source": [
    "# Übersetzen\n",
    "[Credits to: https://huggingface.co/docs/transformers/task_summary]"
   ],
   "id": "3164a956c7a44840"
  },
  {
   "metadata": {
    "ExecuteTime": {
     "end_time": "2024-04-08T23:31:27.326893Z",
     "start_time": "2024-04-08T23:31:24.597439Z"
    }
   },
   "cell_type": "code",
   "source": [
    "from transformers import pipeline\n",
    "\n",
    "text = \"translate English to French: Hugging Face is a community-based open-source platform for machine learning.\"\n",
    "translator = pipeline(task=\"translation\", model=\"google-t5/t5-small\", max_length=400)\n"
   ],
   "id": "c0320886b608c99b",
   "outputs": [
    {
     "name": "stderr",
     "output_type": "stream",
     "text": [
      "C:\\Users\\thomase\\miniconda3\\envs\\studientage-pytorch\\lib\\site-packages\\transformers\\pipelines\\__init__.py:1086: UserWarning: \"translation\" task was used, instead of \"translation_XX_to_YY\", defaulting to \"translation_en_to_de\"\n",
      "  warnings.warn(\n"
     ]
    }
   ],
   "execution_count": 1
  },
  {
   "metadata": {
    "ExecuteTime": {
     "end_time": "2024-04-08T23:31:29.964921Z",
     "start_time": "2024-04-08T23:31:29.067677Z"
    }
   },
   "cell_type": "code",
   "source": "translator(text)",
   "id": "426f53c6c489f4c9",
   "outputs": [
    {
     "data": {
      "text/plain": [
       "[{'translation_text': \"Hugging Face est une tribune communautaire de l'apprentissage des machines.\"}]"
      ]
     },
     "execution_count": 2,
     "metadata": {},
     "output_type": "execute_result"
    }
   ],
   "execution_count": 2
  },
  {
   "metadata": {},
   "cell_type": "markdown",
   "source": "# Text-Generierung",
   "id": "5accfb3ae6d05532"
  },
  {
   "metadata": {
    "ExecuteTime": {
     "end_time": "2024-04-08T23:31:33.692928Z",
     "start_time": "2024-04-08T23:31:31.855272Z"
    }
   },
   "cell_type": "code",
   "source": [
    "from transformers import pipeline\n",
    "\n",
    "prompt = \"What is machine learning?\"\n",
    "generator = pipeline(task=\"text-generation\", model=\"openai-community/gpt2\")\n",
    "result = generator(prompt)  # doctest: +SKIP"
   ],
   "id": "2ac3651712fbdd72",
   "outputs": [
    {
     "name": "stderr",
     "output_type": "stream",
     "text": [
      "Setting `pad_token_id` to `eos_token_id`:50256 for open-end generation.\n"
     ]
    }
   ],
   "execution_count": 3
  },
  {
   "metadata": {
    "ExecuteTime": {
     "end_time": "2024-04-08T23:31:33.913038Z",
     "start_time": "2024-04-08T23:31:33.901604Z"
    }
   },
   "cell_type": "code",
   "source": "result[0]['generated_text']",
   "id": "6c4110d3a1dfa623",
   "outputs": [
    {
     "data": {
      "text/plain": [
       "\"What is machine learning?\\n\\nMachine learning is a way of generating a complete picture of the data. A large portion of information that you need about every customer is information that could possibly be useful to other users by analyzing their activity. That's why\""
      ]
     },
     "execution_count": 4,
     "metadata": {},
     "output_type": "execute_result"
    }
   ],
   "execution_count": 4
  },
  {
   "metadata": {},
   "cell_type": "markdown",
   "source": [
    "# Fazit\n",
    "\n",
    "Wir konnten sehen, dass bereits mit dem direkten Einsatz vortrainierter Modell größtenteils brauchbare Ergebnisse erzielt werden können.\n",
    "Um nun tatsächlich gute Ergebnisse zu erzielen werden wir tiefer eintauchen.  "
   ],
   "id": "1d83d5a978adcdb6"
  },
  {
   "metadata": {
    "ExecuteTime": {
     "end_time": "2024-04-08T23:13:44.590492Z",
     "start_time": "2024-04-08T23:13:44.575494Z"
    }
   },
   "cell_type": "code",
   "source": "",
   "id": "d6375b23cd382774",
   "outputs": [],
   "execution_count": 11
  }
 ],
 "metadata": {
  "kernelspec": {
   "display_name": "Python 3",
   "language": "python",
   "name": "python3"
  },
  "language_info": {
   "codemirror_mode": {
    "name": "ipython",
    "version": 2
   },
   "file_extension": ".py",
   "mimetype": "text/x-python",
   "name": "python",
   "nbconvert_exporter": "python",
   "pygments_lexer": "ipython2",
   "version": "2.7.6"
  }
 },
 "nbformat": 4,
 "nbformat_minor": 5
}
