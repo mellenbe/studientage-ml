{
 "cells": [
  {
   "cell_type": "markdown",
   "id": "2b5cea71a3770e00",
   "metadata": {
    "collapsed": false,
    "jupyter": {
     "outputs_hidden": false
    }
   },
   "source": [
    "# Maschinelles Lernen\n",
    "\n",
    "Nun kommen wir (endlich) zum eigentlichen Machine Learning"
   ]
  },
  {
   "cell_type": "code",
   "id": "e87e228721ba72c2",
   "metadata": {
    "collapsed": false,
    "jupyter": {
     "outputs_hidden": false
    },
    "ExecuteTime": {
     "end_time": "2024-09-19T13:49:01.042538Z",
     "start_time": "2024-09-19T13:49:01.010561Z"
    }
   },
   "source": [
    "#import some necessary librairies\n",
    "\n",
    "import numpy as np # linear algebra\n",
    "import pandas as pd # data processing, CSV file I/O (e.g. pd.read_csv)\n",
    "%matplotlib inline\n",
    "import matplotlib.pyplot as plt  # Matlab-style plotting\n",
    "import seaborn as sns\n",
    "color = sns.color_palette()\n",
    "sns.set_style('darkgrid')\n",
    "import warnings\n",
    "def ignore_warn(*args, **kwargs):\n",
    "    pass\n",
    "warnings.warn = ignore_warn #ignore annoying warning (from sklearn and seaborn)\n",
    "warnings.warn_explicit = ignore_warn\n",
    "\n",
    "import pickle\n",
    "from scipy import stats\n",
    "from scipy.stats import norm, skew #for some statistics\n",
    "\n",
    "pd.set_option('display.float_format', lambda x: '{:.3f}'.format(x)) #Limiting floats output to 3 decimal points\n",
    "\n"
   ],
   "outputs": [],
   "execution_count": 1
  },
  {
   "cell_type": "markdown",
   "id": "ae33a41f465d866f",
   "metadata": {
    "collapsed": false,
    "jupyter": {
     "outputs_hidden": false
    }
   },
   "source": [
    "# Daten aus dem vorigen Schritt laden\n"
   ]
  },
  {
   "cell_type": "code",
   "id": "fe73b86950116b2d",
   "metadata": {
    "collapsed": false,
    "jupyter": {
     "outputs_hidden": false
    },
    "ExecuteTime": {
     "end_time": "2024-09-19T13:49:01.074533Z",
     "start_time": "2024-09-19T13:49:01.042538Z"
    }
   },
   "source": [
    "with open('../data/house-prices-advanced-regression-techniques/x_preprocessed_train.pkl', 'rb') as handle:\n",
    "    X_preprocessed_train = pickle.load(handle)\n",
    "\n",
    "with open('../data/house-prices-advanced-regression-techniques/y_train.pkl', 'rb') as handle:\n",
    "    y_preprocessed_train = pickle.load(handle)\n",
    "    \n",
    "with open('../data/house-prices-advanced-regression-techniques/x_test.pkl', 'rb') as handle:\n",
    "    X_preprocessed_test = pickle.load(handle)\n"
   ],
   "outputs": [],
   "execution_count": 2
  },
  {
   "cell_type": "markdown",
   "id": "69512506a4704850",
   "metadata": {
    "collapsed": false,
    "jupyter": {
     "outputs_hidden": false
    }
   },
   "source": [
    "# Verfahren maschinellen Lernens"
   ]
  },
  {
   "cell_type": "markdown",
   "id": "705aaa23960b2ddf",
   "metadata": {
    "collapsed": false,
    "jupyter": {
     "outputs_hidden": false
    }
   },
   "source": [
    "# Supervised Learning\n",
    "\n",
    "<br>\n",
    "<img src=\"../img/ml-overview.png\" width=\"70%\" align=\"center\">\n",
    "<br>"
   ]
  },
  {
   "cell_type": "markdown",
   "id": "1109601add608ffe",
   "metadata": {
    "collapsed": false,
    "jupyter": {
     "outputs_hidden": false
    }
   },
   "source": [
    "## Supervised Learning\n",
    "Der Bereich des Supervised Learnings (das überwachte maschinelle Lernen) lässt sich in drei wichtige Bereiche unterteilen: die Klassifikation, die Regression und die Segmentierung. Für die Klassifikation kann die logistische Regression eingesetzt werden. Vor allem die Support Vector Machine (SVM) und verschiedene Decision-Tree-Verfahren sind hier als Alternativen hervorzuheben. Tiefe neuronale Netze sind in diesem Bereich die wichtigsten Vertreter. Beim überwachten maschinellen Lernen werden Algorithmen verwendet, um ein Modell zu trainieren, das Muster in einem Datensatz mit Bezeichnungen und Merkmalen findet. Das trainierte Modell wird sodann verwendet, um die Bezeichnungen für die Merkmale eines neuen Datensatzes vorherzusagen. Entscheidend hierbei ist, dass für das Training Annotationen – d. h. manuelle Zuordnungen zwischen Eingangsdaten und Ausgangsdaten – vorliegen. Ist das Modell trainiert, dann kann für unbekannte Daten („New Data“) durch die Benut-zung des Modells ein Label vorhergesagt werden („Use Model“).\n",
    "\n",
    "<br>\n",
    "<img src=\"../img/supervised.png\" width=\"70%\" align=\"center\">\n",
    "<br>"
   ]
  },
  {
   "cell_type": "markdown",
   "id": "174256e0822b7362",
   "metadata": {
    "collapsed": false,
    "jupyter": {
     "outputs_hidden": false
    }
   },
   "source": [
    "# Prognose, Verlust und Optimierung\n",
    "Bei vielen Verfahren des maschinellen Lernens ist das Ziel, ausgehend von bekannten Eingangsdaten eine Vorhersage über eine unbekannte Zielgröße zu treffen. Beim überwachten Lernen trainiert man ein Modell mit Eingangsdaten, für die der „richtige“ Wert der Zielgröße bekannt ist, um das Modell dahingehend zu optimieren, dass es auch für Eingangsdaten die Zielgröße vorhersagen kann, zu denen diese nicht bekannt ist. Wichtige Begriffe sind Prognose, Verlust und Optimierung. Ausgegangen wird von Eingangsdaten, die in der Abbildung mit (1) bezeichnet sind.\n",
    "Das können je nach Verfahren Bilder, Töne, numerische Werte, Texte oder andere Daten (z. B. Sensordaten aus dem Betrieb von Maschinen) sein. Für diese Daten ist die Zielgröße (engl. Target) – auch als $Y$ bezeichnet – bekannt, in der Abbildung als (2) bezeichnet. Im Beispiel geht es um eine Klassifizierung, d. h. die Entscheidung, welche Zahl eine handgeschriebene Ziffer darstellt. Man spricht davon, dass die Eingangsdaten – auch als $X$ bezeichnet – einer bestimmten Klasse zugehören (hier sind dies die Klassen 0 bis 9). Man führt nun die Eingangsdaten dem Modell zu und berechnet mit Hilfe des Modells die Zielgröße. Dies wird als Prognose (3) bezeichnet und mit $\\hat{Y}$ gekennzeichnet. An anderen Stellen ist auch vom Abschätzen oder einer Vorhersage die Rede. Dies wird für alle Trainingsdaten wiederholt. In Schritt (4) wird nun für alle Ergebnisse $Y$ mit $\\hat{Y}$ verglichen und die „Abweichung“ zwischen $Y$ und $\\hat{Y}$ für diesen Durchlauf ermittelt. Diese Abweichung bezeichnet man als Verlust. Hierfür kommt die Verlustfunktion zum Einsatz, mit deren Hilfe diese Abweichung berechnet werden kann. Das Ergebnis der Verlustfunktion wird nun genutzt, um die internen Parameter – die so genannten Modellparameter – derart zu verändern, dass im nächsten Durchlauf der Verlust verringert wird. Dieses Verfahren wird Optimierung genannt und in der Abbildung mit (5) bezeichnet. Mit Hilfe eine Optimierungsverfahrens, z. B. dem so genannten Gradientenabstieg, können nun die Modellparameter optimiert werden. Ergänzend sei erwähnt, dass es neben dem Gradientenabstieg viele weitere Optimierungsverfahren gibt, die unterschiedliche Eigenschaften, Vor- und Nachteile haben.\n",
    "\n",
    "<br>\n",
    "<img src=\"../img/prozess.png\" width=\"70%\" align=\"center\">\n",
    "<br>"
   ]
  },
  {
   "cell_type": "markdown",
   "id": "c662cd1e6552bc89",
   "metadata": {
    "collapsed": false,
    "jupyter": {
     "outputs_hidden": false
    }
   },
   "source": [
    "# Regression\n",
    "\n",
    "## Interpolation\n",
    "\n",
    "<br>\n",
    "<img src=\"../img/interpolation.png\" width=\"70%\" align=\"center\">\n",
    "<br>\n",
    "\n",
    "## Extrapolation\n",
    "\n",
    "<img src=\"../img/extrapolation.png\" width=\"70%\" align=\"center\">\n",
    "<br>"
   ]
  },
  {
   "cell_type": "markdown",
   "id": "b29098cc9716d61",
   "metadata": {
    "collapsed": false,
    "jupyter": {
     "outputs_hidden": false
    }
   },
   "source": [
    "## Decision Tree\n",
    "\n",
    "Mit Hilfe von Decision-Tree-Algorithmen werden aus den Attributen der annotierten Daten binäre Bäume erstellt, entlang derer ein Result (also die Annotation) entweder wahr oder falsch ist. Hier-durch kann ein Result über mehrere Äste des Baums als wahr oder falsch erkannt werden. In der Abbildung wird ein solcher Decision Tree vorgestellt. Im Beispiel wird die Vorhersage von Kaufpreisen von Häusern dargestellt. Die zugrunde liegenden Daten werden im gezeigten Decision Tree angeordnet und können dann zum Training und schließlich zur Vorhersage verwendet werden. Decision Trees können sowohl zur Klassifizierung als auch zur Interpolation kontinuierlicher – also reeller – Werte herangezogen werden. Das Ergebnis eines Decision Tree ist also entweder eine Ganzzahl (die „Nummer“ der gefundenen Klasse) oder eine Fließkommazahl. \n",
    "\n",
    "\n",
    "<img src=\"../img/decisiontree.png\" width=\"70%\" align=\"center\">\n",
    "<br>"
   ]
  },
  {
   "cell_type": "markdown",
   "id": "05ca5fb6-2cb6-4ba1-942c-1399b0241a1f",
   "metadata": {},
   "source": [
    "## Bagging\n",
    "\n",
    "Bagging ist eine Methode des so genannten Ensemble Learnings. Hierbei wird nicht nur eine Hypothese – also eine Prognose anhand eines trainierten Zustandes eines Modells – zur Vorhersage herangezogen, sondern eine Sammlung solcher Hypothesen. Beim Bagging werden zufällig $N$ Samples (Muster)  aus den Trainingsdaten entnommen, wobei bei jedem zufälligen Ziehen der Muster jeder Datensatz erneut gezogen werden darf. Es kann also Überlappungen in den gezogenen Daten geben. Dann wird das Modell mit diesen $N$ Mustern trainiert, um die erste Hypothese zu erhalten. Weitere $K$ Hypothesen entstehen durch die zufällige Auswahl von K Mustergruppen (je bestehend aus $N$ einzelnen Mustern, also Trainingsdaten). Wird nun das Modell angewendet, werden alle so trainierten $K$ Hypothesen für eine Prognose herangezogen. Bei Klassifizierungsaufgaben wird dann eine Mehrheitsentscheidung dieser Prognosen berechnet, d. h., diejenige Klasse, für die die meisten Hypothesen „stimmen“, wird als Ergebnis zurückgegeben. Bei Regressionsproblemen wird der Durchschnitt der Hypothesen gebildet:\n",
    "\n",
    "$$h(x)\\ =\\ \\frac{1}{K}\\sum_{i=1}^{K}{h_i(x)}$$\n",
    "\n",
    "Hierbei ist $h_i$ die Hypothese bezogen auf den (unbekannten) Beispieldatensatz $x$. Das Bagging kann gut angewendet werden, wenn wenig Trainingsdaten zur Verfügung stehen, und führt zu weniger Varianz in den Ergebnissen. Darüber hinaus kann das Verfahren gut parallelisiert werden."
   ]
  },
  {
   "cell_type": "markdown",
   "id": "6b7b4b6c-792f-48ac-ab29-d964c56dce4a",
   "metadata": {},
   "source": [
    "## Boosting\n",
    "\n",
    "Beim Boosting wird ähnlich wie beim Bagging vorgegangen. Allerdings wird nicht für jede Hypothese eine neue zufällige Sammlung von Mustern aus den Trainingsdaten entnommen, sondern jede weitere Hypothese $h_{i+1}$ wird aus der Vorgängerhypothese $h_i$ abgeleitet. Beim Boosting wird jedem Datensatz der Trainingsdaten ein Gewicht $w_j\\geq0$ zugeordnet, das festlegt, „wie wichtig“ es für das Training sein soll. \n",
    "Zunächst erhält jedes Muster $x_j$ (jeder Datensatz der Trainingsdaten) das Gewicht $w_j=1$. Man kann sich das Gewicht derart vorstellen, dass es die Häufigkeit bezeichnet, mit der ein Trainingsdatensatz beim Training wiederholt verwendet wird. Ein großes Gewicht erhöht also die Bedeutung eines Datensatzes für das Training. Wurde nun durch das Training eine Hypothese $h_1$ ermittelt, so wird diese Hypothese falsche Ergebnisse für einige der Trainingsdaten ermitteln. Solche Trainingsdaten sollen durch die Vergrößerung des jeweiligen Gewichts stärkeren Einfluss auf das Training erhalten, die übrigen ein geringeres. Anhand dieses gewichteten Trainingssatzes wird nun erneut ein Training durchgeführt, das eine neue Hypothese $h_2$ hervorbringt. Dies wird so lange wiederholt, bis $K$ Hypothesen – mithin trainierte Modelle – vorliegen. Diese Vorgehensweise hat zur Folge, dass ein Modell stärker mit „schwierigen“ Datensätzen umgehen lernen muss. Diese Vorgehensweise ist ein Greedy-Algorithmus  – d. h. ein Algorithmus, der versucht, als nächsten Schritte immer den im Moment als besten Schritt erscheinenden auszuführen, denn es erfolgt kein Backtracking; eine einmal gefundene Hypothese wird nicht nachträglich verworfen, sollte sie sich als weniger geeignet herausstellen. Stehen nun $K$ Hypothesen fest, werden erneut Parameter vergeben – diesmal je ein $z_i$ für jede Hypothese $h_i$. Für eine Regression oder Klassifikation ergibt sich:\n",
    "$$h(x)\\ =\\ \\sum_{i=1}^{K}z_i\\bullet h_i(x)$$\n",
    "\n",
    "Ein bedeutender Boosting-Algorithmus ist der AdaBoost-Algorithmus. Dieser hat die besondere Eigenschaft, dass er – sofern nur der zugrunde liegende Modellalgorithmus mindestens bessere Ergebnisse liefert, als es das reine Raten ergeben würde – mit jeder Iteration für $h_{j+1}$ bessere Ergebnisse als sein Vorgänger liefert. D. h., der Boosting-Algorithmus verstärkt („boosted“) den ursprünglichen ungewichteten Algorithmus, verbessert mithin dessen Eigenschaften.\n",
    "\n",
    "Das Boosting ist allerdings nicht nur ein Greedy-Algorithmus, sondern auch ein lineares Verfahren – jede folgende Hypothese ergibt sich aus der vorherigen – und kann daher nicht parallelisiert werden. Daher wurde das Gradient Boosting entwickelt.\n"
   ]
  },
  {
   "cell_type": "markdown",
   "id": "88df9c0ef6237253",
   "metadata": {
    "collapsed": false,
    "jp-MarkdownHeadingCollapsed": true,
    "jupyter": {
     "outputs_hidden": false
    }
   },
   "source": [
    "# Gradient Boosted Decision Trees (GBDT)\n",
    "\n",
    "Bei GBDT – Gradient Boosted Decision Trees – werden mehrere solcher Entscheidungsbäume kombiniert. Die Idee dahinter ist, dass über ein Gradient-Descent-Verfahren der Verlust mehrerer für sich genommen möglicherweise schwacher Decision-Tree-Modelle insgesamt der Verlust minimiert werden kann.\n",
    "\n",
    "Beim Gradient Boosting werden nicht mehr spezielle Datensätze besonders (durch die Gewichte) berücksichtigt, sondern es wird der Gradient zwischen den korrekt vorhergesagten (klassifizierten, berechneten) Mustern und den Antworten der vorherigen Hypothese betrachtet. Für die Optimierung, dem Gradientenabstieg, wird eine differenzierbare Verlustfunktion benötigt; das kann für eine Klassifizierung der „squared error“ und für die Regression der „logarithmische Verlust“ sein. Anstatt die Parameter des Modells mit Hilfe des Gradientenabstiegs zu optimieren, werden – in Richtung der stärksten Verringerung des Gradienten – die Parameter der nächsten Hypothese, also des nächsten Modells, angepasst. \n",
    "\n",
    "# XGBoost\n",
    "\n",
    "Der XGBoost-Algorithmus ist eine Implementierung des GBDT für hochparallele Verarbeitung z. B. auf GPU-Prozessoren, die gegenüber CPU-Prozessoren sehr viel mehr Recheneinheiten zur Verfügung haben, die derartige Optimierungsprozesse – also Lernprozesse – parallelisieren und damit die Geschwindigkeit des Trainings steigern können. XGBoost ist eine Open-Source-Implementierung, die Gradient Boosting zusammen mit Pruning und Regularisierung einsetzt.\n",
    "\n",
    "<img src=\"../img/gbdt.png\" width=\"60%\" align=\"center\">\n",
    "<br>\n"
   ]
  },
  {
   "cell_type": "markdown",
   "id": "ed25d24443583de9",
   "metadata": {
    "collapsed": false,
    "jupyter": {
     "outputs_hidden": false
    }
   },
   "source": [
    "# Laden der Daten und Aufteilung in Train und Test Daten\n",
    "\n",
    "Um die Güte eines trainierten Modells zu testen, werden sogenannte Test-Daten zurückgehalen. Diese Daten hat das Modell noch nie gesehen. So kann gemessen werden, wie gut das Netz generalisiert, also mit unbekannten Daten umgehen kann.\n",
    "\n",
    "**Cross Validation**\n",
    "Mit der n-fachen Kreuzvalidierung werden innerhalb der Validierungsdaten nun zwei Subsets definiert: Das Trainings-Set und das Validieruns-Set. Dieses wird über den gesamten Traingings-Datenbestand mutiert.\n",
    "\n",
    "<img src=\"../img/test_train_split.png\" width=\"70%\" align=\"center\">\n",
    "<br>"
   ]
  },
  {
   "cell_type": "code",
   "id": "72aa6bd94fb1b805",
   "metadata": {
    "collapsed": false,
    "jupyter": {
     "outputs_hidden": false
    },
    "ExecuteTime": {
     "end_time": "2024-09-19T13:49:01.545454Z",
     "start_time": "2024-09-19T13:49:01.297187Z"
    }
   },
   "source": [
    "from sklearn.linear_model import LinearRegression\n",
    "from sklearn.ensemble import RandomForestRegressor\n",
    "from xgboost import XGBRegressor\n",
    "from sklearn.model_selection import GridSearchCV, KFold, cross_val_score\n",
    "\n",
    "# Split the data into training and testing sets\n",
    "from sklearn.model_selection import train_test_split\n",
    "seed = 4354 # Random_state ist ein seed, damit gegebenenfalls immer mit der selben pseudo Random Folge gearbeitet wird.\n",
    "X_train, X_test, y_train, y_test = train_test_split(X_preprocessed_train, y_preprocessed_train, test_size=0.2, random_state=seed) \n"
   ],
   "outputs": [],
   "execution_count": 3
  },
  {
   "cell_type": "markdown",
   "id": "b82cd41f1c844991",
   "metadata": {
    "collapsed": false,
    "jupyter": {
     "outputs_hidden": false
    }
   },
   "source": [
    "# Grid-Search\n",
    "Machine Learning Modelle benötigen in der Regel Hyperparameter, d.h. Steurungsparameter, die außerhalb der eigenentlichen internen (angelernten) Modell-Parameter liegen.\n",
    "Diese können über eine systematische Suche gefunden werden.\n"
   ]
  },
  {
   "cell_type": "markdown",
   "id": "4013fa58-0b02-49ab-afcb-251423345b39",
   "metadata": {},
   "source": [
    "## Lineare Regression\n",
    "https://scikit-learn.org/stable/modules/generated/sklearn.linear_model.LinearRegression.html\n",
    "\n",
    "Die Lineare Regression ist ein lineares Modell mit Koeffizienten w = (w1, ..., wp), um die Residualquadratsumme zwischen den beobachteten Zielwerten y im Datensatz und den durch die lineare Approximation vorhergesagten Zielen zu minimieren.\n",
    "\n",
    "Eine einfache Lineare Regression stellt sich dar als:\n",
    "$$y=a+b\\bullet x$$\n",
    "\n",
    "Um b zu bestimmen, berechnet man:\n",
    "$$b=\\frac{\\sum_{i=1}^{n}{(x_i-\\bar{x})\\ \\bullet}\\ (y_i-\\bar{y})}{\\sum_{i=1}^{n}{{(x}_i-\\bar{x)}}^2}$$\n",
    "\n",
    "Um a zu bestimmen, berechnet man:\n",
    "$$a=\\bar{y}\\ -\\ b\\ \\bullet\\ \\bar{x}$$\n",
    "\n",
    "$\\bar{x}$ und $\\bar{y}$ sind die jeweiligen Mittelwerte aller bekannten Datenpunkte.\n",
    "\n",
    "**Die Lineare Regression besitzt keine Hyperparameter.**\n",
    "\n",
    "---"
   ]
  },
  {
   "cell_type": "markdown",
   "id": "0b76b9c9-a76c-421c-b4d2-3edb6d89fbf3",
   "metadata": {},
   "source": [
    "## Random Forest Regressor\n",
    "https://scikit-learn.org/stable/modules/generated/sklearn.ensemble.RandomForestRegressor.html#sklearn-ensemble-randomforestregressor\n",
    "\n",
    "Ein Random Forest Regressor ist ein Meta-Modell, das eine Reihe von Decision-Tree-Regressoren auf verschiedene Teil-Stichproben des Datensatzes anpasst und eine Mittelwertbildung verwendet, um die Vorhersagegenauigkeit zu verbessern und das Overfitting zu kontrollieren. Die Bäume im Random Forest verwenden die \"best split\"-Strategie, d. h. sie übergeben splitter=\"best\" an den zugrunde liegenden DecisionTreeRegressor. Die Größe der Teil-Stichproben wird mit dem Parameter max_samples gesteuert, wenn bootstrap=True (Standard), andernfalls wird der gesamte Datensatz zur Erstellung jedes Baums verwendet.\n",
    "\n",
    "**In diesem Beispiel werden folgende Hyperparameter optimiert:**\n",
    "* n_estimators: Die Anzahl der Teil-Bäume im Random Forest\n",
    "* max_depth: Die maximale Tiefe, in der ein Teil-Baum durchsucht wird oder \"None\" für die Suche bis keine weiteren Splits mehr möglich sind.\n",
    "* min_samples_split: Die Mindestanzahl von Stichproben, die erforderlich ist, um einen internen Knoten zu teilen.\n",
    "\n",
    "---"
   ]
  },
  {
   "cell_type": "markdown",
   "id": "3bc4f84a-f05e-40c1-a234-eada7b79215a",
   "metadata": {},
   "source": [
    "## XGBoost Regressor\n",
    "https://xgboost.readthedocs.io/en/stable/\n",
    "\n",
    "**In diesem Beispiel werden folgende Hyperparameter optimiert:**\n",
    "* n_estimators: Die Anzahl der boosted trees.\n",
    "* max_depth: Die maximale Tiefe, in der ein Teil-Baum durchsucht wird oder \"None\" für die Suche bis keine weiteren Splits mehr möglich sind.\n",
    "* learning_rate: Boosting learning rate (xgb’s “eta”): Beim Gradient Boosting werden nacheinander Bäume erstellt und dem Modell hinzugefügt. Neue Bäume werden erstellt, um die \"residual errors\" in den Vorhersagen aus der bestehenden Serie von Bäumen zu korrigieren. Dies hat zur Folge, dass das Modell schnell konvergiert aber ebenso schnell overfitten kann. Eine Technik zur Verlangsamung des Lernprozesses im Gradient-Boosting-Modell besteht darin, einen Gewichtungsfaktor für die Korrekturen durch neue Bäume anzuwenden, wenn diese dem Modell hinzugefügt werden. Diese Gewichtung wird als **Lernrate** (oder shrinkage factor) bezeichnet.\n"
   ]
  },
  {
   "cell_type": "code",
   "id": "23bd720f3012f98e",
   "metadata": {
    "collapsed": false,
    "jupyter": {
     "outputs_hidden": false
    },
    "ExecuteTime": {
     "end_time": "2024-09-19T13:49:01.605508Z",
     "start_time": "2024-09-19T13:49:01.577400Z"
    }
   },
   "source": [
    "# Wir wollen drei Modelle untersuchen\n",
    "models = {\n",
    "    'LinearRegression': LinearRegression(),\n",
    "    'RandomForest': RandomForestRegressor(random_state=seed),\n",
    "    'XGBoost': XGBRegressor(random_state=seed)\n",
    "}\n",
    "\n",
    "# Define the hyperparameter grids for each model\n",
    "param_grids = {\n",
    "    'LinearRegression': {},\n",
    "    'RandomForest': {\n",
    "        'n_estimators': [100, 200, 500],\n",
    "        'max_depth': [None, 10, 30],\n",
    "        'min_samples_split': [2, 5, 10],\n",
    "    },\n",
    "    'XGBoost': {\n",
    "        'n_estimators': [100, 200, 500],\n",
    "        'learning_rate': [0.01, 0.1, 0.3],\n",
    "        'max_depth': [3, 6, 10],\n",
    "    }\n",
    "}"
   ],
   "outputs": [],
   "execution_count": 4
  },
  {
   "cell_type": "markdown",
   "id": "14496a0b2dbb5495",
   "metadata": {
    "collapsed": false,
    "jupyter": {
     "outputs_hidden": false
    }
   },
   "source": [
    "# Festlegung der Kreuzvalidierung"
   ]
  },
  {
   "cell_type": "code",
   "id": "c631ad1b90cd5358",
   "metadata": {
    "collapsed": false,
    "jupyter": {
     "outputs_hidden": false
    },
    "ExecuteTime": {
     "end_time": "2024-09-19T13:49:01.659393Z",
     "start_time": "2024-09-19T13:49:01.637476Z"
    }
   },
   "source": [
    "# 3-fold cross-validation\n",
    "cv = KFold(n_splits=3, shuffle=True, random_state=seed)"
   ],
   "outputs": [],
   "execution_count": 5
  },
  {
   "cell_type": "markdown",
   "id": "c0bfae89-b16d-4700-b884-dd3ded2943f3",
   "metadata": {},
   "source": [
    "**Beachten Sie:**\n",
    "\n",
    "Das CV Objekt wird später der GridSearchCV übergeben. Dies veranlasst die GridSearchCV Klasse, für jeden \"Durchlauf\" zusätzlich die definierten Ramdom-Splits durchzuführen. D.h. \n",
    "\n",
    "* Erster Durchlauf: Durchprobieren aller Grid-Werte für den **1sten** CV (CrossValidation) Sample Split\n",
    "* Zweiter Durchlauf: Durchprobieren aller Grid-Werte für den **2sten** CV (CrossValidation) Sample Split\n",
    "* usw.\n",
    "\n",
    "Für jeden Sample Split werden /Anzahl der Samples/ % /n_splits/ Samples aus den Trainingsdaten entnommen und als Validierungsset verwendet."
   ]
  },
  {
   "cell_type": "markdown",
   "id": "35ae4bb8-534a-40c2-9c3c-9bc1756fc5c8",
   "metadata": {},
   "source": [
    "# Güte-Metrik(en)\n",
    "**WICHTIG:** Beachten Sie, dass nicht jede Güte-Metrik für jedes Modell geeignet ist. Siehe:\n",
    "https://scikit-learn.org/stable/modules/model_evaluation.html#scoring-parameter\n",
    "\n",
    "## MSE - Mean Squared Error\n",
    "https://scikit-learn.org/stable/modules/model_evaluation.html#mean-squared-error\n",
    "\n",
    "Der MSE ist der mittlere quadratische Fehler, eine Risikometrik, die dem Erwartungswert des quadratischen Fehlers oder Verlusts entspricht.\n",
    "Wenn ${\\hat{y}}_i$ der vorhergesagte Wert der $i$-ten Stichprobe und $y_i$ der entsprechende wahre Wert ist, dann ist der mittlere quadratische Fehler (MSE), der über $n_{samples}$ geschätzt wird, definiert als\n",
    "$$MSE(y,\\hat{y})\\ =\\ \\frac{1}{n_{samples}}\\ \\sum_{i=0}^{n_{samples}-1}{(y_i-{\\hat{y}}_i)}^2$$\n",
    "\n",
    "\n",
    "## RMSE Root Mean Squared Error\n",
    "Wurzel aus dem mittleren quadratischen Fehler:\n",
    "\n",
    "$$RMSE(y,\\hat{y})\\ =\\ \\sqrt{MSE(y,\\hat{y})}$$\n"
   ]
  },
  {
   "cell_type": "markdown",
   "id": "989bb9d061a991cc",
   "metadata": {
    "collapsed": false,
    "jupyter": {
     "outputs_hidden": false
    }
   },
   "source": [
    "# Training, Gridsearch und Kreuzvalidierung\n",
    "\n",
    "Training, Gridsearch und Kreuzvalidierung können dank der vorbereiteten Funktion in scikit-learn einfach ausgeführt werden:"
   ]
  },
  {
   "cell_type": "code",
   "id": "355e01afd80f05dc",
   "metadata": {
    "collapsed": false,
    "jupyter": {
     "outputs_hidden": false
    },
    "ExecuteTime": {
     "end_time": "2024-09-19T13:49:51.637762Z",
     "start_time": "2024-09-19T13:49:01.690906Z"
    }
   },
   "source": [
    "# Train and tune the models\n",
    "grids = {}\n",
    "for model_name, model in models.items():\n",
    "    #print(f'Training and tuning {model_name}...')\n",
    "    grids[model_name] = GridSearchCV(estimator=model, param_grid=param_grids[model_name], cv=cv, scoring='neg_mean_squared_error', n_jobs=-1, verbose=2)\n",
    "    grids[model_name].fit(X_train, y_train)\n",
    "    best_params = grids[model_name].best_params_\n",
    "    best_score = np.sqrt(-1 * grids[model_name].best_score_)\n",
    "    \n",
    "    print(f'Optimale Parameter für {model_name}: {best_params}')\n",
    "    print(f'Bester RMSE Score für {model_name}: {best_score}\\n') #Root-mean-square error\n",
    "    \n",
    "# Vgl. https://www.kaggle.com/code/kenjee/housing-prices-example-with-video-walkthrough"
   ],
   "outputs": [
    {
     "name": "stdout",
     "output_type": "stream",
     "text": [
      "Fitting 3 folds for each of 1 candidates, totalling 3 fits\n",
      "Optimale Parameter für LinearRegression: {}\n",
      "Bester RMSE Score für LinearRegression: 1726172284.2055833\n",
      "\n",
      "Fitting 3 folds for each of 27 candidates, totalling 81 fits\n",
      "Optimale Parameter für RandomForest: {'max_depth': None, 'min_samples_split': 2, 'n_estimators': 200}\n",
      "Bester RMSE Score für RandomForest: 0.14533014278158943\n",
      "\n",
      "Fitting 3 folds for each of 27 candidates, totalling 81 fits\n",
      "Optimale Parameter für XGBoost: {'learning_rate': 0.1, 'max_depth': 3, 'n_estimators': 500}\n",
      "Bester RMSE Score für XGBoost: 0.12668175659054548\n",
      "\n"
     ]
    }
   ],
   "execution_count": 6
  },
  {
   "cell_type": "code",
   "id": "b752214a2854b8d5",
   "metadata": {
    "collapsed": false,
    "jupyter": {
     "outputs_hidden": false
    },
    "ExecuteTime": {
     "end_time": "2024-09-19T13:49:51.717317Z",
     "start_time": "2024-09-19T13:49:51.707305Z"
    }
   },
   "source": [
    "best_params = grids['XGBoost'].best_params_\n",
    "best_score = np.sqrt(-1 * grids['XGBoost'].best_score_)\n",
    "\n",
    "print(f'Optimale Parameter für XGBoost: {best_params}')\n",
    "print(f'Bester RMSE Score für XGBoost: {best_score}\\n') #Root-mean-square error"
   ],
   "outputs": [
    {
     "name": "stdout",
     "output_type": "stream",
     "text": [
      "Optimale Parameter für XGBoost: {'learning_rate': 0.1, 'max_depth': 3, 'n_estimators': 500}\n",
      "Bester RMSE Score für XGBoost: 0.12668175659054548\n",
      "\n"
     ]
    }
   ],
   "execution_count": 7
  },
  {
   "cell_type": "code",
   "id": "a5c280ef-a1dc-410d-bd41-9469ab0958e2",
   "metadata": {
    "ExecuteTime": {
     "end_time": "2024-09-19T13:49:51.929414Z",
     "start_time": "2024-09-19T13:49:51.909273Z"
    }
   },
   "source": [
    "grids['XGBoost']"
   ],
   "outputs": [
    {
     "data": {
      "text/plain": [
       "GridSearchCV(cv=KFold(n_splits=3, random_state=4354, shuffle=True),\n",
       "             estimator=XGBRegressor(base_score=None, booster=None,\n",
       "                                    callbacks=None, colsample_bylevel=None,\n",
       "                                    colsample_bynode=None,\n",
       "                                    colsample_bytree=None, device=None,\n",
       "                                    early_stopping_rounds=None,\n",
       "                                    enable_categorical=False, eval_metric=None,\n",
       "                                    feature_types=None, gamma=None,\n",
       "                                    grow_policy=None, importance_type=None,\n",
       "                                    in...\n",
       "                                    max_cat_to_onehot=None, max_delta_step=None,\n",
       "                                    max_depth=None, max_leaves=None,\n",
       "                                    min_child_weight=None, missing=nan,\n",
       "                                    monotone_constraints=None,\n",
       "                                    multi_strategy=None, n_estimators=None,\n",
       "                                    n_jobs=None, num_parallel_tree=None,\n",
       "                                    random_state=4354, ...),\n",
       "             n_jobs=-1,\n",
       "             param_grid={'learning_rate': [0.01, 0.1, 0.3],\n",
       "                         'max_depth': [3, 6, 10],\n",
       "                         'n_estimators': [100, 200, 500]},\n",
       "             scoring='neg_mean_squared_error', verbose=2)"
      ],
      "text/html": [
       "<style>#sk-container-id-1 {\n",
       "  /* Definition of color scheme common for light and dark mode */\n",
       "  --sklearn-color-text: black;\n",
       "  --sklearn-color-line: gray;\n",
       "  /* Definition of color scheme for unfitted estimators */\n",
       "  --sklearn-color-unfitted-level-0: #fff5e6;\n",
       "  --sklearn-color-unfitted-level-1: #f6e4d2;\n",
       "  --sklearn-color-unfitted-level-2: #ffe0b3;\n",
       "  --sklearn-color-unfitted-level-3: chocolate;\n",
       "  /* Definition of color scheme for fitted estimators */\n",
       "  --sklearn-color-fitted-level-0: #f0f8ff;\n",
       "  --sklearn-color-fitted-level-1: #d4ebff;\n",
       "  --sklearn-color-fitted-level-2: #b3dbfd;\n",
       "  --sklearn-color-fitted-level-3: cornflowerblue;\n",
       "\n",
       "  /* Specific color for light theme */\n",
       "  --sklearn-color-text-on-default-background: var(--sg-text-color, var(--theme-code-foreground, var(--jp-content-font-color1, black)));\n",
       "  --sklearn-color-background: var(--sg-background-color, var(--theme-background, var(--jp-layout-color0, white)));\n",
       "  --sklearn-color-border-box: var(--sg-text-color, var(--theme-code-foreground, var(--jp-content-font-color1, black)));\n",
       "  --sklearn-color-icon: #696969;\n",
       "\n",
       "  @media (prefers-color-scheme: dark) {\n",
       "    /* Redefinition of color scheme for dark theme */\n",
       "    --sklearn-color-text-on-default-background: var(--sg-text-color, var(--theme-code-foreground, var(--jp-content-font-color1, white)));\n",
       "    --sklearn-color-background: var(--sg-background-color, var(--theme-background, var(--jp-layout-color0, #111)));\n",
       "    --sklearn-color-border-box: var(--sg-text-color, var(--theme-code-foreground, var(--jp-content-font-color1, white)));\n",
       "    --sklearn-color-icon: #878787;\n",
       "  }\n",
       "}\n",
       "\n",
       "#sk-container-id-1 {\n",
       "  color: var(--sklearn-color-text);\n",
       "}\n",
       "\n",
       "#sk-container-id-1 pre {\n",
       "  padding: 0;\n",
       "}\n",
       "\n",
       "#sk-container-id-1 input.sk-hidden--visually {\n",
       "  border: 0;\n",
       "  clip: rect(1px 1px 1px 1px);\n",
       "  clip: rect(1px, 1px, 1px, 1px);\n",
       "  height: 1px;\n",
       "  margin: -1px;\n",
       "  overflow: hidden;\n",
       "  padding: 0;\n",
       "  position: absolute;\n",
       "  width: 1px;\n",
       "}\n",
       "\n",
       "#sk-container-id-1 div.sk-dashed-wrapped {\n",
       "  border: 1px dashed var(--sklearn-color-line);\n",
       "  margin: 0 0.4em 0.5em 0.4em;\n",
       "  box-sizing: border-box;\n",
       "  padding-bottom: 0.4em;\n",
       "  background-color: var(--sklearn-color-background);\n",
       "}\n",
       "\n",
       "#sk-container-id-1 div.sk-container {\n",
       "  /* jupyter's `normalize.less` sets `[hidden] { display: none; }`\n",
       "     but bootstrap.min.css set `[hidden] { display: none !important; }`\n",
       "     so we also need the `!important` here to be able to override the\n",
       "     default hidden behavior on the sphinx rendered scikit-learn.org.\n",
       "     See: https://github.com/scikit-learn/scikit-learn/issues/21755 */\n",
       "  display: inline-block !important;\n",
       "  position: relative;\n",
       "}\n",
       "\n",
       "#sk-container-id-1 div.sk-text-repr-fallback {\n",
       "  display: none;\n",
       "}\n",
       "\n",
       "div.sk-parallel-item,\n",
       "div.sk-serial,\n",
       "div.sk-item {\n",
       "  /* draw centered vertical line to link estimators */\n",
       "  background-image: linear-gradient(var(--sklearn-color-text-on-default-background), var(--sklearn-color-text-on-default-background));\n",
       "  background-size: 2px 100%;\n",
       "  background-repeat: no-repeat;\n",
       "  background-position: center center;\n",
       "}\n",
       "\n",
       "/* Parallel-specific style estimator block */\n",
       "\n",
       "#sk-container-id-1 div.sk-parallel-item::after {\n",
       "  content: \"\";\n",
       "  width: 100%;\n",
       "  border-bottom: 2px solid var(--sklearn-color-text-on-default-background);\n",
       "  flex-grow: 1;\n",
       "}\n",
       "\n",
       "#sk-container-id-1 div.sk-parallel {\n",
       "  display: flex;\n",
       "  align-items: stretch;\n",
       "  justify-content: center;\n",
       "  background-color: var(--sklearn-color-background);\n",
       "  position: relative;\n",
       "}\n",
       "\n",
       "#sk-container-id-1 div.sk-parallel-item {\n",
       "  display: flex;\n",
       "  flex-direction: column;\n",
       "}\n",
       "\n",
       "#sk-container-id-1 div.sk-parallel-item:first-child::after {\n",
       "  align-self: flex-end;\n",
       "  width: 50%;\n",
       "}\n",
       "\n",
       "#sk-container-id-1 div.sk-parallel-item:last-child::after {\n",
       "  align-self: flex-start;\n",
       "  width: 50%;\n",
       "}\n",
       "\n",
       "#sk-container-id-1 div.sk-parallel-item:only-child::after {\n",
       "  width: 0;\n",
       "}\n",
       "\n",
       "/* Serial-specific style estimator block */\n",
       "\n",
       "#sk-container-id-1 div.sk-serial {\n",
       "  display: flex;\n",
       "  flex-direction: column;\n",
       "  align-items: center;\n",
       "  background-color: var(--sklearn-color-background);\n",
       "  padding-right: 1em;\n",
       "  padding-left: 1em;\n",
       "}\n",
       "\n",
       "\n",
       "/* Toggleable style: style used for estimator/Pipeline/ColumnTransformer box that is\n",
       "clickable and can be expanded/collapsed.\n",
       "- Pipeline and ColumnTransformer use this feature and define the default style\n",
       "- Estimators will overwrite some part of the style using the `sk-estimator` class\n",
       "*/\n",
       "\n",
       "/* Pipeline and ColumnTransformer style (default) */\n",
       "\n",
       "#sk-container-id-1 div.sk-toggleable {\n",
       "  /* Default theme specific background. It is overwritten whether we have a\n",
       "  specific estimator or a Pipeline/ColumnTransformer */\n",
       "  background-color: var(--sklearn-color-background);\n",
       "}\n",
       "\n",
       "/* Toggleable label */\n",
       "#sk-container-id-1 label.sk-toggleable__label {\n",
       "  cursor: pointer;\n",
       "  display: block;\n",
       "  width: 100%;\n",
       "  margin-bottom: 0;\n",
       "  padding: 0.5em;\n",
       "  box-sizing: border-box;\n",
       "  text-align: center;\n",
       "}\n",
       "\n",
       "#sk-container-id-1 label.sk-toggleable__label-arrow:before {\n",
       "  /* Arrow on the left of the label */\n",
       "  content: \"▸\";\n",
       "  float: left;\n",
       "  margin-right: 0.25em;\n",
       "  color: var(--sklearn-color-icon);\n",
       "}\n",
       "\n",
       "#sk-container-id-1 label.sk-toggleable__label-arrow:hover:before {\n",
       "  color: var(--sklearn-color-text);\n",
       "}\n",
       "\n",
       "/* Toggleable content - dropdown */\n",
       "\n",
       "#sk-container-id-1 div.sk-toggleable__content {\n",
       "  max-height: 0;\n",
       "  max-width: 0;\n",
       "  overflow: hidden;\n",
       "  text-align: left;\n",
       "  /* unfitted */\n",
       "  background-color: var(--sklearn-color-unfitted-level-0);\n",
       "}\n",
       "\n",
       "#sk-container-id-1 div.sk-toggleable__content.fitted {\n",
       "  /* fitted */\n",
       "  background-color: var(--sklearn-color-fitted-level-0);\n",
       "}\n",
       "\n",
       "#sk-container-id-1 div.sk-toggleable__content pre {\n",
       "  margin: 0.2em;\n",
       "  border-radius: 0.25em;\n",
       "  color: var(--sklearn-color-text);\n",
       "  /* unfitted */\n",
       "  background-color: var(--sklearn-color-unfitted-level-0);\n",
       "}\n",
       "\n",
       "#sk-container-id-1 div.sk-toggleable__content.fitted pre {\n",
       "  /* unfitted */\n",
       "  background-color: var(--sklearn-color-fitted-level-0);\n",
       "}\n",
       "\n",
       "#sk-container-id-1 input.sk-toggleable__control:checked~div.sk-toggleable__content {\n",
       "  /* Expand drop-down */\n",
       "  max-height: 200px;\n",
       "  max-width: 100%;\n",
       "  overflow: auto;\n",
       "}\n",
       "\n",
       "#sk-container-id-1 input.sk-toggleable__control:checked~label.sk-toggleable__label-arrow:before {\n",
       "  content: \"▾\";\n",
       "}\n",
       "\n",
       "/* Pipeline/ColumnTransformer-specific style */\n",
       "\n",
       "#sk-container-id-1 div.sk-label input.sk-toggleable__control:checked~label.sk-toggleable__label {\n",
       "  color: var(--sklearn-color-text);\n",
       "  background-color: var(--sklearn-color-unfitted-level-2);\n",
       "}\n",
       "\n",
       "#sk-container-id-1 div.sk-label.fitted input.sk-toggleable__control:checked~label.sk-toggleable__label {\n",
       "  background-color: var(--sklearn-color-fitted-level-2);\n",
       "}\n",
       "\n",
       "/* Estimator-specific style */\n",
       "\n",
       "/* Colorize estimator box */\n",
       "#sk-container-id-1 div.sk-estimator input.sk-toggleable__control:checked~label.sk-toggleable__label {\n",
       "  /* unfitted */\n",
       "  background-color: var(--sklearn-color-unfitted-level-2);\n",
       "}\n",
       "\n",
       "#sk-container-id-1 div.sk-estimator.fitted input.sk-toggleable__control:checked~label.sk-toggleable__label {\n",
       "  /* fitted */\n",
       "  background-color: var(--sklearn-color-fitted-level-2);\n",
       "}\n",
       "\n",
       "#sk-container-id-1 div.sk-label label.sk-toggleable__label,\n",
       "#sk-container-id-1 div.sk-label label {\n",
       "  /* The background is the default theme color */\n",
       "  color: var(--sklearn-color-text-on-default-background);\n",
       "}\n",
       "\n",
       "/* On hover, darken the color of the background */\n",
       "#sk-container-id-1 div.sk-label:hover label.sk-toggleable__label {\n",
       "  color: var(--sklearn-color-text);\n",
       "  background-color: var(--sklearn-color-unfitted-level-2);\n",
       "}\n",
       "\n",
       "/* Label box, darken color on hover, fitted */\n",
       "#sk-container-id-1 div.sk-label.fitted:hover label.sk-toggleable__label.fitted {\n",
       "  color: var(--sklearn-color-text);\n",
       "  background-color: var(--sklearn-color-fitted-level-2);\n",
       "}\n",
       "\n",
       "/* Estimator label */\n",
       "\n",
       "#sk-container-id-1 div.sk-label label {\n",
       "  font-family: monospace;\n",
       "  font-weight: bold;\n",
       "  display: inline-block;\n",
       "  line-height: 1.2em;\n",
       "}\n",
       "\n",
       "#sk-container-id-1 div.sk-label-container {\n",
       "  text-align: center;\n",
       "}\n",
       "\n",
       "/* Estimator-specific */\n",
       "#sk-container-id-1 div.sk-estimator {\n",
       "  font-family: monospace;\n",
       "  border: 1px dotted var(--sklearn-color-border-box);\n",
       "  border-radius: 0.25em;\n",
       "  box-sizing: border-box;\n",
       "  margin-bottom: 0.5em;\n",
       "  /* unfitted */\n",
       "  background-color: var(--sklearn-color-unfitted-level-0);\n",
       "}\n",
       "\n",
       "#sk-container-id-1 div.sk-estimator.fitted {\n",
       "  /* fitted */\n",
       "  background-color: var(--sklearn-color-fitted-level-0);\n",
       "}\n",
       "\n",
       "/* on hover */\n",
       "#sk-container-id-1 div.sk-estimator:hover {\n",
       "  /* unfitted */\n",
       "  background-color: var(--sklearn-color-unfitted-level-2);\n",
       "}\n",
       "\n",
       "#sk-container-id-1 div.sk-estimator.fitted:hover {\n",
       "  /* fitted */\n",
       "  background-color: var(--sklearn-color-fitted-level-2);\n",
       "}\n",
       "\n",
       "/* Specification for estimator info (e.g. \"i\" and \"?\") */\n",
       "\n",
       "/* Common style for \"i\" and \"?\" */\n",
       "\n",
       ".sk-estimator-doc-link,\n",
       "a:link.sk-estimator-doc-link,\n",
       "a:visited.sk-estimator-doc-link {\n",
       "  float: right;\n",
       "  font-size: smaller;\n",
       "  line-height: 1em;\n",
       "  font-family: monospace;\n",
       "  background-color: var(--sklearn-color-background);\n",
       "  border-radius: 1em;\n",
       "  height: 1em;\n",
       "  width: 1em;\n",
       "  text-decoration: none !important;\n",
       "  margin-left: 1ex;\n",
       "  /* unfitted */\n",
       "  border: var(--sklearn-color-unfitted-level-1) 1pt solid;\n",
       "  color: var(--sklearn-color-unfitted-level-1);\n",
       "}\n",
       "\n",
       ".sk-estimator-doc-link.fitted,\n",
       "a:link.sk-estimator-doc-link.fitted,\n",
       "a:visited.sk-estimator-doc-link.fitted {\n",
       "  /* fitted */\n",
       "  border: var(--sklearn-color-fitted-level-1) 1pt solid;\n",
       "  color: var(--sklearn-color-fitted-level-1);\n",
       "}\n",
       "\n",
       "/* On hover */\n",
       "div.sk-estimator:hover .sk-estimator-doc-link:hover,\n",
       ".sk-estimator-doc-link:hover,\n",
       "div.sk-label-container:hover .sk-estimator-doc-link:hover,\n",
       ".sk-estimator-doc-link:hover {\n",
       "  /* unfitted */\n",
       "  background-color: var(--sklearn-color-unfitted-level-3);\n",
       "  color: var(--sklearn-color-background);\n",
       "  text-decoration: none;\n",
       "}\n",
       "\n",
       "div.sk-estimator.fitted:hover .sk-estimator-doc-link.fitted:hover,\n",
       ".sk-estimator-doc-link.fitted:hover,\n",
       "div.sk-label-container:hover .sk-estimator-doc-link.fitted:hover,\n",
       ".sk-estimator-doc-link.fitted:hover {\n",
       "  /* fitted */\n",
       "  background-color: var(--sklearn-color-fitted-level-3);\n",
       "  color: var(--sklearn-color-background);\n",
       "  text-decoration: none;\n",
       "}\n",
       "\n",
       "/* Span, style for the box shown on hovering the info icon */\n",
       ".sk-estimator-doc-link span {\n",
       "  display: none;\n",
       "  z-index: 9999;\n",
       "  position: relative;\n",
       "  font-weight: normal;\n",
       "  right: .2ex;\n",
       "  padding: .5ex;\n",
       "  margin: .5ex;\n",
       "  width: min-content;\n",
       "  min-width: 20ex;\n",
       "  max-width: 50ex;\n",
       "  color: var(--sklearn-color-text);\n",
       "  box-shadow: 2pt 2pt 4pt #999;\n",
       "  /* unfitted */\n",
       "  background: var(--sklearn-color-unfitted-level-0);\n",
       "  border: .5pt solid var(--sklearn-color-unfitted-level-3);\n",
       "}\n",
       "\n",
       ".sk-estimator-doc-link.fitted span {\n",
       "  /* fitted */\n",
       "  background: var(--sklearn-color-fitted-level-0);\n",
       "  border: var(--sklearn-color-fitted-level-3);\n",
       "}\n",
       "\n",
       ".sk-estimator-doc-link:hover span {\n",
       "  display: block;\n",
       "}\n",
       "\n",
       "/* \"?\"-specific style due to the `<a>` HTML tag */\n",
       "\n",
       "#sk-container-id-1 a.estimator_doc_link {\n",
       "  float: right;\n",
       "  font-size: 1rem;\n",
       "  line-height: 1em;\n",
       "  font-family: monospace;\n",
       "  background-color: var(--sklearn-color-background);\n",
       "  border-radius: 1rem;\n",
       "  height: 1rem;\n",
       "  width: 1rem;\n",
       "  text-decoration: none;\n",
       "  /* unfitted */\n",
       "  color: var(--sklearn-color-unfitted-level-1);\n",
       "  border: var(--sklearn-color-unfitted-level-1) 1pt solid;\n",
       "}\n",
       "\n",
       "#sk-container-id-1 a.estimator_doc_link.fitted {\n",
       "  /* fitted */\n",
       "  border: var(--sklearn-color-fitted-level-1) 1pt solid;\n",
       "  color: var(--sklearn-color-fitted-level-1);\n",
       "}\n",
       "\n",
       "/* On hover */\n",
       "#sk-container-id-1 a.estimator_doc_link:hover {\n",
       "  /* unfitted */\n",
       "  background-color: var(--sklearn-color-unfitted-level-3);\n",
       "  color: var(--sklearn-color-background);\n",
       "  text-decoration: none;\n",
       "}\n",
       "\n",
       "#sk-container-id-1 a.estimator_doc_link.fitted:hover {\n",
       "  /* fitted */\n",
       "  background-color: var(--sklearn-color-fitted-level-3);\n",
       "}\n",
       "</style><div id=\"sk-container-id-1\" class=\"sk-top-container\"><div class=\"sk-text-repr-fallback\"><pre>GridSearchCV(cv=KFold(n_splits=3, random_state=4354, shuffle=True),\n",
       "             estimator=XGBRegressor(base_score=None, booster=None,\n",
       "                                    callbacks=None, colsample_bylevel=None,\n",
       "                                    colsample_bynode=None,\n",
       "                                    colsample_bytree=None, device=None,\n",
       "                                    early_stopping_rounds=None,\n",
       "                                    enable_categorical=False, eval_metric=None,\n",
       "                                    feature_types=None, gamma=None,\n",
       "                                    grow_policy=None, importance_type=None,\n",
       "                                    in...\n",
       "                                    max_cat_to_onehot=None, max_delta_step=None,\n",
       "                                    max_depth=None, max_leaves=None,\n",
       "                                    min_child_weight=None, missing=nan,\n",
       "                                    monotone_constraints=None,\n",
       "                                    multi_strategy=None, n_estimators=None,\n",
       "                                    n_jobs=None, num_parallel_tree=None,\n",
       "                                    random_state=4354, ...),\n",
       "             n_jobs=-1,\n",
       "             param_grid={&#x27;learning_rate&#x27;: [0.01, 0.1, 0.3],\n",
       "                         &#x27;max_depth&#x27;: [3, 6, 10],\n",
       "                         &#x27;n_estimators&#x27;: [100, 200, 500]},\n",
       "             scoring=&#x27;neg_mean_squared_error&#x27;, verbose=2)</pre><b>In a Jupyter environment, please rerun this cell to show the HTML representation or trust the notebook. <br />On GitHub, the HTML representation is unable to render, please try loading this page with nbviewer.org.</b></div><div class=\"sk-container\" hidden><div class=\"sk-item sk-dashed-wrapped\"><div class=\"sk-label-container\"><div class=\"sk-label fitted sk-toggleable\"><input class=\"sk-toggleable__control sk-hidden--visually\" id=\"sk-estimator-id-1\" type=\"checkbox\" ><label for=\"sk-estimator-id-1\" class=\"sk-toggleable__label fitted sk-toggleable__label-arrow fitted\">&nbsp;&nbsp;GridSearchCV<a class=\"sk-estimator-doc-link fitted\" rel=\"noreferrer\" target=\"_blank\" href=\"https://scikit-learn.org/1.5/modules/generated/sklearn.model_selection.GridSearchCV.html\">?<span>Documentation for GridSearchCV</span></a><span class=\"sk-estimator-doc-link fitted\">i<span>Fitted</span></span></label><div class=\"sk-toggleable__content fitted\"><pre>GridSearchCV(cv=KFold(n_splits=3, random_state=4354, shuffle=True),\n",
       "             estimator=XGBRegressor(base_score=None, booster=None,\n",
       "                                    callbacks=None, colsample_bylevel=None,\n",
       "                                    colsample_bynode=None,\n",
       "                                    colsample_bytree=None, device=None,\n",
       "                                    early_stopping_rounds=None,\n",
       "                                    enable_categorical=False, eval_metric=None,\n",
       "                                    feature_types=None, gamma=None,\n",
       "                                    grow_policy=None, importance_type=None,\n",
       "                                    in...\n",
       "                                    max_cat_to_onehot=None, max_delta_step=None,\n",
       "                                    max_depth=None, max_leaves=None,\n",
       "                                    min_child_weight=None, missing=nan,\n",
       "                                    monotone_constraints=None,\n",
       "                                    multi_strategy=None, n_estimators=None,\n",
       "                                    n_jobs=None, num_parallel_tree=None,\n",
       "                                    random_state=4354, ...),\n",
       "             n_jobs=-1,\n",
       "             param_grid={&#x27;learning_rate&#x27;: [0.01, 0.1, 0.3],\n",
       "                         &#x27;max_depth&#x27;: [3, 6, 10],\n",
       "                         &#x27;n_estimators&#x27;: [100, 200, 500]},\n",
       "             scoring=&#x27;neg_mean_squared_error&#x27;, verbose=2)</pre></div> </div></div><div class=\"sk-parallel\"><div class=\"sk-parallel-item\"><div class=\"sk-item\"><div class=\"sk-label-container\"><div class=\"sk-label fitted sk-toggleable\"><input class=\"sk-toggleable__control sk-hidden--visually\" id=\"sk-estimator-id-2\" type=\"checkbox\" ><label for=\"sk-estimator-id-2\" class=\"sk-toggleable__label fitted sk-toggleable__label-arrow fitted\">best_estimator_: XGBRegressor</label><div class=\"sk-toggleable__content fitted\"><pre>XGBRegressor(base_score=None, booster=None, callbacks=None,\n",
       "             colsample_bylevel=None, colsample_bynode=None,\n",
       "             colsample_bytree=None, device=None, early_stopping_rounds=None,\n",
       "             enable_categorical=False, eval_metric=None, feature_types=None,\n",
       "             gamma=None, grow_policy=None, importance_type=None,\n",
       "             interaction_constraints=None, learning_rate=0.1, max_bin=None,\n",
       "             max_cat_threshold=None, max_cat_to_onehot=None,\n",
       "             max_delta_step=None, max_depth=3, max_leaves=None,\n",
       "             min_child_weight=None, missing=nan, monotone_constraints=None,\n",
       "             multi_strategy=None, n_estimators=500, n_jobs=None,\n",
       "             num_parallel_tree=None, random_state=4354, ...)</pre></div> </div></div><div class=\"sk-serial\"><div class=\"sk-item\"><div class=\"sk-estimator fitted sk-toggleable\"><input class=\"sk-toggleable__control sk-hidden--visually\" id=\"sk-estimator-id-3\" type=\"checkbox\" ><label for=\"sk-estimator-id-3\" class=\"sk-toggleable__label fitted sk-toggleable__label-arrow fitted\">XGBRegressor</label><div class=\"sk-toggleable__content fitted\"><pre>XGBRegressor(base_score=None, booster=None, callbacks=None,\n",
       "             colsample_bylevel=None, colsample_bynode=None,\n",
       "             colsample_bytree=None, device=None, early_stopping_rounds=None,\n",
       "             enable_categorical=False, eval_metric=None, feature_types=None,\n",
       "             gamma=None, grow_policy=None, importance_type=None,\n",
       "             interaction_constraints=None, learning_rate=0.1, max_bin=None,\n",
       "             max_cat_threshold=None, max_cat_to_onehot=None,\n",
       "             max_delta_step=None, max_depth=3, max_leaves=None,\n",
       "             min_child_weight=None, missing=nan, monotone_constraints=None,\n",
       "             multi_strategy=None, n_estimators=500, n_jobs=None,\n",
       "             num_parallel_tree=None, random_state=4354, ...)</pre></div> </div></div></div></div></div></div></div></div></div>"
      ]
     },
     "execution_count": 8,
     "metadata": {},
     "output_type": "execute_result"
    }
   ],
   "execution_count": 8
  },
  {
   "cell_type": "code",
   "id": "d98fb503-6e6f-42dd-b13e-6f96adf5f0aa",
   "metadata": {
    "ExecuteTime": {
     "end_time": "2024-09-19T13:49:52.027904Z",
     "start_time": "2024-09-19T13:49:52.002379Z"
    }
   },
   "source": [
    "model = grids['XGBoost']\n",
    "y_hat = model.predict(X_test)"
   ],
   "outputs": [],
   "execution_count": 9
  },
  {
   "cell_type": "code",
   "id": "6e58ec51-9138-4859-823c-0f088bc95bcb",
   "metadata": {
    "ExecuteTime": {
     "end_time": "2024-09-19T13:49:52.086632Z",
     "start_time": "2024-09-19T13:49:52.077121Z"
    }
   },
   "source": [
    "#import necessary libraries\n",
    "from sklearn.metrics import mean_squared_error\n",
    "from math import sqrt\n",
    "\n",
    "#calculate RMSE\n",
    "sqrt(mean_squared_error(y_test, y_hat)) "
   ],
   "outputs": [
    {
     "data": {
      "text/plain": [
       "0.11326831658625837"
      ]
     },
     "execution_count": 10,
     "metadata": {},
     "output_type": "execute_result"
    }
   ],
   "execution_count": 10
  },
  {
   "cell_type": "code",
   "id": "1645ccb7-0cce-423e-8e48-f167bdb90318",
   "metadata": {
    "ExecuteTime": {
     "end_time": "2024-09-19T13:49:52.193737Z",
     "start_time": "2024-09-19T13:49:52.177611Z"
    }
   },
   "source": [
    "rand_vals=np.random.choice(X_test.shape[0], size=15, replace=False)\n",
    "rand_vals"
   ],
   "outputs": [
    {
     "data": {
      "text/plain": [
       "array([ 93, 104, 246, 153, 180,  65, 163, 115, 288,   7, 167,  88, 198,\n",
       "         0, 112])"
      ]
     },
     "execution_count": 11,
     "metadata": {},
     "output_type": "execute_result"
    }
   ],
   "execution_count": 11
  },
  {
   "cell_type": "code",
   "id": "af383f25-1c64-4988-aa8f-73472c9747b5",
   "metadata": {
    "ExecuteTime": {
     "end_time": "2024-09-19T13:49:52.249952Z",
     "start_time": "2024-09-19T13:49:52.238743Z"
    }
   },
   "source": [
    "for i, index in enumerate(rand_vals):\n",
    "    predict_index = y_hat[index]\n",
    "    true_index = y_test.to_numpy()[index]\n",
    "    print (f'{index}: predict={predict_index} / true={true_index}')"
   ],
   "outputs": [
    {
     "name": "stdout",
     "output_type": "stream",
     "text": [
      "93: predict=11.497026443481445 / true=11.612779849672751\n",
      "104: predict=12.872812271118164 / true=13.07107218827772\n",
      "246: predict=11.9976806640625 / true=11.707677772181546\n",
      "153: predict=12.19303035736084 / true=12.175618592671356\n",
      "180: predict=11.462071418762207 / true=11.571203807011969\n",
      "65: predict=11.761828422546387 / true=11.798111925972618\n",
      "163: predict=11.881453514099121 / true=11.938199736300925\n",
      "115: predict=12.259053230285645 / true=12.301387370778713\n",
      "288: predict=12.438164710998535 / true=12.373707715234994\n",
      "7: predict=11.431992530822754 / true=11.302216779257382\n",
      "167: predict=11.831437110900879 / true=11.827743504053695\n",
      "88: predict=12.112722396850586 / true=12.154784614286667\n",
      "198: predict=11.283556938171387 / true=11.288543647320601\n",
      "0: predict=11.912748336791992 / true=11.841423131921784\n",
      "112: predict=12.193976402282715 / true=12.098854850641\n"
     ]
    }
   ],
   "execution_count": 12
  },
  {
   "cell_type": "code",
   "id": "6c340072-dc3c-471f-8d59-afcadb382818",
   "metadata": {
    "ExecuteTime": {
     "end_time": "2024-09-19T13:49:52.549645Z",
     "start_time": "2024-09-19T13:49:52.295578Z"
    }
   },
   "source": [
    "fig, ax1 = plt.subplots()\n",
    "plt.title('Prediction Delta')\n",
    "plt.ylabel('Delta')\n",
    "plt.xlabel('Index')\n",
    "ax1.plot(np.subtract(y_test.to_numpy(),y_hat), color='red', linestyle='-')"
   ],
   "outputs": [
    {
     "data": {
      "text/plain": [
       "[<matplotlib.lines.Line2D at 0x143ca5f3e50>]"
      ]
     },
     "execution_count": 13,
     "metadata": {},
     "output_type": "execute_result"
    },
    {
     "data": {
      "text/plain": [
       "<Figure size 640x480 with 1 Axes>"
      ],
      "image/png": "[encoded data removed]"
     },
     "metadata": {},
     "output_type": "display_data"
    }
   ],
   "execution_count": 13
  },
  {
   "cell_type": "code",
   "id": "ad4b2e8e-f254-47ba-9c6a-774f800a0e98",
   "metadata": {
    "ExecuteTime": {
     "end_time": "2024-09-19T13:49:52.593628Z",
     "start_time": "2024-09-19T13:49:52.580230Z"
    }
   },
   "source": [],
   "outputs": [],
   "execution_count": null
  },
  {
   "cell_type": "code",
   "id": "ebe666cd-44ad-4411-9c93-ce467272f6f0",
   "metadata": {
    "ExecuteTime": {
     "end_time": "2024-09-19T13:49:52.635212Z",
     "start_time": "2024-09-19T13:49:52.625053Z"
    }
   },
   "source": [],
   "outputs": [],
   "execution_count": null
  }
 ],
 "metadata": {
  "kernelspec": {
   "display_name": "Python 3 (ipykernel)",
   "language": "python",
   "name": "python3"
  },
  "language_info": {
   "codemirror_mode": {
    "name": "ipython",
    "version": 3
   },
   "file_extension": ".py",
   "mimetype": "text/x-python",
   "name": "python",
   "nbconvert_exporter": "python",
   "pygments_lexer": "ipython3",
   "version": "3.10.8"
  }
 },
 "nbformat": 4,
 "nbformat_minor": 5
}
