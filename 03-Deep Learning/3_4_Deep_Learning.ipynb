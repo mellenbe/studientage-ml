{
 "cells": [
  {
   "cell_type": "code",
   "execution_count": 2,
   "metadata": {
    "ExecuteTime": {
     "end_time": "2024-04-02T15:31:39.873737Z",
     "start_time": "2024-04-02T15:31:37.331712Z"
    }
   },
   "outputs": [
    {
     "name": "stderr",
     "output_type": "stream",
     "text": [
      "2024-04-02 17:31:37.406662: I tensorflow/core/platform/cpu_feature_guard.cc:182] This TensorFlow binary is optimized to use available CPU instructions in performance-critical operations.\n",
      "To enable the following instructions: SSE4.1 SSE4.2 AVX AVX2 FMA, in other operations, rebuild TensorFlow with the appropriate compiler flags.\n"
     ]
    }
   ],
   "source": [
    "import numpy as np\n",
    "from tensorflow import keras\n",
    "from keras import layers\n",
    "\n",
    "import numpy as np\n",
    "import matplotlib.pyplot as plt\n",
    "import seaborn\n",
    "from matplotlib.pyplot import figure"
   ]
  },
  {
   "cell_type": "markdown",
   "metadata": {
    "collapsed": false
   },
   "source": [
    "# Daten Laden (mnist Datensatz)"
   ]
  },
  {
   "cell_type": "code",
   "execution_count": 3,
   "metadata": {
    "collapsed": false,
    "ExecuteTime": {
     "end_time": "2024-04-02T15:31:42.036814Z",
     "start_time": "2024-04-02T15:31:41.795612Z"
    }
   },
   "outputs": [],
   "source": [
    "# a) Daten laden (mnist Data-Set)\n",
    "# b) Test-Train-Split durchführen\n",
    "# mnist \"old\" - number 0..9\n",
    "# (x_train, y_train), (x_test, y_test) = keras.datasets.mnist.load_data()\n",
    "\n",
    "# minist \"new\" - based on fashion images. same data structure. different (more sophisticated) content.\n",
    "(x_train, y_train), (x_test, y_test) = keras.datasets.fashion_mnist.load_data()\n"
   ]
  },
  {
   "cell_type": "markdown",
   "metadata": {
    "collapsed": false
   },
   "source": [
    "# Daten vorbereiten\n",
    "\n",
    "Im Machine Learning muss man in der Regel die Daten vorbereiten und aufbereiten.\n",
    "Hierbei muss sichergestellt werden, dass die Daten fürs Training geeignet sind."
   ]
  },
  {
   "cell_type": "code",
   "execution_count": 4,
   "metadata": {
    "ExecuteTime": {
     "end_time": "2024-04-02T15:31:43.968272Z",
     "start_time": "2024-04-02T15:31:43.865701Z"
    }
   },
   "outputs": [
    {
     "name": "stdout",
     "output_type": "stream",
     "text": [
      "60000 train samples\n",
      "10000 test samples\n",
      "x_train shape: (60000, 28, 28, 1)\n",
      "y_train shape: (60000, 10)\n"
     ]
    }
   ],
   "source": [
    "# Model / data parameters\n",
    "num_classes = 10\n",
    "input_shape = (28, 28, 1)\n",
    "\n",
    "# Scale images to the [0, 1] range\n",
    "x_train = x_train.astype(\"float32\") / 255\n",
    "x_test = x_test.astype(\"float32\") / 255\n",
    "# Make sure images have shape (28, 28, 1)\n",
    "x_train = np.expand_dims(x_train, -1)\n",
    "x_test = np.expand_dims(x_test, -1)\n",
    "print(x_train.shape[0], \"train samples\")\n",
    "print(x_test.shape[0], \"test samples\")\n",
    "\n",
    "# convert class vectors to binary class matrices\n",
    "y_train = keras.utils.to_categorical(y_train, num_classes)\n",
    "y_test = keras.utils.to_categorical(y_test, num_classes)\n",
    "\n",
    "# give some shape infos\n",
    "print(\"x_train shape:\", x_train.shape)\n",
    "print(\"y_train shape:\", y_train.shape)\n"
   ]
  },
  {
   "cell_type": "markdown",
   "metadata": {
    "collapsed": false
   },
   "source": [
    "# Ausgabe von Beispiel-Daten\n",
    "\n",
    "Folgender Code dient (lediglich) dazu, einige zufällig ausgewählte Beispiel-Bilder und deren Annotation anzuzeigen."
   ]
  },
  {
   "cell_type": "code",
   "execution_count": 5,
   "metadata": {
    "ExecuteTime": {
     "end_time": "2024-04-02T15:31:48.901451Z",
     "start_time": "2024-04-02T15:31:48.410442Z"
    }
   },
   "outputs": [
    {
     "data": {
      "text/plain": "<Figure size 1000x300 with 4 Axes>",
      "image/png": "[encoded data removed]"
     },
     "metadata": {},
     "output_type": "display_data"
    }
   ],
   "source": [
    "seaborn.set_style('white')\n",
    "fig, axs = plt.subplots(nrows=1, ncols=4, figsize=(10,3))\n",
    "\n",
    "# Empty list containers to collect image infos\n",
    "images=[None]*4\n",
    "y_images=[None]*4\n",
    "\n",
    "# Grap some random images and y_test values\n",
    "for idx,image_nr in enumerate([10,758,456,1209]):\n",
    "    images[idx]=x_test[image_nr]\n",
    "    y_images[idx]=y_test[image_nr]\n",
    "\n",
    "# Print images and y_test values\n",
    "for i, ax in enumerate(axs.flatten()):\n",
    "    plt.sca(ax)\n",
    "    plt.imshow(images[i])\n",
    "    plt.title(y_images[i].astype(int))\n",
    "\n",
    "# Visualize images\n",
    "plt.suptitle('Beispiel-Bilder mit Annotation')\n",
    "plt.show()"
   ]
  },
  {
   "cell_type": "markdown",
   "metadata": {
    "collapsed": false
   },
   "source": [
    "# Ein Neuronales Netz\n",
    "\n",
    "Neuronale Netze bestehen aus sogenannten Neuronen - das sind letztlich mathematische Funktionen -, die in Ebenen angeordnet werden.\n",
    "\n",
    "![image](../img/neural_network.png)"
   ]
  },
  {
   "cell_type": "markdown",
   "metadata": {
    "collapsed": false
   },
   "source": [
    "# Klassifikation mit Hilfe einer Regression\n",
    "\n",
    "![Klassifikation](../img/klassifikation.png)"
   ]
  },
  {
   "cell_type": "markdown",
   "metadata": {
    "collapsed": false
   },
   "source": [
    "# Aufbau eines Neuronalen Netzes mit Hilfe von Keras\n",
    "\n",
    "Keras ist ein sehr stark abstrahierendes Framework, mit dessen Hilfe neuronale Netze einfach erstellt, trainiert und angewendet werden können."
   ]
  },
  {
   "cell_type": "code",
   "execution_count": 6,
   "metadata": {
    "ExecuteTime": {
     "end_time": "2024-04-02T15:31:55.574273Z",
     "start_time": "2024-04-02T15:31:55.509978Z"
    }
   },
   "outputs": [
    {
     "name": "stdout",
     "output_type": "stream",
     "text": [
      "Model build done.\n"
     ]
    }
   ],
   "source": [
    "model = keras.Sequential(\n",
    "    [\n",
    "        keras.Input(shape=input_shape),\n",
    "        layers.Conv2D(32, kernel_size=(3, 3), activation=\"relu\"),\n",
    "        layers.MaxPooling2D(pool_size=(2, 2)),\n",
    "        layers.Conv2D(64, kernel_size=(3, 3), activation=\"relu\"),\n",
    "        layers.MaxPooling2D(pool_size=(2, 2)),\n",
    "        layers.Flatten(),\n",
    "        layers.Dropout(0.5),\n",
    "        layers.Dense(num_classes, activation=\"softmax\"),\n",
    "    ]\n",
    ")\n",
    "print (\"Model build done.\")"
   ]
  },
  {
   "cell_type": "markdown",
   "metadata": {
    "collapsed": false
   },
   "source": [
    "# Optionale Visualisierung\n",
    "\n",
    "Es gibt eine Reihe von Frameworks, mit deren Hilfe Neuronale Netzwerke visualisiert werden können. 'visualkeras' ist ein Beispiel hierfür."
   ]
  },
  {
   "cell_type": "code",
   "execution_count": 7,
   "metadata": {
    "ExecuteTime": {
     "end_time": "2024-04-02T15:31:58.293348Z",
     "start_time": "2024-04-02T15:31:58.274338Z"
    }
   },
   "outputs": [
    {
     "data": {
      "text/plain": "<PIL.Image.Image image mode=RGBA size=521x139>",
      "image/png": "[encoded data removed]"
     },
     "execution_count": 7,
     "metadata": {},
     "output_type": "execute_result"
    }
   ],
   "source": [
    "import visualkeras\n",
    "\n",
    "visualkeras.layered_view(model)\n"
   ]
  },
  {
   "cell_type": "markdown",
   "metadata": {
    "collapsed": false
   },
   "source": [
    "# Training des Neuronalen Netzes\n",
    "\n",
    "Ein mit Hife von Keras erstelltes Neuronales Netzwerk kann mit nur einem einzigen Befehl - dem Befehl 'fit' - trainiert werden.\n",
    "Natürlich gibt es für die (spätere) Optimierung sehr viele Möglichkeiten zur Anpassung und Konfiguration.\n",
    "\n",
    "## Keras ist ein leichtgewichtiger Einstieg für Anfänger:innen!"
   ]
  },
  {
   "cell_type": "code",
   "execution_count": 8,
   "metadata": {
    "ExecuteTime": {
     "end_time": "2024-04-02T15:32:28.097266Z",
     "start_time": "2024-04-02T15:32:00.503574Z"
    }
   },
   "outputs": [
    {
     "name": "stdout",
     "output_type": "stream",
     "text": [
      "Epoch 1/3\n",
      "422/422 [==============================] - 9s 20ms/step - loss: 0.7012 - accuracy: 0.7443 - val_loss: 0.4407 - val_accuracy: 0.8387\n",
      "Epoch 2/3\n",
      "422/422 [==============================] - 9s 22ms/step - loss: 0.4487 - accuracy: 0.8398 - val_loss: 0.3777 - val_accuracy: 0.8668\n",
      "Epoch 3/3\n",
      "422/422 [==============================] - 9s 22ms/step - loss: 0.4004 - accuracy: 0.8585 - val_loss: 0.3651 - val_accuracy: 0.8635\n"
     ]
    },
    {
     "data": {
      "text/plain": "<keras.callbacks.History at 0x1d253d420>"
     },
     "execution_count": 8,
     "metadata": {},
     "output_type": "execute_result"
    }
   ],
   "source": [
    "batch_size = 128\n",
    "epochs = 3\n",
    "\n",
    "model.compile(loss=\"categorical_crossentropy\", optimizer=\"adam\", metrics=[\"accuracy\"])\n",
    "\n",
    "model.fit(x_train, y_train, batch_size=batch_size, epochs=epochs, validation_split=0.1)"
   ]
  },
  {
   "cell_type": "markdown",
   "metadata": {
    "collapsed": false
   },
   "source": [
    "# Verlust des Netzwerkes berechnen.\n",
    "\n",
    "Die unten gezeigte Variable 'score' enthält zwei Werte: Den Verlust und die sogenannte accuracy (engl.: Genauigkeit) - das ist eine von mehreren möglichen Metriken zum Messen der Güte eines ML Modells."
   ]
  },
  {
   "cell_type": "code",
   "execution_count": 9,
   "metadata": {
    "ExecuteTime": {
     "end_time": "2024-04-02T15:32:38.634168Z",
     "start_time": "2024-04-02T15:32:37.121500Z"
    }
   },
   "outputs": [
    {
     "name": "stdout",
     "output_type": "stream",
     "text": [
      "Test loss: 0.3840058445930481\n",
      "Test accuracy: 0.8603000044822693\n"
     ]
    }
   ],
   "source": [
    "score = model.evaluate(x_test, y_test, verbose=0)\n",
    "print(\"Test loss:\", score[0])\n",
    "print(\"Test accuracy:\", score[1])"
   ]
  },
  {
   "cell_type": "markdown",
   "metadata": {
    "collapsed": false
   },
   "source": [
    "# Trainiertes Neuronales Netz anwenden\n",
    "\n",
    "Im nachfolgenden Code wird nun das fertig trainierte ML Modell auf die zuvor zurückgehaltenen Test-Daten angewendet.\n",
    "Vergleicht man die Vorhersagen des Modells (y_pred) für die dem Modell unbekannten Test-Daten mit den zugehörigen tatsächlichen Annotationen, dann kann man Aussagen zur Generalisierungsfähigkeit und Güte dieses Modells machen."
   ]
  },
  {
   "cell_type": "code",
   "execution_count": 10,
   "metadata": {
    "ExecuteTime": {
     "end_time": "2024-04-02T15:32:50.601780Z",
     "start_time": "2024-04-02T15:32:48.909602Z"
    }
   },
   "outputs": [
    {
     "name": "stdout",
     "output_type": "stream",
     "text": [
      "313/313 [==============================] - 2s 5ms/step\n"
     ]
    }
   ],
   "source": [
    "# Predict classes for Test-Images\n",
    "y_pred=model.predict(x_test)"
   ]
  },
  {
   "cell_type": "markdown",
   "metadata": {
    "collapsed": false
   },
   "source": [
    "# Visualisierung der Vorhersagen\n",
    "\n",
    "Im nachfolgenden optionalen Beispiel wird für einige zufällige Daten die tatsächliche Annotation mit der Vorhersage verglichen."
   ]
  },
  {
   "cell_type": "code",
   "execution_count": 11,
   "metadata": {
    "ExecuteTime": {
     "end_time": "2024-04-02T15:32:53.086135Z",
     "start_time": "2024-04-02T15:32:52.612236Z"
    }
   },
   "outputs": [
    {
     "data": {
      "text/plain": "<Figure size 1000x300 with 4 Axes>",
      "image/png": "[encoded data removed]"
     },
     "metadata": {},
     "output_type": "display_data"
    }
   ],
   "source": [
    "seaborn.set_style('white')\n",
    "fig, axs = plt.subplots(nrows=1, ncols=4, figsize=(10,3))\n",
    "\n",
    "# Empty list containers to collect image infos\n",
    "images=[None]*4\n",
    "y_images=[None]*4\n",
    "y_images_pred=[None]*4\n",
    "\n",
    "# Grap some random images and y_test values\n",
    "for idx,image_nr in enumerate([10,758,456,1209]):\n",
    "    images[idx]=x_test[image_nr]\n",
    "    y_images[idx]=y_test[image_nr]\n",
    "    y_images_pred[idx]=y_pred[image_nr]\n",
    "\n",
    "# Print images and y_test values\n",
    "headline=np.arange(start=0, stop=10, step=1)\n",
    "\n",
    "for i, ax in enumerate(axs.flatten()):\n",
    "    plt.sca(ax)\n",
    "    plt.imshow(images[i])\n",
    "    plt.title(\"{}\\n{}\\n{}\".format(headline, y_images[i].astype(int),y_images_pred[i].round().astype(int)))\n",
    "\n",
    "# Visualize images\n",
    "plt.show()"
   ]
  },
  {
   "cell_type": "markdown",
   "metadata": {
    "collapsed": false
   },
   "source": [
    "# Kaggle House Prices mit Deep Learning\n",
    "\n",
    "https://www.kaggle.com/code/dinasinclair/deep-learning-with-keras-housing-prices"
   ]
  },
  {
   "cell_type": "markdown",
   "metadata": {
    "collapsed": false
   },
   "source": [
    "# Quellen\n",
    "\n",
    "https://keras.io/examples/vision/mnist_convnet/\n",
    "\n",
    "Paaß, Hecker, Künstliche Intelligenz, Springer Nature 2020, https://doi.org/10.1007/978-3-658-30211-5\n",
    "\n",
    "https://blog.rootcodelabs.com/neural-networks-the-21st-century-artist/\n",
    "\n",
    "https://keras.io/\n",
    "\n",
    "https://www.analyticsvidhya.com/blog/2022/03/visualize-deep-learning-models-using-visualkeras/\n",
    "\n",
    "https://www.bualabs.com/\n",
    "\n",
    "und eigene Darstellungen.\n",
    "\n"
   ]
  },
  {
   "cell_type": "code",
   "execution_count": null,
   "metadata": {
    "collapsed": false
   },
   "outputs": [],
   "source": []
  }
 ],
 "metadata": {
  "kernelspec": {
   "display_name": "Python 3 (ipykernel)",
   "language": "python",
   "name": "python3"
  },
  "language_info": {
   "codemirror_mode": {
    "name": "ipython",
    "version": 3
   },
   "file_extension": ".py",
   "mimetype": "text/x-python",
   "name": "python",
   "nbconvert_exporter": "python",
   "pygments_lexer": "ipython3",
   "version": "3.10.13"
  },
  "vscode": {
   "interpreter": {
    "hash": "3ad933181bd8a04b432d3370b9dc3b0662ad032c4dfaa4e4f1596c548f763858"
   }
  }
 },
 "nbformat": 4,
 "nbformat_minor": 4
}
