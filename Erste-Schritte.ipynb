{
 "cells": [
  {
   "cell_type": "code",
   "id": "initial_id",
   "metadata": {
    "collapsed": true,
    "ExecuteTime": {
     "end_time": "2024-09-19T13:34:58.246210Z",
     "start_time": "2024-09-19T13:34:58.230463Z"
    }
   },
   "source": [
    "# Probieren Sie die Funktionsfähigkeit Ihrer Installation aus:\n",
    "import pandas as pd\n",
    "import numpy as np\n",
    "import matplotlib.pyplot as plt  # Matlab-style plotting\n",
    "import seaborn as sns\n",
    "from keras.callbacks import ModelCheckpoint, History\n",
    "from keras.models import Sequential\n",
    "from keras.layers import Dense, Activation, Flatten\n",
    "from sklearn.model_selection import train_test_split\n",
    "import sklearn as skl\n",
    "import keras as keras\n",
    "import tensorflow as tf"
   ],
   "outputs": [],
   "execution_count": 11
  },
  {
   "metadata": {
    "ExecuteTime": {
     "end_time": "2024-09-19T13:34:58.278079Z",
     "start_time": "2024-09-19T13:34:58.262334Z"
    }
   },
   "cell_type": "code",
   "source": "print (\"Willkommen zu den Studientagen Machine Learning!\")",
   "id": "2e18b866e7c0d3ac",
   "outputs": [
    {
     "name": "stdout",
     "output_type": "stream",
     "text": [
      "Willkommen zu den Studientagen Machine Learning!\n"
     ]
    }
   ],
   "execution_count": 12
  },
  {
   "metadata": {
    "ExecuteTime": {
     "end_time": "2024-09-19T13:34:58.406028Z",
     "start_time": "2024-09-19T13:34:58.389838Z"
    }
   },
   "cell_type": "code",
   "source": [
    "print(f'Tensorflow hat Version {tf.__version__}')\n",
    "print(f'Pandas hat Version {pd.__version__}')\n",
    "print(f'Numpy hat Version {np.__version__}')\n",
    "print(f'Keras hat Version {keras.__version__}')\n",
    "print(f'SciKit Learn hat Version {skl.__version__}')"
   ],
   "id": "452e3ff6bfa29542",
   "outputs": [
    {
     "name": "stdout",
     "output_type": "stream",
     "text": [
      "Tensorflow hat Version 2.10.0\n",
      "Pandas hat Version 2.0.3\n",
      "Numpy hat Version 1.23.5\n",
      "Keras hat Version 2.10.0\n",
      "SciKit Learn hat Version 1.5.2\n"
     ]
    }
   ],
   "execution_count": 13
  },
  {
   "metadata": {
    "ExecuteTime": {
     "end_time": "2024-09-19T13:34:58.541874Z",
     "start_time": "2024-09-19T13:34:58.499760Z"
    }
   },
   "cell_type": "code",
   "source": "",
   "id": "120a7173851cd844",
   "outputs": [],
   "execution_count": null
  }
 ],
 "metadata": {
  "kernelspec": {
   "display_name": "Python 3",
   "language": "python",
   "name": "python3"
  },
  "language_info": {
   "codemirror_mode": {
    "name": "ipython",
    "version": 2
   },
   "file_extension": ".py",
   "mimetype": "text/x-python",
   "name": "python",
   "nbconvert_exporter": "python",
   "pygments_lexer": "ipython2",
   "version": "2.7.6"
  }
 },
 "nbformat": 4,
 "nbformat_minor": 5
}
