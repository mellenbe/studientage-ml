{
 "cells": [
  {
   "cell_type": "markdown",
   "id": "2616951c6fa7bad",
   "metadata": {
    "collapsed": false
   },
   "source": [
    "# Aufgaben \n",
    "\n",
    "- Zeichnen Sie einen Scatterplot, der den Zusammenhang zwischen 1stFlrSF (Fläche im Erdgeschoss) bzw. 2ndFlrSF (Fläche im ersten OG) und dem Verkaufspreis dartellt\n",
    "- Was fällt Ihnen für 2ndFlrSF auf?\n",
    "- Welche Empfehlungen geben Sie für 1stFlrSF\n",
    "- Wir haben für GrLivArea Ausreißer entfernt. Welchen Einfluss hat dies auf die Ausreißer bei 1stFlrSF?"
   ]
  },
  {
   "cell_type": "code",
   "execution_count": null,
   "id": "5d8486fce530f356",
   "metadata": {
    "collapsed": false
   },
   "outputs": [],
   "source": []
  }
 ],
 "metadata": {
  "kernelspec": {
   "display_name": "Python 3",
   "language": "python",
   "name": "python3"
  },
  "language_info": {
   "codemirror_mode": {
    "name": "ipython",
    "version": 2
   },
   "file_extension": ".py",
   "mimetype": "text/x-python",
   "name": "python",
   "nbconvert_exporter": "python",
   "pygments_lexer": "ipython2",
   "version": "2.7.6"
  }
 },
 "nbformat": 4,
 "nbformat_minor": 5
}
