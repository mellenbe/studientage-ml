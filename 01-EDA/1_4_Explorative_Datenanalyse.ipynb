{
 "cells": [
  {
   "cell_type": "markdown",
   "source": [
    "# Explorative Datenanalyse (EDA)\n",
    "Die explorative Datenanalyse (EDA) ist ein Ansatz im Data Science, der sich darauf konzentriert, die Hauptcharakteristika von Daten zu entdecken und Zusammenhänge zu verstehen, oft bevor formale Modellierungs- oder Hypothesentests durchgeführt werden. Die EDA ist besonders nützlich, um einen ersten Überblick über den Datensatz zu gewinnen und um mögliche Richtungen für tiefere Analysen zu erkennen. [^2]\n",
    "\n",
    "### Methoden der EDA\n",
    "-    **Datenvisualisierung**: EDA nutzt häufig visuelle Methoden, um Muster, Trends und Anomalien in den Daten zu erkennen. Dazu gehören Diagramme wie Histogramme, Boxplots, Streudiagramme und komplexe visuelle Darstellungen.\n",
    "\n",
    "-    **Deskriptive Statistik**: Grundlegende statistische Maße wie Mittelwert, Median, Modus, Standardabweichung und Quartile werden verwendet, um die zentralen Tendenzen und die Variabilität in den Daten zu verstehen.\n",
    "\n",
    "-    **Bereinigung der Daten**: In der EDA wird versucht, Probleme in den Daten wie fehlende Werte, Inkonsistenzen oder falsche Formate zu identifizieren und zu korrigieren.\n",
    "\n",
    "-    **Bereinigung von Anomalien**: In der EDA wird versucht, Ausreißer oder ungewöhnliche Daten zu identifizieren, um den Datensatz vor der weiteren Bearbeitung zu bereinigen.\n",
    "\n",
    "### Ziele der EDA\n",
    "-    **Testen von Annahmen**: Vor der weiteren Verwendung von Daten ist es wichtig, bestimmte Annahmen über die Daten zu überprüfen, wie Normalverteilung, oder die Unabhängigkeit der Beobachtungen.\n",
    "\n",
    "-    **Entdeckung von Strukturen**: Bei der EDA geht es auch darum, Strukturen in den Daten zu erkennen, die Hinweise auf zugrunde liegende Beziehungen oder Gruppierungen geben können.\n",
    "\n",
    "-    **Formulierung von Hypothesen**: Basierend auf den Erkenntnissen, die während der EDA gewonnen wurden, können Hypothesen für weitergehende Analysen und Tests formuliert werden.\n",
    "   \n",
    "-    **Kontextverständnis**: EDA hilft nicht nur bei der Analyse der Daten selbst, sondern auch dabei, ein besseres Verständnis für den Kontext, aus dem die Daten stammen, zu entwickeln.\n",
    "\n",
    "[^2]: Nach einer Idee von ChatGPT"
   ],
   "metadata": {
    "collapsed": false
   },
   "id": "f022f808b2d0d467"
  },
  {
   "cell_type": "markdown",
   "source": [
    "# EDA für das House Prices Beispiel\n",
    "## Features\n",
    "Features sind Eigenschaften eines Datensatzes. Letztlich handelt es sich um die Spalten, jedoch müssen wird die Spalten einer genauen Analyse unterziehen.\n",
    "\n",
    "**Erst wenn die Daten erschlossen und bereinigt sind, sprechen wir von Features.**"
   ],
   "metadata": {
    "collapsed": false
   },
   "id": "dbab58ef703703aa"
  },
  {
   "cell_type": "markdown",
   "source": [
    "## Datentypen\n",
    "\n",
    "Die Bestimmung der Datentypen für die Features ist elementar. Der Datentyp entscheidet, ob die Daten vor der weiteren Verarbeitung angepasst bzw. überarbeitet werden müssen, um sinnvoll einem Algorithmus des maschinellen Lernens zugeführt werden zu können.\n",
    "\n",
    "Betrachten Sie folgendes Beispiel:\n",
    "\n",
    "Angenommen in einer Spalte des Datensatzes wäre eine Tierart gespeichert. Eine einfache Herangehensweise wäre, solche sogenannten kategorischen Daten durch eine Zahl zu ersetzen, z. B. 1 für \"Katze\", 2 für \"Pferd\", 3 für \"Giraffe\" usw. Nun gehen allerdings die meisten ML Algorithmen davon aus, dass sich benachbarte Werte (Zahlen) ähnlicher sind als weiter entfernte Werte, d.h. solch eine Umsetzung ist nicht möglich.\n",
    "\n",
    "Betrachten wir Datentypen also genauer. Man unterscheidet zwischen numerischen Daten und kategorischen Daten, die noch weiter unterteilt werden:\n",
    "\n",
    "* **Numerische Daten**:\n",
    "    * **Diskrete Daten** (Werte, die man **zählen** kann, z. B. \"Anzahl der Zimmer\")\n",
    "    * **Kontinuierliche Daten** (Werte, die man **messen** kann, z. B. \"Verkaufspreis\" oder \"Grundstücksgröße\")\n",
    "\n",
    "* **Kategorische Daten**:\n",
    "    * **Nominale Daten** (Werte, man spricht auch von Merkmalen, die man **benennen** kann, z. B. \"Material des Dachs\")\n",
    "    * **Ordinale Daten** (Werte, die man **ordnen** kann, z. B. \"Qualität der Innenausstattung von 'einfach' bis 'excellent'\""
   ],
   "metadata": {
    "collapsed": false
   },
   "id": "dedff361f312eec1"
  },
  {
   "cell_type": "markdown",
   "source": [
    "## Erster Überblick über die Daten"
   ],
   "metadata": {
    "collapsed": false
   },
   "id": "cbb775e101a0d93f"
  },
  {
   "cell_type": "code",
   "execution_count": null,
   "outputs": [],
   "source": [
    "# Allgemeine Importfunktionen und Daten laden\n",
    "import pandas as pd\n",
    "# Numpy ist eine so genannte Bibliothek - also ein Paket von vordefinierten Funktionen -, das uns bei der Arbeit mit Zahlen und Zahlenreihen unterstützt.\n",
    "import numpy as np\n",
    "\n",
    "# Hinweis: Der Pfadname ergibt sich aus der Projektstruktur\n",
    "df = pd.read_csv('../data/house-prices-advanced-regression-techniques/train.csv')\n",
    "df_test = pd.read_csv('../data/house-prices-advanced-regression-techniques/test.csv')\n",
    "\n",
    "# Dimensionen der Daten\n",
    "\n",
    "print (df.shape,df.columns)"
   ],
   "metadata": {
    "collapsed": false
   },
   "id": "5f7d645a754a7219"
  },
  {
   "cell_type": "code",
   "execution_count": null,
   "outputs": [],
   "source": [
    "print(df_test.shape, df_test.columns)"
   ],
   "metadata": {
    "collapsed": false
   },
   "id": "b023c0fc116e12e1"
  },
  {
   "cell_type": "code",
   "execution_count": null,
   "outputs": [],
   "source": [
    "# Demo Daten\n",
    "df.head(10)"
   ],
   "metadata": {
    "collapsed": false
   },
   "id": "a67adcb15fd312c6"
  },
  {
   "cell_type": "code",
   "execution_count": null,
   "outputs": [],
   "source": [
    "# Allgemeine Infos\n",
    "df.info()"
   ],
   "metadata": {
    "collapsed": false
   },
   "id": "f8b9cc5a0ecc69e1"
  },
  {
   "cell_type": "code",
   "execution_count": null,
   "outputs": [],
   "source": [
    "# Allgemeine statistische Infos\n",
    "df.describe().T"
   ],
   "metadata": {
    "collapsed": false
   },
   "id": "6c2c5ca587920f49"
  },
  {
   "cell_type": "code",
   "execution_count": null,
   "outputs": [],
   "source": [],
   "metadata": {
    "collapsed": false
   },
   "id": "7e6688632fd0d2ae"
  }
 ],
 "metadata": {
  "kernelspec": {
   "display_name": "Python 3",
   "language": "python",
   "name": "python3"
  },
  "language_info": {
   "codemirror_mode": {
    "name": "ipython",
    "version": 2
   },
   "file_extension": ".py",
   "mimetype": "text/x-python",
   "name": "python",
   "nbconvert_exporter": "python",
   "pygments_lexer": "ipython2",
   "version": "2.7.6"
  }
 },
 "nbformat": 4,
 "nbformat_minor": 5
}
