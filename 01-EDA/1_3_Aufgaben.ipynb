{
 "cells": [
  {
   "cell_type": "markdown",
   "source": [
    "# Aufgaben\n",
    "\n",
    "- Laden Sie die Daten ../../data/atlantis.csv in einen DataFrame mit namen df\n",
    "- Wieviele Zeilen und Spalten hat der DataFrame?\n",
    "- Geben Sie die Spaltentitel aus\n",
    "- Welche Datentypen haben die Daten der jeweiligen Spalten\n",
    "- Wie groß ist die durchschnittliche \"population\"?\n",
    "- Geben Sie nur Zeilen aus, mit einer Population > 25.000"
   ],
   "metadata": {
    "collapsed": false
   },
   "id": "37d0657b6bd1053c"
  },
  {
   "cell_type": "code",
   "execution_count": null,
   "outputs": [],
   "source": [],
   "metadata": {
    "collapsed": false
   },
   "id": "e59af81ba53233ae"
  }
 ],
 "metadata": {
  "kernelspec": {
   "display_name": "Python 3",
   "language": "python",
   "name": "python3"
  },
  "language_info": {
   "codemirror_mode": {
    "name": "ipython",
    "version": 2
   },
   "file_extension": ".py",
   "mimetype": "text/x-python",
   "name": "python",
   "nbconvert_exporter": "python",
   "pygments_lexer": "ipython2",
   "version": "2.7.6"
  }
 },
 "nbformat": 4,
 "nbformat_minor": 5
}
