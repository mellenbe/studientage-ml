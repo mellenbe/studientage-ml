{
 "cells": [
  {
   "cell_type": "markdown",
   "source": [
    "# git\n",
    "\n",
    "![image](../img/git.png)\n",
    "\n",
    "git ist ein so genanntes VCS - Version Control System.\n",
    "D.h. es dient dazu, verschiedene Versionen einer Software zu handhaben.\n",
    "\n",
    "Kein Softwareprojekt kommt mehr ohne ein VCS aus, man würde einfach zu schnell den Überblick verlieren.\n",
    "\n",
    "Hier ein paar (wenige) wesentliche Funktionen:\n",
    "\n",
    "- Ein zwischenstand wird mit Hilfe eines so genannten commits in git eingecheckt, s.h. dort hinterlegt\n",
    "- Anhand der commits entsteht eine übersichtliche Historie der Entwicklungsstände\n",
    "- git erlaubt (z.B. fehlerhafte) Zwischenstände wieder rückgängig zu machen\n",
    "- git hilft bei der Zusammenarbeit durch so genannte pull requests\n",
    "- werden im Team mehrere Änderungen gleichzeitig gemacht, hilft git, diese zusammenzuführen\n",
    "- durch ein VCS wird es möglich an mehreren unterschiedlichen Versionen eines Projektes gleichzeitig zu arbeiten, diese heißen 'branch'\n",
    "\n",
    "![image](../img/git_branches.png)"
   ],
   "metadata": {
    "collapsed": false
   }
  }
 ],
 "metadata": {
  "kernelspec": {
   "display_name": "Python 3",
   "language": "python",
   "name": "python3"
  },
  "language_info": {
   "codemirror_mode": {
    "name": "ipython",
    "version": 2
   },
   "file_extension": ".py",
   "mimetype": "text/x-python",
   "name": "python",
   "nbconvert_exporter": "python",
   "pygments_lexer": "ipython2",
   "version": "2.7.6"
  }
 },
 "nbformat": 4,
 "nbformat_minor": 0
}
